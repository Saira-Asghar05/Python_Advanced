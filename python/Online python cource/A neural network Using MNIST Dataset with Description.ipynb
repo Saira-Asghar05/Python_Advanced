{
 "cells": [
  {
   "cell_type": "markdown",
   "id": "124571d0",
   "metadata": {},
   "source": [
    "# Step1: Importing Libraries"
   ]
  },
  {
   "cell_type": "code",
   "execution_count": 4,
   "id": "c8aa35a3",
   "metadata": {},
   "outputs": [],
   "source": [
    "import tensorflow as tf\n",
    "import numpy as np\n",
    "import pandas as pd\n",
    "import keras\n",
    "import matplotlib.pyplot as plt\n"
   ]
  },
  {
   "cell_type": "code",
   "execution_count": 5,
   "id": "c995333f",
   "metadata": {},
   "outputs": [],
   "source": [
    "#!pip show tensorflow"
   ]
  },
  {
   "cell_type": "markdown",
   "id": "6877a86b",
   "metadata": {},
   "source": [
    "Machine Learning:\n",
    "-\n",
    "- TensorFlow (deep learning with neural networks)*\n",
    "- scikit-learn (machine learning algorithms)\n",
    "- keras (high-level neural networks API)\n",
    "\n",
    "Data Science:\n",
    "-\n",
    "- pandas (data analysis)\n",
    "- NumPy (multidimensional arrays)\n",
    "- SciPy (algorithms to use with numpy)\n",
    "- HDF5 (store & manipulate data)\n",
    "- matplotlib (data visualization)"
   ]
  },
  {
   "cell_type": "code",
   "execution_count": null,
   "id": "138fb025",
   "metadata": {},
   "outputs": [],
   "source": []
  },
  {
   "cell_type": "markdown",
   "id": "366639d3",
   "metadata": {},
   "source": [
    "# Step2: Loading Data"
   ]
  },
  {
   "cell_type": "code",
   "execution_count": null,
   "id": "5be1eab4",
   "metadata": {},
   "outputs": [],
   "source": [
    "from keras.datasets import mnist\n",
    "(train_images, train_labels), (test_images, test_labels) = mnist.load_data()\n"
   ]
  },
  {
   "cell_type": "markdown",
   "id": "c1acbb36",
   "metadata": {},
   "source": [
    "# Step3: Preprocessing Data"
   ]
  },
  {
   "cell_type": "code",
   "execution_count": null,
   "id": "9cd86039",
   "metadata": {},
   "outputs": [],
   "source": [
    "train_images.shape"
   ]
  },
  {
   "cell_type": "code",
   "execution_count": null,
   "id": "c3c87e0e",
   "metadata": {},
   "outputs": [],
   "source": [
    "train_labels.shape"
   ]
  },
  {
   "cell_type": "code",
   "execution_count": null,
   "id": "b8d12eb1",
   "metadata": {},
   "outputs": [],
   "source": [
    "test_images.shape"
   ]
  },
  {
   "cell_type": "code",
   "execution_count": null,
   "id": "9841a69c",
   "metadata": {},
   "outputs": [],
   "source": [
    "test_labels.shape"
   ]
  },
  {
   "cell_type": "code",
   "execution_count": null,
   "id": "f7678e1d",
   "metadata": {},
   "outputs": [],
   "source": [
    "test_labels[100]"
   ]
  },
  {
   "cell_type": "code",
   "execution_count": null,
   "id": "9c6b5d1f",
   "metadata": {},
   "outputs": [],
   "source": [
    "train_images.ndim"
   ]
  },
  {
   "cell_type": "code",
   "execution_count": null,
   "id": "fdb12cd0",
   "metadata": {},
   "outputs": [],
   "source": [
    "train_images[0].shape"
   ]
  },
  {
   "cell_type": "code",
   "execution_count": null,
   "id": "e0f9d71f",
   "metadata": {},
   "outputs": [],
   "source": [
    "img = train_images[10]\n",
    "type(img)"
   ]
  },
  {
   "cell_type": "code",
   "execution_count": null,
   "id": "cd43076e",
   "metadata": {},
   "outputs": [],
   "source": [
    "img.ndim"
   ]
  },
  {
   "cell_type": "code",
   "execution_count": null,
   "id": "b5d0637b",
   "metadata": {},
   "outputs": [],
   "source": [
    "import matplotlib.pyplot as plt\n",
    "plt.imshow(img, cmap=plt.cm.binary)\n",
    "plt.show()"
   ]
  },
  {
   "cell_type": "code",
   "execution_count": null,
   "id": "5467c1f3",
   "metadata": {},
   "outputs": [],
   "source": [
    "img"
   ]
  },
  {
   "cell_type": "code",
   "execution_count": null,
   "id": "9159a2f2",
   "metadata": {
    "scrolled": true
   },
   "outputs": [],
   "source": [
    "#img"
   ]
  },
  {
   "cell_type": "markdown",
   "id": "c96aa6e3",
   "metadata": {},
   "source": [
    "Before training, we’ll preprocess the data by reshaping it into the shape the network\n",
    "expects and scaling it so that all values are in the [0, 1] interval. Previously, our training images, for instance, were stored in an array of shape (60000, 28, 28) of type\n",
    "uint8 with values in the [0, 255] interval. We transform it into a float32 array of\n",
    "shape (60000, 28 * 28) with values between 0 and 1."
   ]
  },
  {
   "cell_type": "code",
   "execution_count": null,
   "id": "498ce97a",
   "metadata": {},
   "outputs": [],
   "source": [
    "28*28"
   ]
  },
  {
   "cell_type": "code",
   "execution_count": null,
   "id": "c5afcf58",
   "metadata": {},
   "outputs": [],
   "source": [
    "#Training Images\n",
    "\n",
    "train_images = train_images.reshape((60000, 28 * 28))\n",
    "train_images = train_images.astype('float32') / 255\n",
    "\n",
    "#Testing Images\n",
    "\n",
    "test_images = test_images.reshape((10000, 28 * 28))\n",
    "test_images = test_images.astype('float32') / 255"
   ]
  },
  {
   "cell_type": "code",
   "execution_count": null,
   "id": "f9843555",
   "metadata": {},
   "outputs": [],
   "source": [
    "print(train_images.shape)\n",
    "print(test_images.shape)"
   ]
  },
  {
   "cell_type": "code",
   "execution_count": null,
   "id": "3774a25f",
   "metadata": {},
   "outputs": [],
   "source": [
    "test_images.dtype"
   ]
  },
  {
   "cell_type": "code",
   "execution_count": null,
   "id": "8ff7952e",
   "metadata": {},
   "outputs": [],
   "source": []
  },
  {
   "cell_type": "markdown",
   "id": "9c43c8c0",
   "metadata": {},
   "source": [
    "# Step4: Preparing the labels"
   ]
  },
  {
   "cell_type": "code",
   "execution_count": null,
   "id": "bbe67e67",
   "metadata": {},
   "outputs": [],
   "source": []
  },
  {
   "cell_type": "code",
   "execution_count": null,
   "id": "8ce56ebe",
   "metadata": {},
   "outputs": [],
   "source": [
    "print(train_labels.shape)\n",
    "print(test_labels.shape)"
   ]
  },
  {
   "cell_type": "code",
   "execution_count": null,
   "id": "4016b0f7",
   "metadata": {},
   "outputs": [],
   "source": [
    "print(train_labels[100])\n",
    "print(test_labels[100])\n"
   ]
  },
  {
   "cell_type": "code",
   "execution_count": null,
   "id": "15e5d535",
   "metadata": {},
   "outputs": [],
   "source": [
    "from tensorflow.keras.utils import to_categorical\n",
    "train_labels = to_categorical(train_labels)\n",
    "test_labels = to_categorical(test_labels)"
   ]
  },
  {
   "cell_type": "code",
   "execution_count": null,
   "id": "6110ad07",
   "metadata": {},
   "outputs": [],
   "source": [
    "print(train_labels.shape)\n",
    "print(test_labels.shape)"
   ]
  },
  {
   "cell_type": "code",
   "execution_count": null,
   "id": "535312dc",
   "metadata": {},
   "outputs": [],
   "source": [
    "print(train_labels[100])\n",
    "print(test_labels[100])\n"
   ]
  },
  {
   "cell_type": "code",
   "execution_count": null,
   "id": "a779ba04",
   "metadata": {},
   "outputs": [],
   "source": []
  },
  {
   "cell_type": "markdown",
   "id": "9b1f010a",
   "metadata": {},
   "source": [
    "Note In machine learning:\n",
    "-\n",
    "- a category in a classification problem is called aclass.\n",
    "- Data points are called samples. \n",
    "- The class associated with a specific sample is called a label."
   ]
  },
  {
   "cell_type": "markdown",
   "id": "b97da7d1",
   "metadata": {},
   "source": [
    "# Step5: Building Network Architecture"
   ]
  },
  {
   "cell_type": "code",
   "execution_count": null,
   "id": "8544902c",
   "metadata": {},
   "outputs": [],
   "source": []
  },
  {
   "cell_type": "code",
   "execution_count": null,
   "id": "928f3f8a",
   "metadata": {},
   "outputs": [],
   "source": [
    "from keras import models\n",
    "from keras import layers\n",
    "network = models.Sequential()\n",
    "network.add(layers.Dense(512, activation='relu', input_shape=(28 * 28,)))\n",
    "network.add(layers.Dense(256, activation='relu'))\n",
    "network.add(layers.Dense(10, activation='softmax'))"
   ]
  },
  {
   "cell_type": "code",
   "execution_count": null,
   "id": "f599be52",
   "metadata": {},
   "outputs": [],
   "source": [
    "network.summary()"
   ]
  },
  {
   "cell_type": "markdown",
   "id": "fa3bf28c",
   "metadata": {},
   "source": [
    "- The core building block of neural networks is the layer\n",
    "- our model consists of a sequence of two Dense layers, which are densely connected (also called fully connected) neural layers.\n",
    "  The second (and last) layer is a 10-way softmax classification layer, which means it will return an array of 10 probability \n",
    "  scores (summing to 1). Each score will be the probability that the current digit imagebelongs to one of our 10 digit classes."
   ]
  },
  {
   "cell_type": "code",
   "execution_count": null,
   "id": "52a96609",
   "metadata": {},
   "outputs": [],
   "source": []
  },
  {
   "cell_type": "markdown",
   "id": "1209a231",
   "metadata": {},
   "source": [
    "1.RELU Activation Function:\n",
    "-\n",
    "- linear function that will output the input directly if it is positive, otherwise, it will output zero."
   ]
  },
  {
   "cell_type": "markdown",
   "id": "b5991b11",
   "metadata": {},
   "source": [
    "Optimizer\n",
    "-\n",
    "- An optimizer is a function or an algorithm that modifies the attributes of the neural network, \n",
    "  such as weights and learning rate. Thus, it helps in reducing the overall loss and improve the accuracy."
   ]
  },
  {
   "cell_type": "markdown",
   "id": "1f4aa119",
   "metadata": {},
   "source": [
    "categorical_crossentropy: \n",
    "-\n",
    "-   Used as a loss function for multi-class classification model where there are two or more output labels.\n",
    "    The output label is assigned one-hot category encoding value in form of 0s and 1"
   ]
  },
  {
   "cell_type": "code",
   "execution_count": null,
   "id": "6b677feb",
   "metadata": {},
   "outputs": [],
   "source": []
  },
  {
   "cell_type": "markdown",
   "id": "700d2e35",
   "metadata": {},
   "source": [
    "# Step6: The compilation step\n",
    "-   "
   ]
  },
  {
   "cell_type": "code",
   "execution_count": null,
   "id": "ec84daeb",
   "metadata": {},
   "outputs": [],
   "source": [
    "network.compile(optimizer=\"rmsprop\",\n",
    "                     loss=\"categorical_crossentropy\",\n",
    "                     metrics=[\"accuracy\"])"
   ]
  },
  {
   "cell_type": "code",
   "execution_count": null,
   "id": "96a1bad5",
   "metadata": {},
   "outputs": [],
   "source": []
  },
  {
   "cell_type": "markdown",
   "id": "c235289b",
   "metadata": {},
   "source": [
    "Three more things as part of the compilation step:\n",
    "-\n",
    "-  An optimizer—The mechanism through which the model will update itself based on the training data it sees, so as to improve     its performance.\n",
    "-  A loss function—How the model will be able to measure its performance on the training data, and thus how it will be able to     steer itself in the right direction.\n",
    "-  Metrics to monitor during training and testing—Here, we’ll only care about accuracy (the fraction of the images that were       correctly classified)."
   ]
  },
  {
   "cell_type": "markdown",
   "id": "7cea9db0",
   "metadata": {},
   "source": [
    "# Step7: Fitting the model"
   ]
  },
  {
   "cell_type": "code",
   "execution_count": null,
   "id": "8b9b4fa1",
   "metadata": {},
   "outputs": [],
   "source": []
  },
  {
   "cell_type": "code",
   "execution_count": null,
   "id": "672faf47",
   "metadata": {},
   "outputs": [],
   "source": [
    "60000/128  #     step per epoches"
   ]
  },
  {
   "cell_type": "code",
   "execution_count": null,
   "id": "99bdc329",
   "metadata": {},
   "outputs": [],
   "source": [
    "batch = train_images[:128]\n",
    "\n",
    "# Next batch\n",
    "\n",
    "batch = train_images[128:256]"
   ]
  },
  {
   "cell_type": "code",
   "execution_count": null,
   "id": "e17394cf",
   "metadata": {},
   "outputs": [],
   "source": []
  },
  {
   "cell_type": "code",
   "execution_count": null,
   "id": "466c90b4",
   "metadata": {},
   "outputs": [],
   "source": [
    "network.fit(train_images, train_labels, epochs=5, batch_size=128)\n"
   ]
  },
  {
   "cell_type": "code",
   "execution_count": null,
   "id": "fd6d85c7",
   "metadata": {},
   "outputs": [],
   "source": []
  },
  {
   "cell_type": "markdown",
   "id": "932ce536",
   "metadata": {},
   "source": [
    "# Step8: Test the Model"
   ]
  },
  {
   "cell_type": "code",
   "execution_count": null,
   "id": "81f1cd40",
   "metadata": {},
   "outputs": [],
   "source": []
  },
  {
   "cell_type": "code",
   "execution_count": null,
   "id": "07b024bc",
   "metadata": {},
   "outputs": [],
   "source": [
    "network.evaluate(test_images, test_labels)"
   ]
  },
  {
   "cell_type": "markdown",
   "id": "7a53aabb",
   "metadata": {},
   "source": [
    "Using the model to make predictions\n",
    "-  "
   ]
  },
  {
   "cell_type": "code",
   "execution_count": null,
   "id": "5666fe85",
   "metadata": {},
   "outputs": [],
   "source": [
    "test_digits = test_images[0:10]\n",
    "predictions = network.predict(test_digits)\n",
    "predictions[0]"
   ]
  },
  {
   "cell_type": "markdown",
   "id": "959ac013",
   "metadata": {},
   "source": [
    "- This first test digit has the highest probability score (0.99999106, almost 1) at\n",
    "  index 7, so according to our model, it must be a 7:"
   ]
  },
  {
   "cell_type": "code",
   "execution_count": null,
   "id": "7c946fa7",
   "metadata": {},
   "outputs": [],
   "source": [
    " predictions[0].argmax()"
   ]
  },
  {
   "cell_type": "code",
   "execution_count": null,
   "id": "8c7492d8",
   "metadata": {},
   "outputs": [],
   "source": [
    "predictions[0][7]"
   ]
  },
  {
   "cell_type": "code",
   "execution_count": null,
   "id": "2b0c3810",
   "metadata": {},
   "outputs": [],
   "source": []
  },
  {
   "cell_type": "markdown",
   "id": "f506abc1",
   "metadata": {},
   "source": [
    "We can check that the test label agrees:\n",
    "- "
   ]
  },
  {
   "cell_type": "code",
   "execution_count": null,
   "id": "f7c45632",
   "metadata": {},
   "outputs": [],
   "source": [
    "test_labels[0]"
   ]
  },
  {
   "cell_type": "code",
   "execution_count": null,
   "id": "839bdde8",
   "metadata": {},
   "outputs": [],
   "source": [
    "\n"
   ]
  },
  {
   "cell_type": "markdown",
   "id": "ad7f760c",
   "metadata": {},
   "source": [
    "Displaying the fourth digit\n",
    "-"
   ]
  },
  {
   "cell_type": "code",
   "execution_count": null,
   "id": "9b3cc910",
   "metadata": {},
   "outputs": [],
   "source": [
    "from tensorflow.keras.datasets import mnist\n",
    "(train_images, train_labels), (test_images, test_labels) = mnist.load_data()"
   ]
  },
  {
   "cell_type": "code",
   "execution_count": null,
   "id": "6d02cb92",
   "metadata": {},
   "outputs": [],
   "source": [
    "train_images.dtype"
   ]
  },
  {
   "cell_type": "code",
   "execution_count": null,
   "id": "0903653d",
   "metadata": {},
   "outputs": [],
   "source": [
    "import matplotlib.pyplot as plt\n",
    "digit = train_images[4]\n",
    "plt.imshow(digit, cmap=plt.cm.binary)\n",
    "plt.show()"
   ]
  },
  {
   "cell_type": "code",
   "execution_count": null,
   "id": "b5ec09d4",
   "metadata": {},
   "outputs": [],
   "source": [
    "train_labels[4]"
   ]
  },
  {
   "cell_type": "code",
   "execution_count": null,
   "id": "c7b71964",
   "metadata": {},
   "outputs": [],
   "source": [
    "import matplotlib.pyplot as plt\n",
    "digit = train_images[7]\n",
    "plt.imshow(digit, cmap=plt.cm.binary)\n",
    "plt.show()"
   ]
  },
  {
   "cell_type": "code",
   "execution_count": null,
   "id": "03aabe1c",
   "metadata": {},
   "outputs": [],
   "source": [
    "train_labels[7]"
   ]
  },
  {
   "cell_type": "code",
   "execution_count": null,
   "id": "3028bcf4",
   "metadata": {},
   "outputs": [],
   "source": []
  }
 ],
 "metadata": {
  "kernelspec": {
   "display_name": "Python 3 (ipykernel)",
   "language": "python",
   "name": "python3"
  },
  "language_info": {
   "codemirror_mode": {
    "name": "ipython",
    "version": 3
   },
   "file_extension": ".py",
   "mimetype": "text/x-python",
   "name": "python",
   "nbconvert_exporter": "python",
   "pygments_lexer": "ipython3",
   "version": "3.9.13"
  }
 },
 "nbformat": 4,
 "nbformat_minor": 5
}
