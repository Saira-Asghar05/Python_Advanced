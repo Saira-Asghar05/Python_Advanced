{
 "cells": [
  {
   "cell_type": "code",
   "execution_count": 1,
   "metadata": {
    "id": "GZ6DujSxKkQA"
   },
   "outputs": [],
   "source": [
    "import numpy as np"
   ]
  },
  {
   "cell_type": "markdown",
   "metadata": {
    "id": "sT3evls7NXFQ"
   },
   "source": [
    "## Boolean Indexing\n"
   ]
  },
  {
   "cell_type": "code",
   "execution_count": 2,
   "metadata": {
    "id": "hlUBhBgdLu0P"
   },
   "outputs": [],
   "source": [
    "# Book Page Number.98"
   ]
  },
  {
   "cell_type": "code",
   "execution_count": 3,
   "metadata": {
    "id": "Ge7S9pVnLvgw"
   },
   "outputs": [],
   "source": [
    "# I’m going to use here the randn function in numpy.random to generate\n",
    "#some random normally distributed data:\n"
   ]
  },
  {
   "cell_type": "code",
   "execution_count": 4,
   "metadata": {
    "id": "cShr0QsXOLWJ"
   },
   "outputs": [],
   "source": [
    " names = np.array(['Bob', 'Joe', 'Will', 'Bob', 'Will', 'Joe', 'Joe'])\n"
   ]
  },
  {
   "cell_type": "code",
   "execution_count": 5,
   "metadata": {
    "colab": {
     "base_uri": "https://localhost:8080/"
    },
    "id": "uxl_64huOVGA",
    "outputId": "88bfff0c-ad84-462f-e4a8-60d7e2695cd4"
   },
   "outputs": [
    {
     "data": {
      "text/plain": [
       "array(['Bob', 'Joe', 'Will', 'Bob', 'Will', 'Joe', 'Joe'], dtype='<U4')"
      ]
     },
     "execution_count": 5,
     "metadata": {
      "tags": []
     },
     "output_type": "execute_result"
    }
   ],
   "source": [
    "names"
   ]
  },
  {
   "cell_type": "code",
   "execution_count": 6,
   "metadata": {
    "id": "OG939aMYOlvv"
   },
   "outputs": [],
   "source": [
    " data = np.random.randn(7, 4)\n"
   ]
  },
  {
   "cell_type": "code",
   "execution_count": 7,
   "metadata": {
    "colab": {
     "base_uri": "https://localhost:8080/"
    },
    "id": "MQY6LGLvPGXB",
    "outputId": "c2fe2494-e2b0-4161-e3ae-645e79e65901"
   },
   "outputs": [
    {
     "data": {
      "text/plain": [
       "array([[ 0.04167293, -0.05411289,  0.23550825, -0.56675289],\n",
       "       [ 1.09561007,  0.79163501, -0.37996934,  0.36371252],\n",
       "       [-1.01305975, -0.13900872, -0.77701777, -0.54573957],\n",
       "       [-1.39663973,  0.1685694 , -0.65910197,  1.33550466],\n",
       "       [-2.82895801,  0.5715336 ,  1.87439906, -0.43010573],\n",
       "       [-0.13497049,  1.589948  ,  0.09571216, -0.45518458],\n",
       "       [-0.70446271, -0.98621667, -0.20129333,  0.74648276]])"
      ]
     },
     "execution_count": 7,
     "metadata": {
      "tags": []
     },
     "output_type": "execute_result"
    }
   ],
   "source": [
    "data"
   ]
  },
  {
   "cell_type": "code",
   "execution_count": 10,
   "metadata": {
    "id": "ior0pWxjPIZx"
   },
   "outputs": [],
   "source": [
    "data1 = np.random.randn(4,7)"
   ]
  },
  {
   "cell_type": "code",
   "execution_count": 11,
   "metadata": {
    "colab": {
     "base_uri": "https://localhost:8080/"
    },
    "id": "3exCaeK4PaHB",
    "outputId": "8ce08a37-987c-4ca5-8b36-fd7665be1081"
   },
   "outputs": [
    {
     "data": {
      "text/plain": [
       "array([[ 0.16332679,  0.72557785,  1.65548514,  0.05664156, -0.97618471,\n",
       "         2.07827354, -0.62675355],\n",
       "       [-0.21127923,  1.20139001, -1.13422986, -0.24035538,  0.66153112,\n",
       "         0.25645254, -0.56088456],\n",
       "       [-1.74556735,  1.59342466, -0.38779327,  1.36483525,  0.68785534,\n",
       "        -1.31351618,  1.82292512],\n",
       "       [-0.36756461,  0.29601789,  0.66012398,  0.65371097,  1.35981218,\n",
       "        -0.22779769,  0.45868534]])"
      ]
     },
     "execution_count": 11,
     "metadata": {
      "tags": []
     },
     "output_type": "execute_result"
    }
   ],
   "source": [
    "data1"
   ]
  },
  {
   "cell_type": "code",
   "execution_count": 12,
   "metadata": {
    "colab": {
     "base_uri": "https://localhost:8080/"
    },
    "id": "_dZw8g-eP2am",
    "outputId": "82413308-69b0-4185-aee9-244b1d64da40"
   },
   "outputs": [
    {
     "data": {
      "text/plain": [
       "array(['Bob', 'Joe', 'Will', 'Bob', 'Will', 'Joe', 'Joe'], dtype='<U4')"
      ]
     },
     "execution_count": 12,
     "metadata": {
      "tags": []
     },
     "output_type": "execute_result"
    }
   ],
   "source": [
    "names"
   ]
  },
  {
   "cell_type": "code",
   "execution_count": 13,
   "metadata": {
    "colab": {
     "base_uri": "https://localhost:8080/"
    },
    "id": "4vs4Qx41P-w-",
    "outputId": "c4cb71db-f35c-49b1-9a41-c56d256b624f"
   },
   "outputs": [
    {
     "data": {
      "text/plain": [
       "array([[ 0.04167293, -0.05411289,  0.23550825, -0.56675289],\n",
       "       [ 1.09561007,  0.79163501, -0.37996934,  0.36371252],\n",
       "       [-1.01305975, -0.13900872, -0.77701777, -0.54573957],\n",
       "       [-1.39663973,  0.1685694 , -0.65910197,  1.33550466],\n",
       "       [-2.82895801,  0.5715336 ,  1.87439906, -0.43010573],\n",
       "       [-0.13497049,  1.589948  ,  0.09571216, -0.45518458],\n",
       "       [-0.70446271, -0.98621667, -0.20129333,  0.74648276]])"
      ]
     },
     "execution_count": 13,
     "metadata": {
      "tags": []
     },
     "output_type": "execute_result"
    }
   ],
   "source": [
    "data"
   ]
  },
  {
   "cell_type": "code",
   "execution_count": 14,
   "metadata": {
    "colab": {
     "base_uri": "https://localhost:8080/"
    },
    "id": "ujxUs6jnQAjg",
    "outputId": "b60d32ca-1040-4af6-bee7-aacd15207be7"
   },
   "outputs": [
    {
     "data": {
      "text/plain": [
       "array([ True, False, False,  True, False, False, False])"
      ]
     },
     "execution_count": 14,
     "metadata": {
      "tags": []
     },
     "output_type": "execute_result"
    }
   ],
   "source": [
    " names == 'Bob'\n"
   ]
  },
  {
   "cell_type": "code",
   "execution_count": 18,
   "metadata": {
    "colab": {
     "base_uri": "https://localhost:8080/",
     "height": 52
    },
    "id": "bVs391qBQgPh",
    "outputId": "1c4a7cb4-183e-4038-f224-bafafacf3e9d"
   },
   "outputs": [
    {
     "data": {
      "application/vnd.google.colaboratory.intrinsic+json": {
       "type": "string"
      },
      "text/plain": [
       "\"  This boolean array can be passed when indexing the array:\\n     Suppose each name corresponds to a row in the data array and we wanted to select\\n     all the rows with corresponding name 'Bob'\\n\""
      ]
     },
     "execution_count": 18,
     "metadata": {
      "tags": []
     },
     "output_type": "execute_result"
    }
   ],
   "source": [
    "\"\"\"  This boolean array can be passed when indexing the array:\n",
    "     Suppose each name corresponds to a row in the data array and we wanted to select\n",
    "     all the rows with corresponding name 'Bob'\n",
    "\"\"\""
   ]
  },
  {
   "cell_type": "code",
   "execution_count": 16,
   "metadata": {
    "colab": {
     "base_uri": "https://localhost:8080/"
    },
    "id": "Vrvx1RX3Qp46",
    "outputId": "c220b15d-1dc0-44c9-f87a-75a69f683858"
   },
   "outputs": [
    {
     "data": {
      "text/plain": [
       "array([[ 0.04167293, -0.05411289,  0.23550825, -0.56675289],\n",
       "       [-1.39663973,  0.1685694 , -0.65910197,  1.33550466]])"
      ]
     },
     "execution_count": 16,
     "metadata": {
      "tags": []
     },
     "output_type": "execute_result"
    }
   ],
   "source": [
    " data[names == 'Bob']\n"
   ]
  },
  {
   "cell_type": "code",
   "execution_count": 20,
   "metadata": {
    "colab": {
     "base_uri": "https://localhost:8080/"
    },
    "id": "yQADI6SXQxQ3",
    "outputId": "ca1a76ad-271d-449e-be30-6f02ccff112f"
   },
   "outputs": [
    {
     "data": {
      "text/plain": [
       "array([[ 0.23550825, -0.56675289],\n",
       "       [-0.65910197,  1.33550466]])"
      ]
     },
     "execution_count": 20,
     "metadata": {
      "tags": []
     },
     "output_type": "execute_result"
    }
   ],
   "source": [
    " data[names == 'Bob', 2:]  #  we find in data array , \"bob\" rows and 2nd to last columns values.\n"
   ]
  },
  {
   "cell_type": "code",
   "execution_count": 21,
   "metadata": {
    "colab": {
     "base_uri": "https://localhost:8080/"
    },
    "id": "imI5XCNqRqL7",
    "outputId": "9670d671-805b-48d0-c226-163cf6eb2f7e"
   },
   "outputs": [
    {
     "data": {
      "text/plain": [
       "array([-0.56675289,  1.33550466])"
      ]
     },
     "execution_count": 21,
     "metadata": {
      "tags": []
     },
     "output_type": "execute_result"
    }
   ],
   "source": [
    " data[names == 'Bob', 3]  #  we find in data array , \"bob\" rows and 3nd columns values.\n"
   ]
  },
  {
   "cell_type": "code",
   "execution_count": 25,
   "metadata": {
    "id": "eM8JPYqJS2ri"
   },
   "outputs": [],
   "source": [
    "#  To select everything but 'Bob', you can either use != or negate the condition using ~: \n"
   ]
  },
  {
   "cell_type": "code",
   "execution_count": 26,
   "metadata": {
    "colab": {
     "base_uri": "https://localhost:8080/"
    },
    "id": "8aKWOFdITOX4",
    "outputId": "69f26ea5-5ba7-48e6-f6d1-cb5005728f2c"
   },
   "outputs": [
    {
     "data": {
      "text/plain": [
       "array([False,  True,  True, False,  True,  True,  True])"
      ]
     },
     "execution_count": 26,
     "metadata": {
      "tags": []
     },
     "output_type": "execute_result"
    }
   ],
   "source": [
    " names != 'Bob'\n"
   ]
  },
  {
   "cell_type": "code",
   "execution_count": 27,
   "metadata": {
    "colab": {
     "base_uri": "https://localhost:8080/"
    },
    "id": "X8ERBMr9Tdvo",
    "outputId": "970077af-788d-424a-8d36-3d0e1b399492"
   },
   "outputs": [
    {
     "data": {
      "text/plain": [
       "array([[ 1.09561007,  0.79163501, -0.37996934,  0.36371252],\n",
       "       [-1.01305975, -0.13900872, -0.77701777, -0.54573957],\n",
       "       [-2.82895801,  0.5715336 ,  1.87439906, -0.43010573],\n",
       "       [-0.13497049,  1.589948  ,  0.09571216, -0.45518458],\n",
       "       [-0.70446271, -0.98621667, -0.20129333,  0.74648276]])"
      ]
     },
     "execution_count": 27,
     "metadata": {
      "tags": []
     },
     "output_type": "execute_result"
    }
   ],
   "source": [
    " data[~(names == 'Bob')]\n"
   ]
  },
  {
   "cell_type": "code",
   "execution_count": 29,
   "metadata": {
    "id": "lEQkLm6MTmKx"
   },
   "outputs": [],
   "source": [
    "# The ~ operator can be useful when you want to invert a general condition:\n"
   ]
  },
  {
   "cell_type": "code",
   "execution_count": 30,
   "metadata": {
    "id": "yB7OSCc_TuBP"
   },
   "outputs": [],
   "source": [
    " cond = names == 'Bob'\n"
   ]
  },
  {
   "cell_type": "code",
   "execution_count": 31,
   "metadata": {
    "colab": {
     "base_uri": "https://localhost:8080/"
    },
    "id": "uoMpLldxUC99",
    "outputId": "1eee1cca-7b2b-40b2-cdf0-1682bec8d5b2"
   },
   "outputs": [
    {
     "data": {
      "text/plain": [
       "array([[ 1.09561007,  0.79163501, -0.37996934,  0.36371252],\n",
       "       [-1.01305975, -0.13900872, -0.77701777, -0.54573957],\n",
       "       [-2.82895801,  0.5715336 ,  1.87439906, -0.43010573],\n",
       "       [-0.13497049,  1.589948  ,  0.09571216, -0.45518458],\n",
       "       [-0.70446271, -0.98621667, -0.20129333,  0.74648276]])"
      ]
     },
     "execution_count": 31,
     "metadata": {
      "tags": []
     },
     "output_type": "execute_result"
    }
   ],
   "source": [
    " data[~cond]\n"
   ]
  },
  {
   "cell_type": "code",
   "execution_count": 32,
   "metadata": {
    "id": "beFLCCDfUKNx"
   },
   "outputs": [],
   "source": [
    " #   data[~(names == 'Bob')]\n",
    "#   data[~cond]                       Both conditions doing same work\n"
   ]
  },
  {
   "cell_type": "code",
   "execution_count": 33,
   "metadata": {
    "id": "V6meGfGSUhhC"
   },
   "outputs": [],
   "source": [
    "# boolean arithmetic operators like & (and) and | (or):"
   ]
  },
  {
   "cell_type": "code",
   "execution_count": 34,
   "metadata": {
    "id": "5egU-ukGUvoc"
   },
   "outputs": [],
   "source": [
    " mask = (names == 'Bob') | (names == 'Will')\n"
   ]
  },
  {
   "cell_type": "code",
   "execution_count": 35,
   "metadata": {
    "colab": {
     "base_uri": "https://localhost:8080/"
    },
    "id": "HBvYKjGPU5Nl",
    "outputId": "a190029a-f56b-4c14-b4b6-229004945f5c"
   },
   "outputs": [
    {
     "data": {
      "text/plain": [
       "array([ True, False,  True,  True,  True, False, False])"
      ]
     },
     "execution_count": 35,
     "metadata": {
      "tags": []
     },
     "output_type": "execute_result"
    }
   ],
   "source": [
    "mask"
   ]
  },
  {
   "cell_type": "code",
   "execution_count": 36,
   "metadata": {
    "colab": {
     "base_uri": "https://localhost:8080/"
    },
    "id": "QfZBxyJdU8JL",
    "outputId": "c14016bb-2cdb-4ba3-ff76-b273f0b17956"
   },
   "outputs": [
    {
     "data": {
      "text/plain": [
       "array([[ 0.04167293, -0.05411289,  0.23550825, -0.56675289],\n",
       "       [-1.01305975, -0.13900872, -0.77701777, -0.54573957],\n",
       "       [-1.39663973,  0.1685694 , -0.65910197,  1.33550466],\n",
       "       [-2.82895801,  0.5715336 ,  1.87439906, -0.43010573]])"
      ]
     },
     "execution_count": 36,
     "metadata": {
      "tags": []
     },
     "output_type": "execute_result"
    }
   ],
   "source": [
    " data[mask]\n"
   ]
  },
  {
   "cell_type": "code",
   "execution_count": 50,
   "metadata": {
    "id": "ExVCn4JcVIde"
   },
   "outputs": [],
   "source": [
    "#  Setting values with boolean arrays works in a common-sense way. To set all of the\n",
    "#  negative values in data to 0 we need only do:"
   ]
  },
  {
   "cell_type": "code",
   "execution_count": 55,
   "metadata": {
    "id": "yM6hmrXSWSc8"
   },
   "outputs": [],
   "source": [
    " data[data < 0] = 0\n"
   ]
  },
  {
   "cell_type": "code",
   "execution_count": 56,
   "metadata": {
    "colab": {
     "base_uri": "https://localhost:8080/"
    },
    "id": "Axuda_3ZWVFg",
    "outputId": "1a19a1a1-f76c-4f29-8775-f4fc37333cb1"
   },
   "outputs": [
    {
     "data": {
      "text/plain": [
       "array([[0.04167293, 9.        , 0.23550825, 9.        ],\n",
       "       [1.09561007, 0.79163501, 9.        , 0.36371252],\n",
       "       [9.        , 9.        , 9.        , 9.        ],\n",
       "       [9.        , 0.1685694 , 9.        , 1.33550466],\n",
       "       [9.        , 0.5715336 , 1.87439906, 9.        ],\n",
       "       [9.        , 1.589948  , 0.09571216, 9.        ],\n",
       "       [9.        , 9.        , 9.        , 0.74648276]])"
      ]
     },
     "execution_count": 56,
     "metadata": {
      "tags": []
     },
     "output_type": "execute_result"
    }
   ],
   "source": [
    "data"
   ]
  },
  {
   "cell_type": "code",
   "execution_count": 57,
   "metadata": {
    "id": "usHMVC4mWWqN"
   },
   "outputs": [],
   "source": [
    "# Setting whole rows or columns using a one-dimensional boolean array is also easy:\n"
   ]
  },
  {
   "cell_type": "code",
   "execution_count": 58,
   "metadata": {
    "id": "UW9pSEVkWwOa"
   },
   "outputs": [],
   "source": [
    " data[names != 'Joe'] = 7\n"
   ]
  },
  {
   "cell_type": "code",
   "execution_count": 67,
   "metadata": {
    "colab": {
     "base_uri": "https://localhost:8080/"
    },
    "id": "U6s4XrH-W1lJ",
    "outputId": "c0e80a2d-6142-4d93-bb55-6287d3a18277"
   },
   "outputs": [
    {
     "data": {
      "text/plain": [
       "array([[7.        , 7.        , 7.        , 7.        ],\n",
       "       [1.09561007, 0.79163501, 9.        , 0.36371252],\n",
       "       [7.        , 7.        , 7.        , 7.        ],\n",
       "       [7.        , 7.        , 7.        , 7.        ],\n",
       "       [7.        , 7.        , 7.        , 7.        ],\n",
       "       [9.        , 1.589948  , 0.09571216, 9.        ],\n",
       "       [9.        , 9.        , 9.        , 0.74648276]])"
      ]
     },
     "execution_count": 67,
     "metadata": {
      "tags": []
     },
     "output_type": "execute_result"
    }
   ],
   "source": [
    "data"
   ]
  },
  {
   "cell_type": "code",
   "execution_count": null,
   "metadata": {
    "id": "YEsLKhUkXsI-"
   },
   "outputs": [],
   "source": []
  },
  {
   "cell_type": "markdown",
   "metadata": {
    "id": "W90oXLtaXtKJ"
   },
   "source": [
    "# Fancy Indexing\n"
   ]
  },
  {
   "cell_type": "code",
   "execution_count": 68,
   "metadata": {
    "id": "kveDBs3dXwjs"
   },
   "outputs": [],
   "source": [
    "# Fancy indexing is a term adopted by NumPy to describe indexing using integer arrays.\n",
    "#Suppose we had an 8 × 4 array: \n"
   ]
  },
  {
   "cell_type": "code",
   "execution_count": 69,
   "metadata": {
    "id": "0LsFKXoqYCn3"
   },
   "outputs": [],
   "source": [
    " arr = np.empty((8, 4))\n"
   ]
  },
  {
   "cell_type": "code",
   "execution_count": 72,
   "metadata": {
    "id": "9ODhQMzwYIEG"
   },
   "outputs": [],
   "source": [
    " for i in range(8):\n",
    "       arr[i] = i"
   ]
  },
  {
   "cell_type": "code",
   "execution_count": 73,
   "metadata": {
    "colab": {
     "base_uri": "https://localhost:8080/"
    },
    "id": "1sxlKa_7YRkI",
    "outputId": "50e11818-1590-450d-c4e8-d9700392989c"
   },
   "outputs": [
    {
     "name": "stdout",
     "output_type": "stream",
     "text": [
      "[[4.63636107e-310 0.00000000e+000 0.00000000e+000 0.00000000e+000]\n",
      " [0.00000000e+000 0.00000000e+000 0.00000000e+000 0.00000000e+000]\n",
      " [0.00000000e+000 0.00000000e+000 0.00000000e+000 0.00000000e+000]\n",
      " [0.00000000e+000 0.00000000e+000 0.00000000e+000 0.00000000e+000]\n",
      " [0.00000000e+000 0.00000000e+000 0.00000000e+000 0.00000000e+000]\n",
      " [0.00000000e+000 0.00000000e+000 0.00000000e+000 0.00000000e+000]\n",
      " [0.00000000e+000 0.00000000e+000 0.00000000e+000 0.00000000e+000]\n",
      " [0.00000000e+000 0.00000000e+000 0.00000000e+000 0.00000000e+000]]\n"
     ]
    }
   ],
   "source": [
    " arr = np.empty((8, 4))\n",
    " print(arr)\n"
   ]
  },
  {
   "cell_type": "code",
   "execution_count": 74,
   "metadata": {
    "id": "oxXqW4jGY0DW"
   },
   "outputs": [],
   "source": [
    " for i in range(8):\n",
    "       arr[i] = i"
   ]
  },
  {
   "cell_type": "code",
   "execution_count": 75,
   "metadata": {
    "colab": {
     "base_uri": "https://localhost:8080/"
    },
    "id": "ALMSvy5PY9b1",
    "outputId": "882d1dda-ddc2-41fa-85ec-82006cddc005"
   },
   "outputs": [
    {
     "data": {
      "text/plain": [
       "array([[0., 0., 0., 0.],\n",
       "       [1., 1., 1., 1.],\n",
       "       [2., 2., 2., 2.],\n",
       "       [3., 3., 3., 3.],\n",
       "       [4., 4., 4., 4.],\n",
       "       [5., 5., 5., 5.],\n",
       "       [6., 6., 6., 6.],\n",
       "       [7., 7., 7., 7.]])"
      ]
     },
     "execution_count": 75,
     "metadata": {
      "tags": []
     },
     "output_type": "execute_result"
    }
   ],
   "source": [
    "arr"
   ]
  },
  {
   "cell_type": "code",
   "execution_count": 76,
   "metadata": {
    "colab": {
     "base_uri": "https://localhost:8080/"
    },
    "id": "b9ZO7mwIZAMQ",
    "outputId": "eeb5a880-c7bc-4954-994d-696276192e2d"
   },
   "outputs": [
    {
     "data": {
      "text/plain": [
       "array([[4., 4., 4., 4.],\n",
       "       [3., 3., 3., 3.],\n",
       "       [0., 0., 0., 0.],\n",
       "       [6., 6., 6., 6.]])"
      ]
     },
     "execution_count": 76,
     "metadata": {
      "tags": []
     },
     "output_type": "execute_result"
    }
   ],
   "source": [
    " arr[[4, 3, 0, 6]]\n"
   ]
  },
  {
   "cell_type": "code",
   "execution_count": 77,
   "metadata": {
    "colab": {
     "base_uri": "https://localhost:8080/"
    },
    "id": "8NvTHBzeZRn_",
    "outputId": "6d9e8200-bce3-4ac5-8eff-f142479d5f10"
   },
   "outputs": [
    {
     "data": {
      "text/plain": [
       "array([[5., 5., 5., 5.],\n",
       "       [3., 3., 3., 3.],\n",
       "       [1., 1., 1., 1.]])"
      ]
     },
     "execution_count": 77,
     "metadata": {
      "tags": []
     },
     "output_type": "execute_result"
    }
   ],
   "source": [
    " arr[[-3, -5, -7]]\n"
   ]
  },
  {
   "cell_type": "code",
   "execution_count": 78,
   "metadata": {
    "id": "RehBzBfkZbhM"
   },
   "outputs": [],
   "source": [
    " arr = np.arange(32).reshape((8, 4))\n"
   ]
  },
  {
   "cell_type": "code",
   "execution_count": 79,
   "metadata": {
    "colab": {
     "base_uri": "https://localhost:8080/"
    },
    "id": "n1jLTWJAaCu2",
    "outputId": "709b9669-771f-42b8-a6fd-d597e1460f78"
   },
   "outputs": [
    {
     "data": {
      "text/plain": [
       "array([[ 0,  1,  2,  3],\n",
       "       [ 4,  5,  6,  7],\n",
       "       [ 8,  9, 10, 11],\n",
       "       [12, 13, 14, 15],\n",
       "       [16, 17, 18, 19],\n",
       "       [20, 21, 22, 23],\n",
       "       [24, 25, 26, 27],\n",
       "       [28, 29, 30, 31]])"
      ]
     },
     "execution_count": 79,
     "metadata": {
      "tags": []
     },
     "output_type": "execute_result"
    }
   ],
   "source": [
    "arr"
   ]
  },
  {
   "cell_type": "code",
   "execution_count": 80,
   "metadata": {
    "colab": {
     "base_uri": "https://localhost:8080/"
    },
    "id": "9lDr0BaUaDmm",
    "outputId": "0706c527-e03b-4841-c7bc-8f65cfa26218"
   },
   "outputs": [
    {
     "data": {
      "text/plain": [
       "array([[ 4,  7,  5,  6],\n",
       "       [20, 23, 21, 22],\n",
       "       [28, 31, 29, 30],\n",
       "       [ 8, 11,  9, 10]])"
      ]
     },
     "execution_count": 80,
     "metadata": {
      "tags": []
     },
     "output_type": "execute_result"
    }
   ],
   "source": [
    "In [125]: arr[[1, 5, 7, 2]][:, [0, 3, 1, 2]]\n"
   ]
  },
  {
   "cell_type": "code",
   "execution_count": 81,
   "metadata": {
    "id": "0Ce68-hyahQL"
   },
   "outputs": [],
   "source": [
    "#  which is the rectangular region formed by\n",
    "# selecting a subset of the matrix’s rows and columns. Here is one way to get that:"
   ]
  },
  {
   "cell_type": "code",
   "execution_count": null,
   "metadata": {
    "id": "QBmFun0XbaLf"
   },
   "outputs": [],
   "source": []
  }
 ],
 "metadata": {
  "colab": {
   "name": "Boolean & Fancy Indexing .ipynb",
   "provenance": []
  },
  "kernelspec": {
   "display_name": "Python 3 (ipykernel)",
   "language": "python",
   "name": "python3"
  },
  "language_info": {
   "codemirror_mode": {
    "name": "ipython",
    "version": 3
   },
   "file_extension": ".py",
   "mimetype": "text/x-python",
   "name": "python",
   "nbconvert_exporter": "python",
   "pygments_lexer": "ipython3",
   "version": "3.9.13"
  }
 },
 "nbformat": 4,
 "nbformat_minor": 1
}
