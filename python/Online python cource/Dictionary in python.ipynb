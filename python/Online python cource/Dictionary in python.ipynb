{
 "cells": [
  {
   "cell_type": "markdown",
   "id": "4acca49a",
   "metadata": {},
   "source": [
    "creating dictionary\n",
    "-"
   ]
  },
  {
   "cell_type": "markdown",
   "id": "14a8028a",
   "metadata": {},
   "source": [
    "a dictionary is a series of paired keys and values.\n",
    "\n",
    "key:value   Pair"
   ]
  },
  {
   "cell_type": "code",
   "execution_count": 1,
   "id": "9571083a",
   "metadata": {},
   "outputs": [],
   "source": [
    " #   \"name\" : \"Saeed\", "
   ]
  },
  {
   "cell_type": "code",
   "execution_count": 2,
   "id": "ab7cd87b",
   "metadata": {},
   "outputs": [],
   "source": [
    "saeed={\"name\":\"saeed\",\"age\":20,\"addres\":\"lodhran\",\"email\":\"abc@gmail.com\"}\n"
   ]
  },
  {
   "cell_type": "code",
   "execution_count": null,
   "id": "9cccb2b4",
   "metadata": {},
   "outputs": [],
   "source": [
    "saeed"
   ]
  },
  {
   "cell_type": "code",
   "execution_count": null,
   "id": "dc7ddb92",
   "metadata": {},
   "outputs": [],
   "source": [
    "saeed[\"email\"]\n"
   ]
  },
  {
   "cell_type": "code",
   "execution_count": null,
   "id": "9a7de995",
   "metadata": {},
   "outputs": [],
   "source": [
    "saeed[\"age\"]"
   ]
  },
  {
   "cell_type": "code",
   "execution_count": null,
   "id": "1d5878bf",
   "metadata": {},
   "outputs": [],
   "source": []
  },
  {
   "cell_type": "code",
   "execution_count": null,
   "id": "3f7323db",
   "metadata": {},
   "outputs": [],
   "source": []
  },
  {
   "cell_type": "markdown",
   "id": "3f898579",
   "metadata": {},
   "source": [
    "# Adding value in Dictionary"
   ]
  },
  {
   "cell_type": "code",
   "execution_count": null,
   "id": "ece0307f",
   "metadata": {},
   "outputs": [],
   "source": [
    "saeed"
   ]
  },
  {
   "cell_type": "code",
   "execution_count": null,
   "id": "d97def22",
   "metadata": {},
   "outputs": [],
   "source": [
    "saeed[\"class\"] =\"mcs\"\n",
    "\n",
    "print(saeed)"
   ]
  },
  {
   "cell_type": "code",
   "execution_count": null,
   "id": "72d96dc6",
   "metadata": {},
   "outputs": [],
   "source": [
    "saeed[\"ai\"]=\"faisalabad\"\n",
    "\n",
    "saeed"
   ]
  },
  {
   "cell_type": "code",
   "execution_count": null,
   "id": "bfa1f985",
   "metadata": {},
   "outputs": [],
   "source": []
  },
  {
   "cell_type": "code",
   "execution_count": null,
   "id": "578aace0",
   "metadata": {},
   "outputs": [],
   "source": []
  },
  {
   "cell_type": "markdown",
   "id": "6d739bc0",
   "metadata": {},
   "source": [
    "# Update a key value in dictionary"
   ]
  },
  {
   "cell_type": "code",
   "execution_count": null,
   "id": "1387df96",
   "metadata": {},
   "outputs": [],
   "source": [
    "saeed"
   ]
  },
  {
   "cell_type": "code",
   "execution_count": null,
   "id": "83b4e739",
   "metadata": {},
   "outputs": [],
   "source": [
    "saeed[\"class\"]=\"mastre in computer science\"\n"
   ]
  },
  {
   "cell_type": "code",
   "execution_count": null,
   "id": "36e17997",
   "metadata": {},
   "outputs": [],
   "source": [
    "saeed"
   ]
  },
  {
   "cell_type": "code",
   "execution_count": null,
   "id": "c0c5f177",
   "metadata": {},
   "outputs": [],
   "source": []
  },
  {
   "cell_type": "code",
   "execution_count": null,
   "id": "df1d167e",
   "metadata": {},
   "outputs": [],
   "source": []
  },
  {
   "cell_type": "markdown",
   "id": "2e63edeb",
   "metadata": {},
   "source": [
    "# ACCESS VALUE IN DICTIONARY\n"
   ]
  },
  {
   "cell_type": "code",
   "execution_count": null,
   "id": "fe5ff8f1",
   "metadata": {},
   "outputs": [],
   "source": [
    "saeed"
   ]
  },
  {
   "cell_type": "code",
   "execution_count": null,
   "id": "93b6b18f",
   "metadata": {},
   "outputs": [],
   "source": [
    "saeed[\"class\"]\n"
   ]
  },
  {
   "cell_type": "code",
   "execution_count": null,
   "id": "1e05f679",
   "metadata": {},
   "outputs": [],
   "source": []
  },
  {
   "cell_type": "code",
   "execution_count": null,
   "id": "42f56202",
   "metadata": {},
   "outputs": [],
   "source": []
  },
  {
   "cell_type": "markdown",
   "id": "7acfd072",
   "metadata": {},
   "source": [
    "# DELETING A VALUE"
   ]
  },
  {
   "cell_type": "code",
   "execution_count": null,
   "id": "418143f6",
   "metadata": {},
   "outputs": [],
   "source": [
    "saeed"
   ]
  },
  {
   "cell_type": "code",
   "execution_count": null,
   "id": "f124980e",
   "metadata": {},
   "outputs": [],
   "source": [
    "del saeed[\"email\"]\n"
   ]
  },
  {
   "cell_type": "code",
   "execution_count": null,
   "id": "ec3c2346",
   "metadata": {},
   "outputs": [],
   "source": []
  },
  {
   "cell_type": "markdown",
   "id": "2da8cac3",
   "metadata": {},
   "source": [
    "# key are in dictionary or not"
   ]
  },
  {
   "cell_type": "code",
   "execution_count": null,
   "id": "38bd7eee",
   "metadata": {},
   "outputs": [],
   "source": [
    "saeed"
   ]
  },
  {
   "cell_type": "code",
   "execution_count": null,
   "id": "542e5b03",
   "metadata": {},
   "outputs": [],
   "source": [
    "\"ai\" in saeed\n"
   ]
  },
  {
   "cell_type": "code",
   "execution_count": null,
   "id": "d5e6a6fb",
   "metadata": {},
   "outputs": [],
   "source": [
    "# NOTE:\n",
    "  #   in dictionary the key and value should be integer,float,& string."
   ]
  },
  {
   "cell_type": "code",
   "execution_count": null,
   "id": "9e051606",
   "metadata": {},
   "outputs": [],
   "source": []
  }
 ],
 "metadata": {
  "kernelspec": {
   "display_name": "Python 3 (ipykernel)",
   "language": "python",
   "name": "python3"
  },
  "language_info": {
   "codemirror_mode": {
    "name": "ipython",
    "version": 3
   },
   "file_extension": ".py",
   "mimetype": "text/x-python",
   "name": "python",
   "nbconvert_exporter": "python",
   "pygments_lexer": "ipython3",
   "version": "3.9.13"
  }
 },
 "nbformat": 4,
 "nbformat_minor": 5
}
