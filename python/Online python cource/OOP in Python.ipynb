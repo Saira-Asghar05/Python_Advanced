{
 "cells": [
  {
   "cell_type": "code",
   "execution_count": null,
   "id": "50824330",
   "metadata": {},
   "outputs": [],
   "source": []
  },
  {
   "cell_type": "markdown",
   "id": "ce4543bb",
   "metadata": {},
   "source": [
    "Object-Oriented Programming (OOP) Vocabulary\n",
    "-\n",
    "- Class: A blueprint consisting of methods and attributes.\n",
    "- Object: An instance of a class. It can help to think of objects as something in the real world like a yellow pencil, a small   dog, or a blue shirt. However, as you'll see later in the lesson, objects can be more abstract.\n",
    "- Attribute: A descriptor or characteristic. Examples would be color, length, size, etc. These attributes can take on specific   values like blue, 3 inches, large, etc.\n",
    "- Method: An action that a class or object could take.\n",
    "- OOP: A commonly used abbreviation for object-oriented programming.\n",
    "- Encapsulation: One of the fundamental ideas behind object-oriented programming is called encapsulation: you can combine        functions and data all into a single entity. In object-oriented programming, this single entity is called a class. Encapsulation allows you to hide implementation details, much like how the scikit-learn package hides the implementation of machine learning algorithms.\n",
    "- In English, you might hear an attribute described as property, description, feature, quality, trait, or characteristic. All of these are saying the same thing.\n",
    "\n",
    "Here is a reminder of how a class, an object, attributes, and methods relate to each other.\n",
    "\n",
    "classes versus objects\n",
    "A class is a blueprint consisting of attributes and methods."
   ]
  },
  {
   "cell_type": "code",
   "execution_count": null,
   "id": "15e201da",
   "metadata": {},
   "outputs": [],
   "source": []
  },
  {
   "cell_type": "code",
   "execution_count": 1,
   "id": "a21a4b23",
   "metadata": {},
   "outputs": [],
   "source": [
    "class Shirt:\n",
    "\n",
    "    def __init__(self, shirt_color, shirt_size, shirt_style, shirt_price):\n",
    "        self.color = shirt_color\n",
    "        self.size = shirt_size\n",
    "        self.style = shirt_style\n",
    "        self.price = shirt_price\n",
    "    \n",
    "    def change_price(self, new_price):\n",
    "    \n",
    "        self.price = new_price\n",
    "        \n",
    "    def discount(self, discount):\n",
    "\n",
    "        return self.price * (1 - discount)"
   ]
  },
  {
   "cell_type": "code",
   "execution_count": null,
   "id": "c50d3bc0",
   "metadata": {},
   "outputs": [],
   "source": []
  }
 ],
 "metadata": {
  "kernelspec": {
   "display_name": "Python 3 (ipykernel)",
   "language": "python",
   "name": "python3"
  },
  "language_info": {
   "codemirror_mode": {
    "name": "ipython",
    "version": 3
   },
   "file_extension": ".py",
   "mimetype": "text/x-python",
   "name": "python",
   "nbconvert_exporter": "python",
   "pygments_lexer": "ipython3",
   "version": "3.9.7"
  }
 },
 "nbformat": 4,
 "nbformat_minor": 5
}
