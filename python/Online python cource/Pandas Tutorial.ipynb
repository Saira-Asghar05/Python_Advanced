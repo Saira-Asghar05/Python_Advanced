{
 "cells": [
  {
   "cell_type": "markdown",
   "id": "8cc7060d",
   "metadata": {},
   "source": [
    "Data Loading, Storage, and File Formats\n",
    "-\n",
    "- Topic Reading and Writing Data in Text Format\n",
    "- Parsing functions in pandas\n",
    "\n",
    "- read_csv = load delimited data from a file, URL, or file-like\n",
    "- object; use comma as default delimiter\n",
    "\n",
    "- read_excel = Read tabular data from an Excel XLS or XLSX file\n",
    "- read_html = Read all tables found in the given HTML document"
   ]
  },
  {
   "cell_type": "markdown",
   "id": "51e64b71",
   "metadata": {},
   "source": [
    "common options in these functions\n",
    "-\n",
    "- Indexing\n",
    "Can treat one or more columns as the returned DataFrame, and whether to get column names from the file, the user, or not at all.\n",
    "\n",
    "- Type inference and data conversion\n",
    "This includes the user-defined value conversions and custom list of missing value markers.\n",
    "\n",
    "- Datetime parsing\n",
    "Includes combining capability, including combining date and time information spread over multiple columns into a single column in the result.\n",
    "\n",
    "- Iterating\n",
    "Support for iterating over chunks of very large files.\n",
    "\n",
    "- Unclean data issues\n",
    "Skipping rows or a footer, comments, or other minor things like numeric data with thousands separated by commas.\n"
   ]
  },
  {
   "cell_type": "markdown",
   "id": "199dcc05",
   "metadata": {},
   "source": [
    "# loading it into pandas data frame"
   ]
  },
  {
   "cell_type": "code",
   "execution_count": 17,
   "id": "e0041b46",
   "metadata": {},
   "outputs": [],
   "source": [
    "import pandas as pd"
   ]
  },
  {
   "cell_type": "code",
   "execution_count": 18,
   "id": "b4c397a2",
   "metadata": {},
   "outputs": [
    {
     "name": "stdout",
     "output_type": "stream",
     "text": [
      "  studentid         name   chimestry   physics   english   math\n",
      "0       A01     arif ali          20        30        40     50\n",
      "1       A02  kamran khan          30        40        50     60\n",
      "2       A03   imran ali           40        50        60     70\n",
      "3       A04  kashif khan          50        60        70     80\n"
     ]
    }
   ],
   "source": [
    "sample_df= pd.read_csv(\"examples/sample.csv\")\n",
    "print(sample_df)"
   ]
  },
  {
   "cell_type": "code",
   "execution_count": null,
   "id": "7757d490",
   "metadata": {},
   "outputs": [],
   "source": []
  },
  {
   "cell_type": "code",
   "execution_count": 20,
   "id": "81cb2b7d",
   "metadata": {},
   "outputs": [
    {
     "name": "stderr",
     "output_type": "stream",
     "text": [
      "C:\\Users\\Engr Saeed\\AppData\\Local\\Temp\\ipykernel_7176\\3946012906.py:1: DtypeWarning: Columns (1,2,5,6,9,10,13,14,17,18) have mixed types. Specify dtype option on import or set low_memory=False.\n",
      "  data = pd.read_csv(\"D:/ABU BAKAR MS-AI/Dataset/2 Minutes 28 Subjects Data for Processing.csv\")\n"
     ]
    },
    {
     "data": {
      "text/html": [
       "<div>\n",
       "<style scoped>\n",
       "    .dataframe tbody tr th:only-of-type {\n",
       "        vertical-align: middle;\n",
       "    }\n",
       "\n",
       "    .dataframe tbody tr th {\n",
       "        vertical-align: top;\n",
       "    }\n",
       "\n",
       "    .dataframe thead th {\n",
       "        text-align: right;\n",
       "    }\n",
       "</style>\n",
       "<table border=\"1\" class=\"dataframe\">\n",
       "  <thead>\n",
       "    <tr style=\"text-align: right;\">\n",
       "      <th></th>\n",
       "      <th>Delta_TP9</th>\n",
       "      <th>Delta_AF7</th>\n",
       "      <th>Delta_AF8</th>\n",
       "      <th>Delta_TP10</th>\n",
       "      <th>Theta_TP9</th>\n",
       "      <th>Theta_AF7</th>\n",
       "      <th>Theta_AF8</th>\n",
       "      <th>Theta_TP10</th>\n",
       "      <th>Alpha_TP9</th>\n",
       "      <th>Alpha_AF7</th>\n",
       "      <th>...</th>\n",
       "      <th>Alpha_TP10</th>\n",
       "      <th>Beta_TP9</th>\n",
       "      <th>Beta_AF7</th>\n",
       "      <th>Beta_AF8</th>\n",
       "      <th>Beta_TP10</th>\n",
       "      <th>Gamma_TP9</th>\n",
       "      <th>Gamma_AF7</th>\n",
       "      <th>Gamma_AF8</th>\n",
       "      <th>Gamma_TP10</th>\n",
       "      <th>PSS Score</th>\n",
       "    </tr>\n",
       "  </thead>\n",
       "  <tbody>\n",
       "    <tr>\n",
       "      <th>0</th>\n",
       "      <td>3.071577</td>\n",
       "      <td>0.474801</td>\n",
       "      <td>2.476777</td>\n",
       "      <td>4.036586</td>\n",
       "      <td>2.033074</td>\n",
       "      <td>0.115887</td>\n",
       "      <td>1.714873</td>\n",
       "      <td>3.145704</td>\n",
       "      <td>2.182044</td>\n",
       "      <td>1.01952</td>\n",
       "      <td>...</td>\n",
       "      <td>3.088445</td>\n",
       "      <td>1.638719</td>\n",
       "      <td>0.616832</td>\n",
       "      <td>1.149402</td>\n",
       "      <td>2.604956</td>\n",
       "      <td>1.055608</td>\n",
       "      <td>0.318293</td>\n",
       "      <td>0.630827</td>\n",
       "      <td>2.005793</td>\n",
       "      <td>16</td>\n",
       "    </tr>\n",
       "    <tr>\n",
       "      <th>1</th>\n",
       "      <td>3.071577</td>\n",
       "      <td>0.474801</td>\n",
       "      <td>2.476777</td>\n",
       "      <td>4.036586</td>\n",
       "      <td>2.033074</td>\n",
       "      <td>0.115887</td>\n",
       "      <td>1.714873</td>\n",
       "      <td>3.145704</td>\n",
       "      <td>2.182044</td>\n",
       "      <td>1.01952</td>\n",
       "      <td>...</td>\n",
       "      <td>3.088445</td>\n",
       "      <td>1.638719</td>\n",
       "      <td>0.616832</td>\n",
       "      <td>1.149402</td>\n",
       "      <td>2.604956</td>\n",
       "      <td>1.055608</td>\n",
       "      <td>0.318293</td>\n",
       "      <td>0.630827</td>\n",
       "      <td>2.005793</td>\n",
       "      <td>16</td>\n",
       "    </tr>\n",
       "    <tr>\n",
       "      <th>2</th>\n",
       "      <td>3.071577</td>\n",
       "      <td>0.474801</td>\n",
       "      <td>2.476777</td>\n",
       "      <td>4.036586</td>\n",
       "      <td>2.033074</td>\n",
       "      <td>0.115887</td>\n",
       "      <td>1.714873</td>\n",
       "      <td>3.145704</td>\n",
       "      <td>2.182044</td>\n",
       "      <td>1.01952</td>\n",
       "      <td>...</td>\n",
       "      <td>3.088445</td>\n",
       "      <td>1.638719</td>\n",
       "      <td>0.616832</td>\n",
       "      <td>1.149402</td>\n",
       "      <td>2.604956</td>\n",
       "      <td>1.055608</td>\n",
       "      <td>0.318293</td>\n",
       "      <td>0.630827</td>\n",
       "      <td>2.005793</td>\n",
       "      <td>16</td>\n",
       "    </tr>\n",
       "    <tr>\n",
       "      <th>3</th>\n",
       "      <td>3.071577</td>\n",
       "      <td>0.474801</td>\n",
       "      <td>2.476777</td>\n",
       "      <td>4.036586</td>\n",
       "      <td>2.033074</td>\n",
       "      <td>0.115887</td>\n",
       "      <td>1.714873</td>\n",
       "      <td>3.145704</td>\n",
       "      <td>2.182044</td>\n",
       "      <td>1.01952</td>\n",
       "      <td>...</td>\n",
       "      <td>3.088445</td>\n",
       "      <td>1.638719</td>\n",
       "      <td>0.616832</td>\n",
       "      <td>1.149402</td>\n",
       "      <td>2.604956</td>\n",
       "      <td>1.055608</td>\n",
       "      <td>0.318293</td>\n",
       "      <td>0.630827</td>\n",
       "      <td>2.005793</td>\n",
       "      <td>16</td>\n",
       "    </tr>\n",
       "    <tr>\n",
       "      <th>4</th>\n",
       "      <td>3.071577</td>\n",
       "      <td>0.474801</td>\n",
       "      <td>2.476777</td>\n",
       "      <td>4.036586</td>\n",
       "      <td>2.033074</td>\n",
       "      <td>0.115887</td>\n",
       "      <td>1.714873</td>\n",
       "      <td>3.145704</td>\n",
       "      <td>2.182044</td>\n",
       "      <td>1.01952</td>\n",
       "      <td>...</td>\n",
       "      <td>3.088445</td>\n",
       "      <td>1.638719</td>\n",
       "      <td>0.616832</td>\n",
       "      <td>1.149402</td>\n",
       "      <td>2.604956</td>\n",
       "      <td>1.055608</td>\n",
       "      <td>0.318293</td>\n",
       "      <td>0.630827</td>\n",
       "      <td>2.005793</td>\n",
       "      <td>16</td>\n",
       "    </tr>\n",
       "  </tbody>\n",
       "</table>\n",
       "<p>5 rows × 21 columns</p>\n",
       "</div>"
      ],
      "text/plain": [
       "   Delta_TP9 Delta_AF7 Delta_AF8  Delta_TP10  Theta_TP9 Theta_AF7 Theta_AF8  \\\n",
       "0   3.071577  0.474801  2.476777    4.036586   2.033074  0.115887  1.714873   \n",
       "1   3.071577  0.474801  2.476777    4.036586   2.033074  0.115887  1.714873   \n",
       "2   3.071577  0.474801  2.476777    4.036586   2.033074  0.115887  1.714873   \n",
       "3   3.071577  0.474801  2.476777    4.036586   2.033074  0.115887  1.714873   \n",
       "4   3.071577  0.474801  2.476777    4.036586   2.033074  0.115887  1.714873   \n",
       "\n",
       "   Theta_TP10  Alpha_TP9 Alpha_AF7  ... Alpha_TP10  Beta_TP9  Beta_AF7  \\\n",
       "0    3.145704   2.182044   1.01952  ...   3.088445  1.638719  0.616832   \n",
       "1    3.145704   2.182044   1.01952  ...   3.088445  1.638719  0.616832   \n",
       "2    3.145704   2.182044   1.01952  ...   3.088445  1.638719  0.616832   \n",
       "3    3.145704   2.182044   1.01952  ...   3.088445  1.638719  0.616832   \n",
       "4    3.145704   2.182044   1.01952  ...   3.088445  1.638719  0.616832   \n",
       "\n",
       "   Beta_AF8 Beta_TP10  Gamma_TP9  Gamma_AF7 Gamma_AF8 Gamma_TP10  PSS Score  \n",
       "0  1.149402  2.604956   1.055608   0.318293  0.630827   2.005793         16  \n",
       "1  1.149402  2.604956   1.055608   0.318293  0.630827   2.005793         16  \n",
       "2  1.149402  2.604956   1.055608   0.318293  0.630827   2.005793         16  \n",
       "3  1.149402  2.604956   1.055608   0.318293  0.630827   2.005793         16  \n",
       "4  1.149402  2.604956   1.055608   0.318293  0.630827   2.005793         16  \n",
       "\n",
       "[5 rows x 21 columns]"
      ]
     },
     "execution_count": 20,
     "metadata": {},
     "output_type": "execute_result"
    }
   ],
   "source": [
    "data = pd.read_csv(\"D:/ABU BAKAR MS-AI/Dataset/2 Minutes 28 Subjects Data for Processing.csv\")\n",
    "data.head()"
   ]
  },
  {
   "cell_type": "code",
   "execution_count": null,
   "id": "24ace43a",
   "metadata": {},
   "outputs": [],
   "source": []
  },
  {
   "cell_type": "code",
   "execution_count": 21,
   "id": "452da79f",
   "metadata": {},
   "outputs": [
    {
     "name": "stdout",
     "output_type": "stream",
     "text": [
      "<class 'pandas.core.frame.DataFrame'>\n",
      "RangeIndex: 4 entries, 0 to 3\n",
      "Data columns (total 6 columns):\n",
      " #   Column      Non-Null Count  Dtype \n",
      "---  ------      --------------  ----- \n",
      " 0   studentid   4 non-null      object\n",
      " 1    name       4 non-null      object\n",
      " 2    chimestry  4 non-null      int64 \n",
      " 3    physics    4 non-null      int64 \n",
      " 4    english    4 non-null      int64 \n",
      " 5    math       4 non-null      int64 \n",
      "dtypes: int64(4), object(2)\n",
      "memory usage: 320.0+ bytes\n"
     ]
    }
   ],
   "source": [
    "sample_df.info()"
   ]
  },
  {
   "cell_type": "markdown",
   "id": "cad7aa69",
   "metadata": {},
   "source": [
    "we can change the column names while loading data\n",
    "- "
   ]
  },
  {
   "cell_type": "code",
   "execution_count": 23,
   "id": "32a8fdd1",
   "metadata": {},
   "outputs": [
    {
     "data": {
      "text/html": [
       "<div>\n",
       "<style scoped>\n",
       "    .dataframe tbody tr th:only-of-type {\n",
       "        vertical-align: middle;\n",
       "    }\n",
       "\n",
       "    .dataframe tbody tr th {\n",
       "        vertical-align: top;\n",
       "    }\n",
       "\n",
       "    .dataframe thead th {\n",
       "        text-align: right;\n",
       "    }\n",
       "</style>\n",
       "<table border=\"1\" class=\"dataframe\">\n",
       "  <thead>\n",
       "    <tr style=\"text-align: right;\">\n",
       "      <th></th>\n",
       "      <th>studentid</th>\n",
       "      <th>name</th>\n",
       "      <th>chimestry</th>\n",
       "      <th>physics</th>\n",
       "      <th>english</th>\n",
       "      <th>math</th>\n",
       "    </tr>\n",
       "  </thead>\n",
       "  <tbody>\n",
       "    <tr>\n",
       "      <th>0</th>\n",
       "      <td>A01</td>\n",
       "      <td>arif ali</td>\n",
       "      <td>20</td>\n",
       "      <td>30</td>\n",
       "      <td>40</td>\n",
       "      <td>50</td>\n",
       "    </tr>\n",
       "    <tr>\n",
       "      <th>1</th>\n",
       "      <td>A02</td>\n",
       "      <td>kamran khan</td>\n",
       "      <td>30</td>\n",
       "      <td>40</td>\n",
       "      <td>50</td>\n",
       "      <td>60</td>\n",
       "    </tr>\n",
       "    <tr>\n",
       "      <th>2</th>\n",
       "      <td>A03</td>\n",
       "      <td>imran ali</td>\n",
       "      <td>40</td>\n",
       "      <td>50</td>\n",
       "      <td>60</td>\n",
       "      <td>70</td>\n",
       "    </tr>\n",
       "    <tr>\n",
       "      <th>3</th>\n",
       "      <td>A04</td>\n",
       "      <td>kashif khan</td>\n",
       "      <td>50</td>\n",
       "      <td>60</td>\n",
       "      <td>70</td>\n",
       "      <td>80</td>\n",
       "    </tr>\n",
       "  </tbody>\n",
       "</table>\n",
       "</div>"
      ],
      "text/plain": [
       "  studentid         name   chimestry   physics   english   math\n",
       "0       A01     arif ali          20        30        40     50\n",
       "1       A02  kamran khan          30        40        50     60\n",
       "2       A03   imran ali           40        50        60     70\n",
       "3       A04  kashif khan          50        60        70     80"
      ]
     },
     "execution_count": 23,
     "metadata": {},
     "output_type": "execute_result"
    }
   ],
   "source": [
    "sample_df= pd.read_csv(\"examples/sample.csv\")\n",
    "sample_df"
   ]
  },
  {
   "cell_type": "code",
   "execution_count": 25,
   "id": "6c41ddc0",
   "metadata": {},
   "outputs": [
    {
     "data": {
      "text/html": [
       "<div>\n",
       "<style scoped>\n",
       "    .dataframe tbody tr th:only-of-type {\n",
       "        vertical-align: middle;\n",
       "    }\n",
       "\n",
       "    .dataframe tbody tr th {\n",
       "        vertical-align: top;\n",
       "    }\n",
       "\n",
       "    .dataframe thead th {\n",
       "        text-align: right;\n",
       "    }\n",
       "</style>\n",
       "<table border=\"1\" class=\"dataframe\">\n",
       "  <thead>\n",
       "    <tr style=\"text-align: right;\">\n",
       "      <th></th>\n",
       "      <th>id</th>\n",
       "      <th>name</th>\n",
       "      <th>ch</th>\n",
       "      <th>ph</th>\n",
       "      <th>en</th>\n",
       "      <th>math</th>\n",
       "    </tr>\n",
       "  </thead>\n",
       "  <tbody>\n",
       "    <tr>\n",
       "      <th>0</th>\n",
       "      <td>A01</td>\n",
       "      <td>arif ali</td>\n",
       "      <td>20</td>\n",
       "      <td>30</td>\n",
       "      <td>40</td>\n",
       "      <td>50</td>\n",
       "    </tr>\n",
       "    <tr>\n",
       "      <th>1</th>\n",
       "      <td>A02</td>\n",
       "      <td>kamran khan</td>\n",
       "      <td>30</td>\n",
       "      <td>40</td>\n",
       "      <td>50</td>\n",
       "      <td>60</td>\n",
       "    </tr>\n",
       "    <tr>\n",
       "      <th>2</th>\n",
       "      <td>A03</td>\n",
       "      <td>imran ali</td>\n",
       "      <td>40</td>\n",
       "      <td>50</td>\n",
       "      <td>60</td>\n",
       "      <td>70</td>\n",
       "    </tr>\n",
       "    <tr>\n",
       "      <th>3</th>\n",
       "      <td>A04</td>\n",
       "      <td>kashif khan</td>\n",
       "      <td>50</td>\n",
       "      <td>60</td>\n",
       "      <td>70</td>\n",
       "      <td>80</td>\n",
       "    </tr>\n",
       "  </tbody>\n",
       "</table>\n",
       "</div>"
      ],
      "text/plain": [
       "    id         name  ch  ph  en  math\n",
       "0  A01     arif ali  20  30  40    50\n",
       "1  A02  kamran khan  30  40  50    60\n",
       "2  A03   imran ali   40  50  60    70\n",
       "3  A04  kashif khan  50  60  70    80"
      ]
     },
     "execution_count": 25,
     "metadata": {},
     "output_type": "execute_result"
    }
   ],
   "source": [
    "#  change the column names while loading data\n",
    "\n",
    "sample_df=pd.read_csv(\"examples/sample.csv\",skiprows=1,\n",
    "                     names=['id', 'name', 'ch', 'ph', 'en', 'math'])\n",
    "sample_df"
   ]
  },
  {
   "cell_type": "code",
   "execution_count": null,
   "id": "0b2e1e30",
   "metadata": {},
   "outputs": [],
   "source": []
  },
  {
   "cell_type": "markdown",
   "id": "e13e6cd8",
   "metadata": {},
   "source": [
    "# Handling Missing Values"
   ]
  },
  {
   "cell_type": "code",
   "execution_count": 26,
   "id": "3326cccf",
   "metadata": {},
   "outputs": [
    {
     "data": {
      "text/html": [
       "<div>\n",
       "<style scoped>\n",
       "    .dataframe tbody tr th:only-of-type {\n",
       "        vertical-align: middle;\n",
       "    }\n",
       "\n",
       "    .dataframe tbody tr th {\n",
       "        vertical-align: top;\n",
       "    }\n",
       "\n",
       "    .dataframe thead th {\n",
       "        text-align: right;\n",
       "    }\n",
       "</style>\n",
       "<table border=\"1\" class=\"dataframe\">\n",
       "  <thead>\n",
       "    <tr style=\"text-align: right;\">\n",
       "      <th></th>\n",
       "      <th>something</th>\n",
       "      <th>a</th>\n",
       "      <th>b</th>\n",
       "      <th>c</th>\n",
       "      <th>d</th>\n",
       "      <th>message</th>\n",
       "    </tr>\n",
       "  </thead>\n",
       "  <tbody>\n",
       "    <tr>\n",
       "      <th>0</th>\n",
       "      <td>one</td>\n",
       "      <td>1</td>\n",
       "      <td>2</td>\n",
       "      <td>3.0</td>\n",
       "      <td>4</td>\n",
       "      <td>NaN</td>\n",
       "    </tr>\n",
       "    <tr>\n",
       "      <th>1</th>\n",
       "      <td>two</td>\n",
       "      <td>5</td>\n",
       "      <td>6</td>\n",
       "      <td>NaN</td>\n",
       "      <td>8</td>\n",
       "      <td>world</td>\n",
       "    </tr>\n",
       "    <tr>\n",
       "      <th>2</th>\n",
       "      <td>three</td>\n",
       "      <td>9</td>\n",
       "      <td>10</td>\n",
       "      <td>11.0</td>\n",
       "      <td>12</td>\n",
       "      <td>foo</td>\n",
       "    </tr>\n",
       "  </tbody>\n",
       "</table>\n",
       "</div>"
      ],
      "text/plain": [
       "  something  a   b     c   d message\n",
       "0       one  1   2   3.0   4     NaN\n",
       "1       two  5   6   NaN   8   world\n",
       "2     three  9  10  11.0  12     foo"
      ]
     },
     "execution_count": 26,
     "metadata": {},
     "output_type": "execute_result"
    }
   ],
   "source": [
    "result = pd.read_csv('examples/sample3.csv')\n",
    "result"
   ]
  },
  {
   "cell_type": "code",
   "execution_count": 28,
   "id": "af791330",
   "metadata": {},
   "outputs": [
    {
     "data": {
      "text/html": [
       "<div>\n",
       "<style scoped>\n",
       "    .dataframe tbody tr th:only-of-type {\n",
       "        vertical-align: middle;\n",
       "    }\n",
       "\n",
       "    .dataframe tbody tr th {\n",
       "        vertical-align: top;\n",
       "    }\n",
       "\n",
       "    .dataframe thead th {\n",
       "        text-align: right;\n",
       "    }\n",
       "</style>\n",
       "<table border=\"1\" class=\"dataframe\">\n",
       "  <thead>\n",
       "    <tr style=\"text-align: right;\">\n",
       "      <th></th>\n",
       "      <th>something</th>\n",
       "      <th>a</th>\n",
       "      <th>b</th>\n",
       "      <th>c</th>\n",
       "      <th>d</th>\n",
       "      <th>message</th>\n",
       "    </tr>\n",
       "  </thead>\n",
       "  <tbody>\n",
       "    <tr>\n",
       "      <th>0</th>\n",
       "      <td>one</td>\n",
       "      <td>1</td>\n",
       "      <td>2</td>\n",
       "      <td>3.0</td>\n",
       "      <td>4</td>\n",
       "      <td>NaN</td>\n",
       "    </tr>\n",
       "    <tr>\n",
       "      <th>1</th>\n",
       "      <td>two</td>\n",
       "      <td>5</td>\n",
       "      <td>6</td>\n",
       "      <td>NaN</td>\n",
       "      <td>8</td>\n",
       "      <td>world</td>\n",
       "    </tr>\n",
       "    <tr>\n",
       "      <th>2</th>\n",
       "      <td>three</td>\n",
       "      <td>9</td>\n",
       "      <td>10</td>\n",
       "      <td>11.0</td>\n",
       "      <td>12</td>\n",
       "      <td>NaN</td>\n",
       "    </tr>\n",
       "  </tbody>\n",
       "</table>\n",
       "</div>"
      ],
      "text/plain": [
       "  something  a   b     c   d message\n",
       "0       one  1   2   3.0   4     NaN\n",
       "1       two  5   6   NaN   8   world\n",
       "2     three  9  10  11.0  12     NaN"
      ]
     },
     "execution_count": 28,
     "metadata": {},
     "output_type": "execute_result"
    }
   ],
   "source": [
    "#changing data while loading in dataframe\n",
    "\n",
    "#diconary=  column name : [source values, target value]#\n",
    "\n",
    "sentinels = {'message':   ['foo', 'NA']}\n",
    "\n",
    "pd.read_csv('examples/sample3.csv', na_values = sentinels)\n"
   ]
  },
  {
   "cell_type": "markdown",
   "id": "ff42a7a4",
   "metadata": {},
   "source": [
    "-  By default, pandas uses a set of commonly occurring sentinels, such as NA and NULL"
   ]
  },
  {
   "cell_type": "code",
   "execution_count": null,
   "id": "17fb9647",
   "metadata": {},
   "outputs": [],
   "source": []
  },
  {
   "cell_type": "markdown",
   "id": "429e73cd",
   "metadata": {},
   "source": [
    "# Reading and Text Files in Pieces"
   ]
  },
  {
   "cell_type": "code",
   "execution_count": 29,
   "id": "06786b92",
   "metadata": {},
   "outputs": [
    {
     "name": "stdout",
     "output_type": "stream",
     "text": [
      "      battery_power  blue  clock_speed  dual_sim  fc  four_g  int_memory  \\\n",
      "0               842     0          2.2         0   1       0           7   \n",
      "1              1021     1          0.5         1   0       1          53   \n",
      "2               563     1          0.5         1   2       1          41   \n",
      "3               615     1          2.5         0   0       0          10   \n",
      "4              1821     1          1.2         0  13       1          44   \n",
      "...             ...   ...          ...       ...  ..     ...         ...   \n",
      "1995            794     1          0.5         1   0       1           2   \n",
      "1996           1965     1          2.6         1   0       0          39   \n",
      "1997           1911     0          0.9         1   1       1          36   \n",
      "1998           1512     0          0.9         0   4       1          46   \n",
      "1999            510     1          2.0         1   5       1          45   \n",
      "\n",
      "      m_dep  mobile_wt  n_cores  ...  px_height  px_width   ram  sc_h  sc_w  \\\n",
      "0       0.6        188        2  ...         20       756  2549     9     7   \n",
      "1       0.7        136        3  ...        905      1988  2631    17     3   \n",
      "2       0.9        145        5  ...       1263      1716  2603    11     2   \n",
      "3       0.8        131        6  ...       1216      1786  2769    16     8   \n",
      "4       0.6        141        2  ...       1208      1212  1411     8     2   \n",
      "...     ...        ...      ...  ...        ...       ...   ...   ...   ...   \n",
      "1995    0.8        106        6  ...       1222      1890   668    13     4   \n",
      "1996    0.2        187        4  ...        915      1965  2032    11    10   \n",
      "1997    0.7        108        8  ...        868      1632  3057     9     1   \n",
      "1998    0.1        145        5  ...        336       670   869    18    10   \n",
      "1999    0.9        168        6  ...        483       754  3919    19     4   \n",
      "\n",
      "      talk_time  three_g  touch_screen  wifi  price_range  \n",
      "0            19        0             0     1            1  \n",
      "1             7        1             1     0            2  \n",
      "2             9        1             1     0            2  \n",
      "3            11        1             0     0            2  \n",
      "4            15        1             1     0            1  \n",
      "...         ...      ...           ...   ...          ...  \n",
      "1995         19        1             1     0            0  \n",
      "1996         16        1             1     1            2  \n",
      "1997          5        1             1     0            3  \n",
      "1998         19        1             1     1            0  \n",
      "1999          2        1             1     1            3  \n",
      "\n",
      "[2000 rows x 21 columns]\n"
     ]
    }
   ],
   "source": [
    "data =pd.read_csv('datasets/train.csv')\n",
    "print(data)"
   ]
  },
  {
   "cell_type": "code",
   "execution_count": 30,
   "id": "8d467676",
   "metadata": {},
   "outputs": [
    {
     "data": {
      "text/plain": [
       "(2000, 21)"
      ]
     },
     "execution_count": 30,
     "metadata": {},
     "output_type": "execute_result"
    }
   ],
   "source": [
    "data.shape"
   ]
  },
  {
   "cell_type": "code",
   "execution_count": null,
   "id": "2e5c2f1f",
   "metadata": {},
   "outputs": [],
   "source": []
  },
  {
   "cell_type": "code",
   "execution_count": null,
   "id": "735f7c80",
   "metadata": {},
   "outputs": [],
   "source": [
    "#extracting selected rows from a large datasets\n",
    "data =pd.read_csv('datasets/train.csv', nrows=200)\n"
   ]
  },
  {
   "cell_type": "code",
   "execution_count": null,
   "id": "301ff765",
   "metadata": {},
   "outputs": [],
   "source": [
    "print(data)"
   ]
  },
  {
   "cell_type": "code",
   "execution_count": null,
   "id": "e58fb163",
   "metadata": {},
   "outputs": [],
   "source": []
  },
  {
   "cell_type": "markdown",
   "id": "fec5b00c",
   "metadata": {},
   "source": [
    "Chunks mean 2000 rows loads or reads in 10 chunks because each chunks has read 200 rows\n",
    "-"
   ]
  },
  {
   "cell_type": "code",
   "execution_count": null,
   "id": "2b4ba22d",
   "metadata": {},
   "outputs": [],
   "source": [
    "#To read a file in pieces, specify a chunksize as a number of rows:\n",
    "\n",
    "chunks = pd.read_csv('datasets/train.csv', chunksize=200)\n",
    "print(type(chunks), print(chunks) )\n"
   ]
  },
  {
   "cell_type": "code",
   "execution_count": null,
   "id": "a65579ef",
   "metadata": {},
   "outputs": [],
   "source": [
    "\n",
    "chunks = pd.read_csv('datasets/train.csv', chunksize=200)\n",
    "\n",
    "chunkList = []\n",
    "for chunk in chunks:\n",
    "    chunkList.append(chunk)\n",
    "    \n",
    "    \n",
    "#print(chunkList) \n",
    "\n",
    "df = chunkList[0] \n",
    "df.head()"
   ]
  },
  {
   "cell_type": "markdown",
   "id": "06342c69",
   "metadata": {},
   "source": [
    "# read text file in pandas "
   ]
  },
  {
   "cell_type": "code",
   "execution_count": null,
   "id": "f2f568ef",
   "metadata": {},
   "outputs": [],
   "source": [
    "data = list(open('examples/ex3.txt'))\n",
    "print(data)\n",
    "# use spaces (one or more ) as delimiter \n",
    "#result = pd.read_table('examples/ex3.txt', sep='\\s+')\n",
    "#result"
   ]
  },
  {
   "cell_type": "code",
   "execution_count": null,
   "id": "a05ed448",
   "metadata": {},
   "outputs": [],
   "source": [
    "# use spaces (one or more ) as delimiter \n",
    "\n",
    "result = pd.read_table('examples/ex3.txt', sep='\\s+')\n",
    "result"
   ]
  },
  {
   "cell_type": "code",
   "execution_count": null,
   "id": "a1d36099",
   "metadata": {},
   "outputs": [],
   "source": []
  },
  {
   "cell_type": "code",
   "execution_count": null,
   "id": "141c6b34",
   "metadata": {},
   "outputs": [],
   "source": [
    "df = pd.read_csv('examples/ex4.csv') #skiprows=[0, 2, 3])\n",
    "df"
   ]
  },
  {
   "cell_type": "code",
   "execution_count": null,
   "id": "59eac52d",
   "metadata": {},
   "outputs": [],
   "source": [
    "df = pd.read_csv('examples/ex4.csv', skiprows=[0, 2, 3])\n",
    "df"
   ]
  },
  {
   "cell_type": "code",
   "execution_count": null,
   "id": "c0b4ec5c",
   "metadata": {},
   "outputs": [],
   "source": []
  },
  {
   "cell_type": "markdown",
   "id": "084968d2",
   "metadata": {},
   "source": [
    "# JSON Data\n",
    "- short for JavaScript Object Notation"
   ]
  },
  {
   "cell_type": "code",
   "execution_count": null,
   "id": "83ce7db8",
   "metadata": {},
   "outputs": [],
   "source": [
    "data = pd.read_json('examples/example.json')\n",
    "data"
   ]
  },
  {
   "cell_type": "code",
   "execution_count": null,
   "id": "2e867acb",
   "metadata": {},
   "outputs": [],
   "source": [
    "js = pd.read_json(\"json/hy.json\")\n",
    "print(js)\n",
    "js.head()"
   ]
  },
  {
   "cell_type": "code",
   "execution_count": null,
   "id": "d1231ea8",
   "metadata": {},
   "outputs": [],
   "source": []
  },
  {
   "cell_type": "markdown",
   "id": "84fa64f9",
   "metadata": {},
   "source": [
    "# XML and HTML: Web data loading in to dataframe"
   ]
  },
  {
   "cell_type": "code",
   "execution_count": null,
   "id": "20c58359",
   "metadata": {},
   "outputs": [],
   "source": [
    "#conda install lxml\n",
    "# conda install -c anaconda beautifulsoup4 \n",
    "# htconda install -c anaconda html5lib"
   ]
  },
  {
   "cell_type": "code",
   "execution_count": null,
   "id": "878210dc",
   "metadata": {},
   "outputs": [],
   "source": [
    "import pandas as pd\n",
    "tables = pd.read_html('examples/fdic_failed_bank_list.html')\n",
    "# tables variable type is not dataframe, its list\n",
    "print(type(tables))\n",
    "print(len(tables))"
   ]
  },
  {
   "cell_type": "code",
   "execution_count": null,
   "id": "68883a41",
   "metadata": {},
   "outputs": [],
   "source": [
    "fa_df = tables[0]\n",
    "type(fa_df)"
   ]
  },
  {
   "cell_type": "code",
   "execution_count": null,
   "id": "763d5205",
   "metadata": {},
   "outputs": [],
   "source": [
    "fa_df.head()"
   ]
  },
  {
   "cell_type": "code",
   "execution_count": null,
   "id": "3b63ca52",
   "metadata": {},
   "outputs": [],
   "source": [
    "failures_df = tables[0]\n",
    "\n",
    "print(type(failures_df))\n",
    "print(failures_df.shape)"
   ]
  },
  {
   "cell_type": "code",
   "execution_count": null,
   "id": "9fabdccd",
   "metadata": {},
   "outputs": [],
   "source": [
    "# warning: data is bit lengthy in this data frame\n",
    "print(failures_df.columns)\n",
    "len(failures_df)\n",
    "#print(failures_df[\"City\"].head())\n",
    "#print(failures_df[\"Bank Name\"].head())\n",
    "#print(failures_df.head())"
   ]
  },
  {
   "cell_type": "code",
   "execution_count": null,
   "id": "e010192d",
   "metadata": {},
   "outputs": [],
   "source": [
    "print(failures_df[\"City\"].head())\n",
    "#print(failures_df[\"Bank Name\"].head())\n",
    "#print(failures_df.head())"
   ]
  },
  {
   "cell_type": "code",
   "execution_count": null,
   "id": "4a7cfe03",
   "metadata": {},
   "outputs": [],
   "source": [
    "print(failures_df[\"Bank Name\"].head())"
   ]
  },
  {
   "cell_type": "code",
   "execution_count": null,
   "id": "c0abe48b",
   "metadata": {},
   "outputs": [],
   "source": [
    "print(failures_df.head())"
   ]
  },
  {
   "cell_type": "code",
   "execution_count": null,
   "id": "e7151e3a",
   "metadata": {},
   "outputs": [],
   "source": []
  },
  {
   "cell_type": "markdown",
   "id": "c91a44c5",
   "metadata": {},
   "source": [
    "# Reading Microsoft Excel Files\n"
   ]
  },
  {
   "cell_type": "code",
   "execution_count": null,
   "id": "814ec9ab",
   "metadata": {},
   "outputs": [],
   "source": [
    "import pandas as pd\n",
    "\n",
    "xlsx = pd.ExcelFile('examples/ex1.xlsx')\n",
    "pd.read_excel(xlsx, 'Sheet1')\n"
   ]
  },
  {
   "cell_type": "code",
   "execution_count": null,
   "id": "8920c706",
   "metadata": {},
   "outputs": [],
   "source": []
  }
 ],
 "metadata": {
  "kernelspec": {
   "display_name": "Python 3 (ipykernel)",
   "language": "python",
   "name": "python3"
  },
  "language_info": {
   "codemirror_mode": {
    "name": "ipython",
    "version": 3
   },
   "file_extension": ".py",
   "mimetype": "text/x-python",
   "name": "python",
   "nbconvert_exporter": "python",
   "pygments_lexer": "ipython3",
   "version": "3.9.13"
  }
 },
 "nbformat": 4,
 "nbformat_minor": 5
}
