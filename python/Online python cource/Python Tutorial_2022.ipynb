{
 "cells": [
  {
   "cell_type": "markdown",
   "id": "489e38b5",
   "metadata": {},
   "source": [
    "# Welcome to python tutorial"
   ]
  },
  {
   "cell_type": "code",
   "execution_count": 1,
   "id": "edde507c",
   "metadata": {},
   "outputs": [
    {
     "name": "stdout",
     "output_type": "stream",
     "text": [
      "\n"
     ]
    }
   ],
   "source": [
    "print()"
   ]
  },
  {
   "cell_type": "code",
   "execution_count": 2,
   "id": "b4c9deab",
   "metadata": {},
   "outputs": [
    {
     "name": "stdout",
     "output_type": "stream",
     "text": [
      "2839\n"
     ]
    }
   ],
   "source": [
    "print(2839)\n"
   ]
  },
  {
   "cell_type": "code",
   "execution_count": 3,
   "id": "4052e7cc",
   "metadata": {},
   "outputs": [
    {
     "name": "stdout",
     "output_type": "stream",
     "text": [
      "python programming\n"
     ]
    }
   ],
   "source": [
    "print(\"python programming\")"
   ]
  },
  {
   "cell_type": "code",
   "execution_count": 4,
   "id": "49ce2f5b",
   "metadata": {},
   "outputs": [
    {
     "name": "stdout",
     "output_type": "stream",
     "text": [
      "89329032.8344\n"
     ]
    }
   ],
   "source": [
    "print(89329032.8344)"
   ]
  },
  {
   "cell_type": "markdown",
   "id": "cf233ad9",
   "metadata": {},
   "source": [
    "# user_input"
   ]
  },
  {
   "cell_type": "code",
   "execution_count": null,
   "id": "c49da237",
   "metadata": {},
   "outputs": [],
   "source": [
    "# user input or taking value from user or programmer"
   ]
  },
  {
   "cell_type": "code",
   "execution_count": null,
   "id": "aae6660c",
   "metadata": {},
   "outputs": [],
   "source": [
    "#    input()"
   ]
  },
  {
   "cell_type": "code",
   "execution_count": 5,
   "id": "ce32e6af",
   "metadata": {},
   "outputs": [
    {
     "name": "stdout",
     "output_type": "stream",
     "text": [
      "Enter the value90\n",
      "90\n"
     ]
    },
    {
     "data": {
      "text/plain": [
       "str"
      ]
     },
     "execution_count": 5,
     "metadata": {},
     "output_type": "execute_result"
    }
   ],
   "source": [
    "num = input(\"Enter the value\")\n",
    "\n",
    "print(num)\n",
    "type(num)"
   ]
  },
  {
   "cell_type": "code",
   "execution_count": 7,
   "id": "905f9fae",
   "metadata": {},
   "outputs": [
    {
     "name": "stdout",
     "output_type": "stream",
     "text": [
      "Enter your marks10.0834\n",
      "10.0834\n"
     ]
    },
    {
     "data": {
      "text/plain": [
       "str"
      ]
     },
     "execution_count": 7,
     "metadata": {},
     "output_type": "execute_result"
    }
   ],
   "source": [
    "val = input(\"Enter your marks\")\n",
    "print(val)\n",
    "type(val)\n"
   ]
  },
  {
   "cell_type": "code",
   "execution_count": null,
   "id": "bf37d87c",
   "metadata": {},
   "outputs": [],
   "source": []
  },
  {
   "cell_type": "code",
   "execution_count": 9,
   "id": "b4876bfd",
   "metadata": {},
   "outputs": [
    {
     "name": "stdout",
     "output_type": "stream",
     "text": [
      "Enter the integer values50010\n",
      "50010\n"
     ]
    },
    {
     "data": {
      "text/plain": [
       "int"
      ]
     },
     "execution_count": 9,
     "metadata": {},
     "output_type": "execute_result"
    }
   ],
   "source": [
    "val = int(input(\"Enter the integer values\"))\n",
    "print(val)\n",
    "type(val)"
   ]
  },
  {
   "cell_type": "code",
   "execution_count": null,
   "id": "742b1da5",
   "metadata": {},
   "outputs": [],
   "source": []
  },
  {
   "cell_type": "code",
   "execution_count": 10,
   "id": "9d16400a",
   "metadata": {},
   "outputs": [
    {
     "name": "stdout",
     "output_type": "stream",
     "text": [
      "Enter the integer values123\n",
      "123.0\n"
     ]
    },
    {
     "data": {
      "text/plain": [
       "float"
      ]
     },
     "execution_count": 10,
     "metadata": {},
     "output_type": "execute_result"
    }
   ],
   "source": [
    "val = float(input(\"Enter the integer values: \"))\n",
    "\n",
    "print(val)\n",
    "type(val)"
   ]
  },
  {
   "cell_type": "code",
   "execution_count": null,
   "id": "bb6e2c6d",
   "metadata": {},
   "outputs": [],
   "source": []
  },
  {
   "cell_type": "code",
   "execution_count": null,
   "id": "ac97bd2b",
   "metadata": {},
   "outputs": [],
   "source": []
  },
  {
   "cell_type": "code",
   "execution_count": null,
   "id": "ec7df25f",
   "metadata": {},
   "outputs": [],
   "source": []
  },
  {
   "cell_type": "code",
   "execution_count": null,
   "id": "8b70626c",
   "metadata": {},
   "outputs": [],
   "source": [
    "data = int(input(\"Enter the the integer value \"))"
   ]
  },
  {
   "cell_type": "code",
   "execution_count": null,
   "id": "2077989c",
   "metadata": {},
   "outputs": [],
   "source": [
    "d = input(\"enter value\")\n",
    "type(d)"
   ]
  },
  {
   "cell_type": "code",
   "execution_count": null,
   "id": "8c3ad54f",
   "metadata": {},
   "outputs": [],
   "source": []
  },
  {
   "cell_type": "code",
   "execution_count": null,
   "id": "219165df",
   "metadata": {},
   "outputs": [],
   "source": [
    "data"
   ]
  },
  {
   "cell_type": "code",
   "execution_count": null,
   "id": "ddde3618",
   "metadata": {},
   "outputs": [],
   "source": [
    "type(data)"
   ]
  },
  {
   "cell_type": "code",
   "execution_count": null,
   "id": "9005d37e",
   "metadata": {},
   "outputs": [],
   "source": [
    "float = float(input(\"Enter the floating point value\"))"
   ]
  },
  {
   "cell_type": "code",
   "execution_count": null,
   "id": "acc83da9",
   "metadata": {},
   "outputs": [],
   "source": [
    "float"
   ]
  },
  {
   "cell_type": "code",
   "execution_count": null,
   "id": "63b08098",
   "metadata": {},
   "outputs": [],
   "source": [
    "string = str(input(\"Enter the string\"))"
   ]
  },
  {
   "cell_type": "code",
   "execution_count": null,
   "id": "0640cc31",
   "metadata": {},
   "outputs": [],
   "source": [
    "string   # dealing as string"
   ]
  },
  {
   "cell_type": "code",
   "execution_count": null,
   "id": "c24f11fb",
   "metadata": {},
   "outputs": [],
   "source": []
  },
  {
   "cell_type": "code",
   "execution_count": null,
   "id": "a20875c4",
   "metadata": {},
   "outputs": [],
   "source": [
    "data"
   ]
  },
  {
   "cell_type": "code",
   "execution_count": null,
   "id": "6ee356dc",
   "metadata": {},
   "outputs": [],
   "source": []
  },
  {
   "cell_type": "code",
   "execution_count": null,
   "id": "5ab604e5",
   "metadata": {},
   "outputs": [],
   "source": [
    "type(data)"
   ]
  },
  {
   "cell_type": "code",
   "execution_count": null,
   "id": "045ea9d8",
   "metadata": {},
   "outputs": [],
   "source": []
  },
  {
   "cell_type": "code",
   "execution_count": null,
   "id": "a0887b98",
   "metadata": {},
   "outputs": [],
   "source": []
  },
  {
   "cell_type": "markdown",
   "id": "fd472daa",
   "metadata": {},
   "source": [
    "# Lists in Python"
   ]
  },
  {
   "cell_type": "markdown",
   "id": "9167b663",
   "metadata": {},
   "source": [
    "Lists are used to store multiple items in a single variable.\n",
    "\n",
    "Lists are one of 4 built-in data types in Python used to store collections of data,\n",
    "the other 3 are Tuple, Set, and Dictionary, all with different qualities and usage."
   ]
  },
  {
   "cell_type": "code",
   "execution_count": null,
   "id": "75f35306",
   "metadata": {},
   "outputs": [],
   "source": []
  },
  {
   "cell_type": "code",
   "execution_count": null,
   "id": "5873c324",
   "metadata": {},
   "outputs": [],
   "source": []
  },
  {
   "cell_type": "markdown",
   "id": "a40c1379",
   "metadata": {},
   "source": [
    "Creating List"
   ]
  },
  {
   "cell_type": "code",
   "execution_count": 15,
   "id": "e8ded1d7",
   "metadata": {},
   "outputs": [
    {
     "name": "stdout",
     "output_type": "stream",
     "text": [
      "['ali', 'hamza', 'rana', 100, 20.2]\n"
     ]
    },
    {
     "data": {
      "text/plain": [
       "list"
      ]
     },
     "execution_count": 15,
     "metadata": {},
     "output_type": "execute_result"
    }
   ],
   "source": [
    "name = [\"ali\", \"hamza\", \"rana\", 100, 20.20]\n",
    "print(name)\n",
    "type(name)"
   ]
  },
  {
   "cell_type": "code",
   "execution_count": null,
   "id": "9bb7890d",
   "metadata": {},
   "outputs": [],
   "source": []
  },
  {
   "cell_type": "code",
   "execution_count": null,
   "id": "c432093f",
   "metadata": {},
   "outputs": [],
   "source": [
    "num = [12,20,34,55,]\n",
    "print(num)\n",
    "\n",
    "cities = [\"bwp\", 'lahore',\"multan\"]\n",
    "print(cities)"
   ]
  },
  {
   "cell_type": "code",
   "execution_count": null,
   "id": "1276b9f2",
   "metadata": {},
   "outputs": [],
   "source": [
    "bscs6 = [\"saeed\", 'rashna', \"rabia\", 'samreen', 'nagina']\n",
    "print(bscs6)"
   ]
  },
  {
   "cell_type": "code",
   "execution_count": null,
   "id": "480112f4",
   "metadata": {},
   "outputs": [],
   "source": []
  },
  {
   "cell_type": "code",
   "execution_count": 16,
   "id": "eef1927f",
   "metadata": {},
   "outputs": [],
   "source": [
    "names=[\"Rana\",\"saeed\",\"Ramzan\",\"Ijaz\",\"Irfan\",\"Ali\",\"Abbas\",\"Imran\",\"Amjad\"]\n",
    "\n",
    "city=[\"gogran\",\"lodhran\",\"bwp\",\"multan\"]\n",
    "\n",
    "val = [20,50,10,90,40,70,30,60]\n"
   ]
  },
  {
   "cell_type": "markdown",
   "id": "77af7fc0",
   "metadata": {},
   "source": [
    "# index()"
   ]
  },
  {
   "cell_type": "code",
   "execution_count": 17,
   "id": "3744eb18",
   "metadata": {},
   "outputs": [
    {
     "data": {
      "text/plain": [
       "['Rana', 'saeed', 'Ramzan', 'Ijaz', 'Irfan', 'Ali', 'Abbas', 'Imran', 'Amjad']"
      ]
     },
     "execution_count": 17,
     "metadata": {},
     "output_type": "execute_result"
    }
   ],
   "source": [
    "names"
   ]
  },
  {
   "cell_type": "code",
   "execution_count": 18,
   "id": "395d76df",
   "metadata": {},
   "outputs": [
    {
     "data": {
      "text/plain": [
       "'saeed'"
      ]
     },
     "execution_count": 18,
     "metadata": {},
     "output_type": "execute_result"
    }
   ],
   "source": [
    "names[1]"
   ]
  },
  {
   "cell_type": "code",
   "execution_count": 19,
   "id": "5a8634d5",
   "metadata": {},
   "outputs": [],
   "source": [
    "#positive indexing and negative indexing"
   ]
  },
  {
   "cell_type": "code",
   "execution_count": 25,
   "id": "75ee4a55",
   "metadata": {},
   "outputs": [
    {
     "name": "stdout",
     "output_type": "stream",
     "text": [
      "Ali\n",
      "Irfan\n"
     ]
    }
   ],
   "source": [
    "print(names[5])\n",
    "\n",
    "print(names[-5])"
   ]
  },
  {
   "cell_type": "code",
   "execution_count": 26,
   "id": "df869e6d",
   "metadata": {},
   "outputs": [
    {
     "data": {
      "text/plain": [
       "['Ramzan', 'Ijaz', 'Irfan']"
      ]
     },
     "execution_count": 26,
     "metadata": {},
     "output_type": "execute_result"
    }
   ],
   "source": [
    "names[-7 : -4] # Negative indexing"
   ]
  },
  {
   "cell_type": "code",
   "execution_count": 36,
   "id": "7d4f50fc",
   "metadata": {},
   "outputs": [
    {
     "data": {
      "text/plain": [
       "[]"
      ]
     },
     "execution_count": 36,
     "metadata": {},
     "output_type": "execute_result"
    }
   ],
   "source": [
    "names[-4 : -7]"
   ]
  },
  {
   "cell_type": "code",
   "execution_count": 35,
   "id": "3602fd30",
   "metadata": {},
   "outputs": [
    {
     "data": {
      "text/plain": [
       "['Irfan', 'Ali', 'Abbas']"
      ]
     },
     "execution_count": 35,
     "metadata": {},
     "output_type": "execute_result"
    }
   ],
   "source": [
    "#names[7 : 4] # positive indexing\n",
    "\n",
    "names[4 : 7]"
   ]
  },
  {
   "cell_type": "code",
   "execution_count": 27,
   "id": "1ceaa93b",
   "metadata": {},
   "outputs": [
    {
     "data": {
      "text/plain": [
       "'Ijaz'"
      ]
     },
     "execution_count": 27,
     "metadata": {},
     "output_type": "execute_result"
    }
   ],
   "source": [
    "names[3]"
   ]
  },
  {
   "cell_type": "markdown",
   "id": "8f74d7f3",
   "metadata": {},
   "source": [
    "# Access Value from the Lists"
   ]
  },
  {
   "cell_type": "markdown",
   "id": "367b5a6c",
   "metadata": {},
   "source": [
    "lsitName + index  + = names[0]"
   ]
  },
  {
   "cell_type": "code",
   "execution_count": 28,
   "id": "7c427413",
   "metadata": {},
   "outputs": [
    {
     "data": {
      "text/plain": [
       "'Rana'"
      ]
     },
     "execution_count": 28,
     "metadata": {},
     "output_type": "execute_result"
    }
   ],
   "source": [
    "names[0]"
   ]
  },
  {
   "cell_type": "code",
   "execution_count": 29,
   "id": "21736997",
   "metadata": {},
   "outputs": [
    {
     "data": {
      "text/plain": [
       "['Rana', 'saeed', 'Ramzan', 'Ijaz', 'Irfan', 'Ali', 'Abbas', 'Imran', 'Amjad']"
      ]
     },
     "execution_count": 29,
     "metadata": {},
     "output_type": "execute_result"
    }
   ],
   "source": [
    "names"
   ]
  },
  {
   "cell_type": "code",
   "execution_count": 30,
   "id": "e369675e",
   "metadata": {},
   "outputs": [
    {
     "data": {
      "text/plain": [
       "'Imran'"
      ]
     },
     "execution_count": 30,
     "metadata": {},
     "output_type": "execute_result"
    }
   ],
   "source": [
    "names[7]"
   ]
  },
  {
   "cell_type": "markdown",
   "id": "c175e41f",
   "metadata": {},
   "source": [
    "# len()"
   ]
  },
  {
   "cell_type": "code",
   "execution_count": 32,
   "id": "262570ac",
   "metadata": {},
   "outputs": [
    {
     "data": {
      "text/plain": [
       "9"
      ]
     },
     "execution_count": 32,
     "metadata": {},
     "output_type": "execute_result"
    }
   ],
   "source": [
    "len(names)"
   ]
  },
  {
   "cell_type": "code",
   "execution_count": 33,
   "id": "6011c031",
   "metadata": {},
   "outputs": [
    {
     "data": {
      "text/plain": [
       "['Rana', 'saeed', 'Ramzan', 'Ijaz', 'Irfan', 'Ali', 'Abbas', 'Imran', 'Amjad']"
      ]
     },
     "execution_count": 33,
     "metadata": {},
     "output_type": "execute_result"
    }
   ],
   "source": [
    "names"
   ]
  },
  {
   "cell_type": "code",
   "execution_count": null,
   "id": "336f5a40",
   "metadata": {},
   "outputs": [],
   "source": [
    "print(val)\n",
    "len(val)"
   ]
  },
  {
   "cell_type": "markdown",
   "id": "fbbaf3b2",
   "metadata": {},
   "source": [
    "# Add Value in list"
   ]
  },
  {
   "cell_type": "raw",
   "id": "1ab6afb1",
   "metadata": {},
   "source": [
    "append()\n",
    "\n",
    "extend()"
   ]
  },
  {
   "cell_type": "code",
   "execution_count": null,
   "id": "685c7ea8",
   "metadata": {},
   "outputs": [],
   "source": [
    "names"
   ]
  },
  {
   "cell_type": "code",
   "execution_count": null,
   "id": "de871ab9",
   "metadata": {},
   "outputs": [],
   "source": [
    "names.append(\"Shoban\") "
   ]
  },
  {
   "cell_type": "code",
   "execution_count": null,
   "id": "ec549f36",
   "metadata": {},
   "outputs": [],
   "source": [
    "names"
   ]
  },
  {
   "cell_type": "code",
   "execution_count": null,
   "id": "23400024",
   "metadata": {},
   "outputs": [],
   "source": [
    "names.append(\"saghir\")"
   ]
  },
  {
   "cell_type": "code",
   "execution_count": null,
   "id": "adf2eb42",
   "metadata": {},
   "outputs": [],
   "source": [
    "names"
   ]
  },
  {
   "cell_type": "code",
   "execution_count": null,
   "id": "2adbf8b9",
   "metadata": {},
   "outputs": [],
   "source": [
    "names.append(\"kashif\")"
   ]
  },
  {
   "cell_type": "code",
   "execution_count": null,
   "id": "e1faf4fd",
   "metadata": {},
   "outputs": [],
   "source": [
    "names"
   ]
  },
  {
   "cell_type": "markdown",
   "id": "96bce70e",
   "metadata": {},
   "source": [
    "extend()"
   ]
  },
  {
   "cell_type": "code",
   "execution_count": null,
   "id": "f699186d",
   "metadata": {},
   "outputs": [],
   "source": [
    "names.extend([\"Saddique\",\"Asghar\",\"Shahzad\"])\n"
   ]
  },
  {
   "cell_type": "code",
   "execution_count": null,
   "id": "d3dd128c",
   "metadata": {},
   "outputs": [],
   "source": [
    "names"
   ]
  },
  {
   "cell_type": "code",
   "execution_count": null,
   "id": "9f153bb4",
   "metadata": {},
   "outputs": [],
   "source": [
    "names.extend([\"ali\", \"amjad\"])"
   ]
  },
  {
   "cell_type": "code",
   "execution_count": null,
   "id": "e5c510a1",
   "metadata": {},
   "outputs": [],
   "source": [
    "print(names)"
   ]
  },
  {
   "cell_type": "markdown",
   "id": "825d5fa6",
   "metadata": {},
   "source": [
    "# insert()"
   ]
  },
  {
   "cell_type": "code",
   "execution_count": null,
   "id": "200203f6",
   "metadata": {},
   "outputs": [],
   "source": [
    "names"
   ]
  },
  {
   "cell_type": "code",
   "execution_count": null,
   "id": "2c05dac0",
   "metadata": {},
   "outputs": [],
   "source": [
    "names.insert(3,\"Shakeel\")\n"
   ]
  },
  {
   "cell_type": "code",
   "execution_count": null,
   "id": "ab841ef5",
   "metadata": {},
   "outputs": [],
   "source": [
    "names"
   ]
  },
  {
   "cell_type": "code",
   "execution_count": null,
   "id": "45194735",
   "metadata": {},
   "outputs": [],
   "source": []
  },
  {
   "cell_type": "code",
   "execution_count": null,
   "id": "8e42bf8b",
   "metadata": {},
   "outputs": [],
   "source": []
  },
  {
   "cell_type": "markdown",
   "id": "35b8ee32",
   "metadata": {},
   "source": [
    "# count()"
   ]
  },
  {
   "cell_type": "code",
   "execution_count": null,
   "id": "623cfcb4",
   "metadata": {},
   "outputs": [],
   "source": [
    "names"
   ]
  },
  {
   "cell_type": "code",
   "execution_count": null,
   "id": "13905eef",
   "metadata": {},
   "outputs": [],
   "source": [
    "names.count(\"amjad\")"
   ]
  },
  {
   "cell_type": "code",
   "execution_count": null,
   "id": "80e65dad",
   "metadata": {},
   "outputs": [],
   "source": []
  },
  {
   "cell_type": "code",
   "execution_count": null,
   "id": "eae3feb7",
   "metadata": {},
   "outputs": [],
   "source": []
  },
  {
   "cell_type": "markdown",
   "id": "0e9e1d4b",
   "metadata": {},
   "source": [
    "# clear()"
   ]
  },
  {
   "cell_type": "code",
   "execution_count": null,
   "id": "3f702de4",
   "metadata": {},
   "outputs": [],
   "source": [
    "num = [1,2,4,5,6,8,0]"
   ]
  },
  {
   "cell_type": "code",
   "execution_count": null,
   "id": "a57543da",
   "metadata": {},
   "outputs": [],
   "source": [
    "num"
   ]
  },
  {
   "cell_type": "code",
   "execution_count": null,
   "id": "53514c86",
   "metadata": {},
   "outputs": [],
   "source": [
    "num.clear()"
   ]
  },
  {
   "cell_type": "code",
   "execution_count": null,
   "id": "88708faf",
   "metadata": {},
   "outputs": [],
   "source": [
    "num"
   ]
  },
  {
   "cell_type": "code",
   "execution_count": null,
   "id": "0e6a39d2",
   "metadata": {},
   "outputs": [],
   "source": [
    "len(num)"
   ]
  },
  {
   "cell_type": "code",
   "execution_count": null,
   "id": "a07cc7c9",
   "metadata": {},
   "outputs": [],
   "source": []
  },
  {
   "cell_type": "markdown",
   "id": "ed285e8b",
   "metadata": {},
   "source": [
    "# copy()"
   ]
  },
  {
   "cell_type": "code",
   "execution_count": null,
   "id": "2ac87b49",
   "metadata": {},
   "outputs": [],
   "source": [
    "city"
   ]
  },
  {
   "cell_type": "raw",
   "id": "4848f0ae",
   "metadata": {},
   "source": [
    "copy by value\n",
    "\n",
    "copy by refference"
   ]
  },
  {
   "cell_type": "code",
   "execution_count": null,
   "id": "a9658962",
   "metadata": {},
   "outputs": [],
   "source": [
    "city1 = city.copy() \n",
    "\n",
    "#copy  by value\n",
    "\n",
    "print(city1)"
   ]
  },
  {
   "cell_type": "code",
   "execution_count": null,
   "id": "384e044f",
   "metadata": {},
   "outputs": [],
   "source": [
    "city2 = city    \n",
    "\n",
    "# copy by refference\n",
    "\n",
    "print(city2)"
   ]
  },
  {
   "cell_type": "code",
   "execution_count": null,
   "id": "81346060",
   "metadata": {},
   "outputs": [],
   "source": [
    "city.append(\"hello\")"
   ]
  },
  {
   "cell_type": "code",
   "execution_count": null,
   "id": "f5662376",
   "metadata": {},
   "outputs": [],
   "source": [
    "city"
   ]
  },
  {
   "cell_type": "code",
   "execution_count": null,
   "id": "433162aa",
   "metadata": {},
   "outputs": [],
   "source": [
    "city1"
   ]
  },
  {
   "cell_type": "code",
   "execution_count": null,
   "id": "0b9bd899",
   "metadata": {},
   "outputs": [],
   "source": [
    "city2"
   ]
  },
  {
   "cell_type": "code",
   "execution_count": null,
   "id": "758b2ab9",
   "metadata": {},
   "outputs": [],
   "source": []
  },
  {
   "cell_type": "code",
   "execution_count": null,
   "id": "4310bcd5",
   "metadata": {},
   "outputs": [],
   "source": []
  },
  {
   "cell_type": "markdown",
   "id": "bf7bce61",
   "metadata": {},
   "source": [
    "# remove()"
   ]
  },
  {
   "cell_type": "code",
   "execution_count": null,
   "id": "8d420c69",
   "metadata": {},
   "outputs": [],
   "source": [
    "city"
   ]
  },
  {
   "cell_type": "code",
   "execution_count": null,
   "id": "43a35351",
   "metadata": {},
   "outputs": [],
   "source": [
    "city.remove(\"hello\")"
   ]
  },
  {
   "cell_type": "code",
   "execution_count": null,
   "id": "b723bb7d",
   "metadata": {},
   "outputs": [],
   "source": [
    "city"
   ]
  },
  {
   "cell_type": "code",
   "execution_count": null,
   "id": "d4d44308",
   "metadata": {},
   "outputs": [],
   "source": [
    "names"
   ]
  },
  {
   "cell_type": "code",
   "execution_count": null,
   "id": "6fd850c0",
   "metadata": {},
   "outputs": [],
   "source": [
    "names.remove(\"Shahzad\")\n",
    "names"
   ]
  },
  {
   "cell_type": "markdown",
   "id": "a2b1a1a2",
   "metadata": {},
   "source": [
    "# del keywords"
   ]
  },
  {
   "cell_type": "code",
   "execution_count": null,
   "id": "7567ef3a",
   "metadata": {},
   "outputs": [],
   "source": [
    "names"
   ]
  },
  {
   "cell_type": "code",
   "execution_count": null,
   "id": "ea88ffcf",
   "metadata": {},
   "outputs": [],
   "source": [
    "del names[5]"
   ]
  },
  {
   "cell_type": "code",
   "execution_count": null,
   "id": "485616be",
   "metadata": {},
   "outputs": [],
   "source": [
    "names"
   ]
  },
  {
   "cell_type": "code",
   "execution_count": null,
   "id": "71c37adf",
   "metadata": {},
   "outputs": [],
   "source": []
  },
  {
   "cell_type": "code",
   "execution_count": null,
   "id": "ec82e5fe",
   "metadata": {},
   "outputs": [],
   "source": []
  },
  {
   "cell_type": "markdown",
   "id": "10df3152",
   "metadata": {},
   "source": [
    "# pop()"
   ]
  },
  {
   "cell_type": "code",
   "execution_count": null,
   "id": "132e9b35",
   "metadata": {},
   "outputs": [],
   "source": [
    "names"
   ]
  },
  {
   "cell_type": "code",
   "execution_count": null,
   "id": "eb134ae5",
   "metadata": {},
   "outputs": [],
   "source": [
    "na = names.pop(0)"
   ]
  },
  {
   "cell_type": "code",
   "execution_count": null,
   "id": "6c8d7b1a",
   "metadata": {},
   "outputs": [],
   "source": [
    "na"
   ]
  },
  {
   "cell_type": "code",
   "execution_count": null,
   "id": "1cb911be",
   "metadata": {},
   "outputs": [],
   "source": [
    "names"
   ]
  },
  {
   "cell_type": "code",
   "execution_count": null,
   "id": "b5d2224b",
   "metadata": {},
   "outputs": [],
   "source": [
    "names.append(na)"
   ]
  },
  {
   "cell_type": "code",
   "execution_count": null,
   "id": "efa54b02",
   "metadata": {},
   "outputs": [],
   "source": [
    "names"
   ]
  },
  {
   "cell_type": "code",
   "execution_count": null,
   "id": "b20be334",
   "metadata": {},
   "outputs": [],
   "source": []
  },
  {
   "cell_type": "code",
   "execution_count": null,
   "id": "cb4fdc31",
   "metadata": {},
   "outputs": [],
   "source": []
  },
  {
   "cell_type": "markdown",
   "id": "ebc095fb",
   "metadata": {},
   "source": [
    "# sort()"
   ]
  },
  {
   "cell_type": "code",
   "execution_count": null,
   "id": "57c73b1a",
   "metadata": {},
   "outputs": [],
   "source": [
    "val"
   ]
  },
  {
   "cell_type": "code",
   "execution_count": null,
   "id": "47218924",
   "metadata": {},
   "outputs": [],
   "source": [
    "val.sort()"
   ]
  },
  {
   "cell_type": "code",
   "execution_count": null,
   "id": "a7f6e187",
   "metadata": {},
   "outputs": [],
   "source": [
    "val"
   ]
  },
  {
   "cell_type": "code",
   "execution_count": null,
   "id": "5c7b93e4",
   "metadata": {},
   "outputs": [],
   "source": [
    "names"
   ]
  },
  {
   "cell_type": "code",
   "execution_count": null,
   "id": "faa4e833",
   "metadata": {},
   "outputs": [],
   "source": [
    "names.sort()\n",
    "names"
   ]
  },
  {
   "cell_type": "code",
   "execution_count": null,
   "id": "78774348",
   "metadata": {},
   "outputs": [],
   "source": [
    "val"
   ]
  },
  {
   "cell_type": "code",
   "execution_count": null,
   "id": "acea6132",
   "metadata": {},
   "outputs": [],
   "source": [
    "val.sort(reverse=True)"
   ]
  },
  {
   "cell_type": "code",
   "execution_count": null,
   "id": "b4bcccee",
   "metadata": {},
   "outputs": [],
   "source": [
    "val"
   ]
  },
  {
   "cell_type": "code",
   "execution_count": null,
   "id": "42fbc240",
   "metadata": {},
   "outputs": [],
   "source": []
  },
  {
   "cell_type": "code",
   "execution_count": null,
   "id": "98f8922f",
   "metadata": {},
   "outputs": [],
   "source": []
  },
  {
   "cell_type": "code",
   "execution_count": null,
   "id": "bf43806b",
   "metadata": {},
   "outputs": [],
   "source": []
  },
  {
   "cell_type": "code",
   "execution_count": null,
   "id": "f3f88102",
   "metadata": {},
   "outputs": [],
   "source": []
  },
  {
   "cell_type": "markdown",
   "id": "95efc206",
   "metadata": {},
   "source": [
    "# Slicing in python"
   ]
  },
  {
   "cell_type": "code",
   "execution_count": 4,
   "id": "347fcefd",
   "metadata": {},
   "outputs": [],
   "source": [
    "names=[\"Rana\",\"saeed\",\"Ramzan\",\"Ijaz\",\"Irfan\",\"Ali\",\"Abbas\",\"Imran\",\"Amjad\"]\n",
    "\n",
    "city=[\"gogran\",\"lodhran\",\"bwp\",\"multan\"]\n",
    "\n",
    "val = [20,50,10,90,40,70,30,60]\n"
   ]
  },
  {
   "cell_type": "code",
   "execution_count": null,
   "id": "4aa368e6",
   "metadata": {},
   "outputs": [],
   "source": []
  },
  {
   "cell_type": "code",
   "execution_count": 5,
   "id": "53020ebd",
   "metadata": {},
   "outputs": [
    {
     "data": {
      "text/plain": [
       "['Rana', 'saeed', 'Ramzan', 'Ijaz', 'Irfan', 'Ali', 'Abbas', 'Imran', 'Amjad']"
      ]
     },
     "execution_count": 5,
     "metadata": {},
     "output_type": "execute_result"
    }
   ],
   "source": [
    "names"
   ]
  },
  {
   "cell_type": "code",
   "execution_count": null,
   "id": "5a4f45ae",
   "metadata": {},
   "outputs": [],
   "source": [
    "names[:2]\n",
    "#start : end"
   ]
  },
  {
   "cell_type": "markdown",
   "id": "8d3465d6",
   "metadata": {},
   "source": [
    "positive and negative slicing "
   ]
  },
  {
   "cell_type": "code",
   "execution_count": null,
   "id": "9d4dc1db",
   "metadata": {},
   "outputs": [],
   "source": [
    "names[-1:]\n"
   ]
  },
  {
   "cell_type": "raw",
   "id": "fa21ff4c",
   "metadata": {},
   "source": [
    "number=[ 10  ,  25 ,  32  ,  55 ,  70  ,  85  ,  95  ,  66  ,  99  ]\n",
    "\n",
    "index    0   ,   1  ,  2   ,  3  ,   4  ,  5  ,   6  ,   7   ,   8\n",
    "  \n",
    "    indexing start from 0."
   ]
  },
  {
   "cell_type": "raw",
   "id": "74c0fedb",
   "metadata": {},
   "source": [
    "#index  -9  ,  -8  ,  -7  ,  -6  ,   -5  ,  -4  ,  -3  ,  -2  ,  -1  \n",
    "\n",
    "#   negative indexing start from -1  not 0\n",
    "\n",
    "number=[ 10  ,  25  ,  32  ,  55  ,   70  ,  85  ,  95  ,  66  ,  99  ]"
   ]
  },
  {
   "cell_type": "code",
   "execution_count": null,
   "id": "aab32cd9",
   "metadata": {},
   "outputs": [],
   "source": [
    "names[-2]"
   ]
  },
  {
   "cell_type": "code",
   "execution_count": null,
   "id": "0b6bad23",
   "metadata": {},
   "outputs": [],
   "source": []
  },
  {
   "cell_type": "markdown",
   "id": "70ab331f",
   "metadata": {},
   "source": [
    "# STEP IN SLICING"
   ]
  },
  {
   "cell_type": "code",
   "execution_count": null,
   "id": "30672344",
   "metadata": {},
   "outputs": [],
   "source": [
    "val\n",
    "\n",
    "# start: end:step"
   ]
  },
  {
   "cell_type": "code",
   "execution_count": null,
   "id": "7762b36d",
   "metadata": {},
   "outputs": [],
   "source": [
    "val[ : ]"
   ]
  },
  {
   "cell_type": "code",
   "execution_count": null,
   "id": "847fba1f",
   "metadata": {},
   "outputs": [],
   "source": [
    "val[0::2]      # 2 is a step"
   ]
  },
  {
   "cell_type": "code",
   "execution_count": null,
   "id": "a6e2ee86",
   "metadata": {},
   "outputs": [],
   "source": []
  },
  {
   "cell_type": "code",
   "execution_count": null,
   "id": "0fbd58f5",
   "metadata": {},
   "outputs": [],
   "source": []
  },
  {
   "cell_type": "markdown",
   "id": "00db2471",
   "metadata": {},
   "source": [
    "# Delete One or more values in the lsits"
   ]
  },
  {
   "cell_type": "code",
   "execution_count": null,
   "id": "10474199",
   "metadata": {},
   "outputs": [],
   "source": [
    "val"
   ]
  },
  {
   "cell_type": "code",
   "execution_count": null,
   "id": "77f2b9ae",
   "metadata": {},
   "outputs": [],
   "source": [
    "del val[1:3]"
   ]
  },
  {
   "cell_type": "code",
   "execution_count": null,
   "id": "4132f2a6",
   "metadata": {},
   "outputs": [],
   "source": [
    "val"
   ]
  },
  {
   "cell_type": "code",
   "execution_count": null,
   "id": "fcde5783",
   "metadata": {},
   "outputs": [],
   "source": [
    "names"
   ]
  },
  {
   "cell_type": "code",
   "execution_count": null,
   "id": "c2fec8f3",
   "metadata": {},
   "outputs": [],
   "source": [
    "del names[1:3]"
   ]
  },
  {
   "cell_type": "code",
   "execution_count": null,
   "id": "06a75178",
   "metadata": {},
   "outputs": [],
   "source": [
    "names"
   ]
  },
  {
   "cell_type": "code",
   "execution_count": null,
   "id": "44c9d5e3",
   "metadata": {},
   "outputs": [],
   "source": []
  },
  {
   "cell_type": "code",
   "execution_count": null,
   "id": "0bbb3c41",
   "metadata": {},
   "outputs": [],
   "source": [
    "city"
   ]
  },
  {
   "cell_type": "code",
   "execution_count": null,
   "id": "2d9ee44b",
   "metadata": {},
   "outputs": [],
   "source": [
    "del city[2:]"
   ]
  },
  {
   "cell_type": "code",
   "execution_count": null,
   "id": "9018c42b",
   "metadata": {},
   "outputs": [],
   "source": [
    "city"
   ]
  },
  {
   "cell_type": "code",
   "execution_count": null,
   "id": "9f522465",
   "metadata": {},
   "outputs": [],
   "source": []
  }
 ],
 "metadata": {
  "kernelspec": {
   "display_name": "Python 3 (ipykernel)",
   "language": "python",
   "name": "python3"
  },
  "language_info": {
   "codemirror_mode": {
    "name": "ipython",
    "version": 3
   },
   "file_extension": ".py",
   "mimetype": "text/x-python",
   "name": "python",
   "nbconvert_exporter": "python",
   "pygments_lexer": "ipython3",
   "version": "3.9.13"
  }
 },
 "nbformat": 4,
 "nbformat_minor": 5
}
