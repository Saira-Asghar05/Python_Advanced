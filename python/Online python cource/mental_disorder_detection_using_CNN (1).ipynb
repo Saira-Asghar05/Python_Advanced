{
  "cells": [
    {
      "cell_type": "code",
      "source": [
        "import tensorflow as tf\n",
        "import keras \n",
        "import numpy as np\n",
        "import cv2\n",
        "import matplotlib.pyplot as plt\n",
        "import seaborn as sns\n",
        "\n",
        "%matplotlib inline"
      ],
      "metadata": {
        "id": "N3nF9n4WuAZu"
      },
      "execution_count": 1,
      "outputs": []
    },
    {
      "cell_type": "code",
      "source": [
        "import os\n",
        "import glob\n",
        "import h5py\n",
        "from PIL import Image\n",
        "from tensorflow.keras.models import Sequential, Model\n",
        "from tensorflow.keras.applications.vgg16 import VGG16, preprocess_input\n",
        "from tensorflow.keras.preprocessing.image import ImageDataGenerator,load_img, img_to_array\n",
        "from tensorflow.keras.models import Sequential\n",
        "from tensorflow.keras.layers import Conv2D, MaxPooling2D, Dense, Dropout, Input, Flatten, SeparableConv2D\n",
        "from tensorflow.keras.layers import GlobalMaxPooling2D\n",
        "from tensorflow.keras.layers import BatchNormalization\n",
        "from tensorflow.keras.models import Model\n",
        "from tensorflow.keras.optimizers import Adam , SGD, RMSprop\n",
        "from tensorflow.keras.callbacks import ModelCheckpoint, Callback, EarlyStopping\n",
        "from tensorflow.keras.utils import to_categorical\n",
        "from tensorflow.keras import backend as K\n",
        "import numpy as np"
      ],
      "metadata": {
        "id": "s3ytm37pjxUE"
      },
      "execution_count": 7,
      "outputs": []
    },
    {
      "cell_type": "code",
      "source": [
        "#!unzip \"/content/drive/MyDrive/dataset folder/dataset.zip\" -d \"/content/drive/MyDrive/dataset folder/\""
      ],
      "metadata": {
        "id": "Ntjpn8FbKE_E"
      },
      "execution_count": 5,
      "outputs": []
    },
    {
      "cell_type": "code",
      "source": [
        "#path_root = \"/content/drive/MyDrive/Brain Tumor Project/Brain tumor\"\n",
        "\n",
        "#from keras.preprocessing.image import ImageDataGenerator\n",
        "#batches = ImageDataGenerator().flow_from_directory(directory=path_root, target_size=(224, 224),batch_size=1952)"
      ],
      "metadata": {
        "colab": {
          "base_uri": "https://localhost:8080/"
        },
        "id": "KJWWYIeoHvM0",
        "outputId": "5ea69590-f278-4537-d622-4344fae0a55c"
      },
      "execution_count": null,
      "outputs": [
        {
          "output_type": "stream",
          "name": "stdout",
          "text": [
            "Found 1952 images belonging to 2 classes.\n"
          ]
        }
      ]
    },
    {
      "cell_type": "code",
      "source": [
        "batch_size = 32         #  was 16 for validation\n",
        "\n",
        "train_images = '/content/drive/MyDrive/dataset folder/dataset/training'\n",
        "test_images = '/content/drive/MyDrive/dataset folder/dataset/testing'\n",
        "\n",
        "Train_Datagen = ImageDataGenerator(\n",
        "               preprocessing_function= preprocess_input, horizontal_flip = True )\n",
        "\n",
        "val_Datagen = ImageDataGenerator(\n",
        "                preprocessing_function= preprocess_input )\n",
        "\n",
        "train_data = Train_Datagen.flow_from_directory( train_images, target_size = (256, 256),\n",
        "                                              batch_size =batch_size)\n",
        "\n",
        "batches = val_Datagen.flow_from_directory( test_images, target_size = (256, 256),\n",
        "                                             batch_size = 819)"
      ],
      "metadata": {
        "colab": {
          "base_uri": "https://localhost:8080/"
        },
        "id": "MXQA_MPMilfZ",
        "outputId": "54466338-9c05-4a31-baa8-bb2f130fd949"
      },
      "execution_count": 8,
      "outputs": [
        {
          "output_type": "stream",
          "name": "stdout",
          "text": [
            "Found 1309 images belonging to 2 classes.\n",
            "Found 819 images belonging to 2 classes.\n"
          ]
        }
      ]
    },
    {
      "cell_type": "code",
      "source": [],
      "metadata": {
        "id": "5xWHGQ5xjvvV"
      },
      "execution_count": null,
      "outputs": []
    },
    {
      "cell_type": "code",
      "source": [],
      "metadata": {
        "id": "A09cStgtil3X"
      },
      "execution_count": null,
      "outputs": []
    },
    {
      "cell_type": "code",
      "source": [
        "batches.class_indices"
      ],
      "metadata": {
        "colab": {
          "base_uri": "https://localhost:8080/"
        },
        "id": "Ai4QHOzwKrlH",
        "outputId": "edb365c5-3041-4895-816e-e603518d946b"
      },
      "execution_count": 10,
      "outputs": [
        {
          "output_type": "execute_result",
          "data": {
            "text/plain": [
              "{'normal': 0, 'schizophrenia': 1}"
            ]
          },
          "metadata": {},
          "execution_count": 10
        }
      ]
    },
    {
      "cell_type": "code",
      "source": [
        "imgs, labels = next(batches)\n"
      ],
      "metadata": {
        "id": "bXOn0eeVK-Gy"
      },
      "execution_count": 11,
      "outputs": []
    },
    {
      "cell_type": "code",
      "source": [
        "print(imgs.shape)\n",
        "print(labels.shape)"
      ],
      "metadata": {
        "colab": {
          "base_uri": "https://localhost:8080/"
        },
        "id": "iXpoej89Krg-",
        "outputId": "a5127ce2-ce1e-4f34-e3c6-8f6ab51d3418"
      },
      "execution_count": 12,
      "outputs": [
        {
          "output_type": "stream",
          "name": "stdout",
          "text": [
            "(819, 256, 256, 3)\n",
            "(819, 2)\n"
          ]
        }
      ]
    },
    {
      "cell_type": "code",
      "source": [
        "from sklearn.model_selection import train_test_split\n",
        "# Train, validation and test split\n",
        "\n",
        "X_val, X_test, y_val, y_test = train_test_split(imgs, labels, test_size=0.50, random_state=7)\n",
        "\n",
        "#X_train, X_val, y_train, y_val = train_test_split(X_train, y_train, test_size=0.15, random_state=1)"
      ],
      "metadata": {
        "id": "p2tKmQNZKrd9"
      },
      "execution_count": 15,
      "outputs": []
    },
    {
      "cell_type": "code",
      "source": [
        "#print(\"*-*-*-*-*-*\")\n",
        "#print(\"Train\")\n",
        "#print(X_train.shape)\n",
        "#print(y_train.shape)\n",
        "\n",
        "\n",
        "print(\"*-*-*-*-*-*\")\n",
        "print(\"Validation\")\n",
        "print(X_val.shape)\n",
        "print(y_val.shape)\n",
        "\n",
        "print(\"*-*-*-*-*-*\")\n",
        "print(\"Test\")\n",
        "print(X_test.shape)\n",
        "print(y_test.shape)"
      ],
      "metadata": {
        "colab": {
          "base_uri": "https://localhost:8080/"
        },
        "id": "V8h3tWukLF3_",
        "outputId": "13380743-a9fd-4a15-c096-73bbafc5e00b"
      },
      "execution_count": 16,
      "outputs": [
        {
          "output_type": "stream",
          "name": "stdout",
          "text": [
            "*-*-*-*-*-*\n",
            "Validation\n",
            "(409, 256, 256, 3)\n",
            "(409, 2)\n",
            "*-*-*-*-*-*\n",
            "Test\n",
            "(410, 256, 256, 3)\n",
            "(410, 2)\n"
          ]
        }
      ]
    },
    {
      "cell_type": "code",
      "source": [],
      "metadata": {
        "id": "8Q7Z7LbZLF1G"
      },
      "execution_count": 16,
      "outputs": []
    },
    {
      "cell_type": "code",
      "source": [
        "import keras\n",
        "from tensorflow.keras.models import Sequential, Model\n",
        "from tensorflow.keras.layers import Dense, Dropout, Flatten\n",
        "from tensorflow.keras.layers import Conv2D, MaxPooling2D\n",
        "#from keras.layers.normalization import BatchNormalization\n"
      ],
      "metadata": {
        "id": "ZJtU0cKzvWHM"
      },
      "execution_count": 20,
      "outputs": []
    },
    {
      "cell_type": "code",
      "source": [
        "from tensorflow.keras import layers\n",
        "from tensorflow.keras import models\n",
        "model = models.Sequential()\n",
        "model.add(layers.Conv2D(32, (3, 3), activation='relu',\n",
        "                        input_shape=(256, 256, 3)))\n",
        "model.add(layers.MaxPooling2D((2, 2)))\n",
        "model.add(layers.Conv2D(64, (3, 3), activation='relu'))\n",
        "model.add(layers.MaxPooling2D((2, 2)))\n",
        "\n",
        "model.add(layers.Conv2D(128, (3, 3), activation='relu'))\n",
        "model.add(layers.MaxPooling2D((2, 2)))\n",
        "\n",
        "model.add(layers.Conv2D(128, (3, 3), activation='relu'))\n",
        "model.add(layers.MaxPooling2D((2, 2)))\n",
        "\n",
        "model.add(layers.Conv2D(64, (3, 3), activation='relu'))\n",
        "model.add(layers.MaxPooling2D((2, 2)))\n",
        "\n",
        "model.add(layers.Flatten())\n",
        "model.add(layers.Dense(512, activation='relu'))\n",
        "model.add(layers.Dense(128, activation='relu'))\n",
        "model.add(layers.Dense(2, activation='sigmoid'))\n",
        "model.summary()"
      ],
      "metadata": {
        "id": "TVlxrgnIvfnv",
        "colab": {
          "base_uri": "https://localhost:8080/"
        },
        "outputId": "2144b3ee-5b8a-4bbf-aa3f-f06ef7017b61"
      },
      "execution_count": 32,
      "outputs": [
        {
          "output_type": "stream",
          "name": "stdout",
          "text": [
            "Model: \"sequential_5\"\n",
            "_________________________________________________________________\n",
            " Layer (type)                Output Shape              Param #   \n",
            "=================================================================\n",
            " conv2d_25 (Conv2D)          (None, 254, 254, 32)      896       \n",
            "                                                                 \n",
            " max_pooling2d_25 (MaxPoolin  (None, 127, 127, 32)     0         \n",
            " g2D)                                                            \n",
            "                                                                 \n",
            " conv2d_26 (Conv2D)          (None, 125, 125, 64)      18496     \n",
            "                                                                 \n",
            " max_pooling2d_26 (MaxPoolin  (None, 62, 62, 64)       0         \n",
            " g2D)                                                            \n",
            "                                                                 \n",
            " conv2d_27 (Conv2D)          (None, 60, 60, 128)       73856     \n",
            "                                                                 \n",
            " max_pooling2d_27 (MaxPoolin  (None, 30, 30, 128)      0         \n",
            " g2D)                                                            \n",
            "                                                                 \n",
            " conv2d_28 (Conv2D)          (None, 28, 28, 128)       147584    \n",
            "                                                                 \n",
            " max_pooling2d_28 (MaxPoolin  (None, 14, 14, 128)      0         \n",
            " g2D)                                                            \n",
            "                                                                 \n",
            " conv2d_29 (Conv2D)          (None, 12, 12, 64)        73792     \n",
            "                                                                 \n",
            " max_pooling2d_29 (MaxPoolin  (None, 6, 6, 64)         0         \n",
            " g2D)                                                            \n",
            "                                                                 \n",
            " flatten_5 (Flatten)         (None, 2304)              0         \n",
            "                                                                 \n",
            " dense_15 (Dense)            (None, 512)               1180160   \n",
            "                                                                 \n",
            " dense_16 (Dense)            (None, 128)               65664     \n",
            "                                                                 \n",
            " dense_17 (Dense)            (None, 2)                 258       \n",
            "                                                                 \n",
            "=================================================================\n",
            "Total params: 1,560,706\n",
            "Trainable params: 1,560,706\n",
            "Non-trainable params: 0\n",
            "_________________________________________________________________\n"
          ]
        }
      ]
    },
    {
      "cell_type": "code",
      "source": [
        "model.compile(optimizer=\"rmsprop\",\n",
        " loss=\"binary_crossentropy\",\n",
        " metrics=[\"accuracy\"])"
      ],
      "metadata": {
        "id": "tKCbqpSLvmOM"
      },
      "execution_count": 33,
      "outputs": []
    },
    {
      "cell_type": "code",
      "source": [
        "history = model.fit(train_data,\n",
        "                    validation_data = (X_val, y_val) ,\n",
        "                    batch_size = 32, \n",
        "                    epochs = 20)"
      ],
      "metadata": {
        "colab": {
          "base_uri": "https://localhost:8080/"
        },
        "id": "JdoIPpQfvw7m",
        "outputId": "4f7dd10d-8395-40c2-8535-c88f0f371398"
      },
      "execution_count": 34,
      "outputs": [
        {
          "output_type": "stream",
          "name": "stdout",
          "text": [
            "Epoch 1/20\n",
            "41/41 [==============================] - 6s 133ms/step - loss: 4.5427 - accuracy: 0.8358 - val_loss: 0.3831 - val_accuracy: 0.7653\n",
            "Epoch 2/20\n",
            "41/41 [==============================] - 5s 114ms/step - loss: 0.6111 - accuracy: 0.9213 - val_loss: 0.3976 - val_accuracy: 0.8533\n",
            "Epoch 3/20\n",
            "41/41 [==============================] - 5s 114ms/step - loss: 0.3425 - accuracy: 0.9565 - val_loss: 0.0674 - val_accuracy: 0.9707\n",
            "Epoch 4/20\n",
            "41/41 [==============================] - 5s 114ms/step - loss: 0.6687 - accuracy: 0.9580 - val_loss: 0.2473 - val_accuracy: 0.9731\n",
            "Epoch 5/20\n",
            "41/41 [==============================] - 5s 114ms/step - loss: 0.3002 - accuracy: 0.9672 - val_loss: 0.0650 - val_accuracy: 0.9731\n",
            "Epoch 6/20\n",
            "41/41 [==============================] - 5s 115ms/step - loss: 0.0353 - accuracy: 0.9862 - val_loss: 0.0638 - val_accuracy: 0.9731\n",
            "Epoch 7/20\n",
            "41/41 [==============================] - 5s 113ms/step - loss: 0.0309 - accuracy: 0.9870 - val_loss: 0.0647 - val_accuracy: 0.9731\n",
            "Epoch 8/20\n",
            "41/41 [==============================] - 6s 136ms/step - loss: 0.0297 - accuracy: 0.9870 - val_loss: 0.0708 - val_accuracy: 0.9731\n",
            "Epoch 9/20\n",
            "41/41 [==============================] - 5s 113ms/step - loss: 0.0285 - accuracy: 0.9870 - val_loss: 0.0887 - val_accuracy: 0.9731\n",
            "Epoch 10/20\n",
            "41/41 [==============================] - 5s 114ms/step - loss: 0.0284 - accuracy: 0.9870 - val_loss: 0.0915 - val_accuracy: 0.9731\n",
            "Epoch 11/20\n",
            "41/41 [==============================] - 6s 136ms/step - loss: 0.0284 - accuracy: 0.9870 - val_loss: 0.0875 - val_accuracy: 0.9731\n",
            "Epoch 12/20\n",
            "41/41 [==============================] - 5s 115ms/step - loss: 0.0285 - accuracy: 0.9870 - val_loss: 0.0884 - val_accuracy: 0.9731\n",
            "Epoch 13/20\n",
            "41/41 [==============================] - 5s 114ms/step - loss: 0.0284 - accuracy: 0.9870 - val_loss: 0.0878 - val_accuracy: 0.9731\n",
            "Epoch 14/20\n",
            "41/41 [==============================] - 5s 113ms/step - loss: 0.0284 - accuracy: 0.9870 - val_loss: 0.0904 - val_accuracy: 0.9731\n",
            "Epoch 15/20\n",
            "41/41 [==============================] - 5s 113ms/step - loss: 0.0284 - accuracy: 0.9870 - val_loss: 0.0888 - val_accuracy: 0.9731\n",
            "Epoch 16/20\n",
            "41/41 [==============================] - 5s 114ms/step - loss: 0.0284 - accuracy: 0.9870 - val_loss: 0.0913 - val_accuracy: 0.9731\n",
            "Epoch 17/20\n",
            "41/41 [==============================] - 5s 117ms/step - loss: 0.0285 - accuracy: 0.9870 - val_loss: 0.0898 - val_accuracy: 0.9731\n",
            "Epoch 18/20\n",
            "41/41 [==============================] - 6s 134ms/step - loss: 0.0285 - accuracy: 0.9870 - val_loss: 0.0871 - val_accuracy: 0.9731\n",
            "Epoch 19/20\n",
            "41/41 [==============================] - 5s 123ms/step - loss: 0.0284 - accuracy: 0.9870 - val_loss: 0.0887 - val_accuracy: 0.9731\n",
            "Epoch 20/20\n",
            "41/41 [==============================] - 5s 113ms/step - loss: 0.0285 - accuracy: 0.9870 - val_loss: 0.0861 - val_accuracy: 0.9731\n"
          ]
        }
      ]
    },
    {
      "cell_type": "code",
      "source": [
        "import matplotlib.pyplot as plt\n",
        "accuracy = history.history[\"accuracy\"]\n",
        "val_accuracy = history.history[\"val_accuracy\"]\n",
        "loss = history.history[\"loss\"]\n",
        "val_loss = history.history[\"val_loss\"]\n",
        "epochs = range(1, len(accuracy) + 1)\n",
        "plt.plot(epochs, accuracy, \"bo\", label=\"Training accuracy\")\n",
        "plt.plot(epochs, val_accuracy, \"b\", label=\"Validation accuracy\")\n",
        "plt.title(\"Training and validation accuracy\")\n",
        "plt.legend()\n",
        "plt.figure()\n",
        "plt.plot(epochs, loss, \"bo\", label=\"Training loss\")\n",
        "plt.plot(epochs, val_loss, \"b\", label=\"Validation loss\")\n",
        "plt.title(\"Training and validation loss\")\n",
        "plt.legend()\n",
        "plt.show()"
      ],
      "metadata": {
        "colab": {
          "base_uri": "https://localhost:8080/",
          "height": 545
        },
        "id": "YjolWaXpv4LX",
        "outputId": "cbba1944-b593-45f5-bd8b-0a26f26d9987"
      },
      "execution_count": 35,
      "outputs": [
        {
          "output_type": "display_data",
          "data": {
            "text/plain": [
              "<Figure size 432x288 with 1 Axes>"
            ],
            "image/png": "[encoded data removed]"
          },
          "metadata": {
            "needs_background": "light"
          }
        },
        {
          "output_type": "display_data",
          "data": {
            "text/plain": [
              "<Figure size 432x288 with 1 Axes>"
            ],
            "image/png": "[encoded data removed]"
          },
          "metadata": {
            "needs_background": "light"
          }
        }
      ]
    },
    {
      "cell_type": "code",
      "source": [
        "plt.plot(history.history['accuracy'], label=\"Training accuracy\")\n",
        "plt.plot(history.history['val_accuracy'], label=\"Validation accuracy\")\n",
        "plt.title('Training and validation accuracy')\n",
        "plt.xlabel('Epochs')\n",
        "plt.ylabel('Accuracy')\n",
        "plt.legend()\n",
        "plt.show()\n",
        "# Plot using Seaborn\n",
        "\n",
        "plt.plot(history.history['accuracy'], label=\"Training loss\")\n",
        "plt.plot(history.history['val_accuracy'], label=\"Validation loss\")\n",
        "#my_plot = sns.lineplot(data=history[[\"loss\",\"validation_loss\"]])\n",
        "plt.xlabel('Epochs')\n",
        "plt.ylabel('Loss')\n",
        "#plt.legend(labels=[\"Training\", \"Validation\"])\n",
        "plt.title('Training and Validation Loss')\n",
        "plt.show()"
      ],
      "metadata": {
        "colab": {
          "base_uri": "https://localhost:8080/",
          "height": 573
        },
        "id": "f8iVS-f3yOAJ",
        "outputId": "d99a5175-a58b-4cd5-97ec-a43d94ea4b44"
      },
      "execution_count": 36,
      "outputs": [
        {
          "output_type": "display_data",
          "data": {
            "text/plain": [
              "<Figure size 432x288 with 1 Axes>"
            ],
            "image/png": "[encoded data removed]"
          },
          "metadata": {
            "needs_background": "light"
          }
        },
        {
          "output_type": "display_data",
          "data": {
            "text/plain": [
              "<Figure size 432x288 with 1 Axes>"
            ],
            "image/png": "[encoded data removed]"
          },
          "metadata": {
            "needs_background": "light"
          }
        }
      ]
    },
    {
      "cell_type": "code",
      "source": [
        "model.evaluate(X_test, y_test)"
      ],
      "metadata": {
        "colab": {
          "base_uri": "https://localhost:8080/"
        },
        "id": "f-QTsGUjwVxx",
        "outputId": "b5f52451-7f9c-43ab-c0e3-bcc46d867083"
      },
      "execution_count": 37,
      "outputs": [
        {
          "output_type": "stream",
          "name": "stdout",
          "text": [
            "13/13 [==============================] - 1s 63ms/step - loss: 0.0497 - accuracy: 0.9732\n"
          ]
        },
        {
          "output_type": "execute_result",
          "data": {
            "text/plain": [
              "[0.04971083998680115, 0.9731707572937012]"
            ]
          },
          "metadata": {},
          "execution_count": 37
        }
      ]
    },
    {
      "cell_type": "code",
      "source": [
        "model.save('brain_tumor.h5')"
      ],
      "metadata": {
        "id": "sYRXMg68wV0z"
      },
      "execution_count": 38,
      "outputs": []
    },
    {
      "cell_type": "code",
      "source": [],
      "metadata": {
        "id": "N7iViehSy3eb"
      },
      "execution_count": 38,
      "outputs": []
    },
    {
      "cell_type": "code",
      "source": [
        "import numpy as np\n",
        "import pandas as pd\n"
      ],
      "metadata": {
        "id": "cbcm2bUly733"
      },
      "execution_count": 39,
      "outputs": []
    },
    {
      "cell_type": "code",
      "source": [
        "y_pred = model.predict(X_test, verbose=0)\n"
      ],
      "metadata": {
        "id": "O26RfmyXy8vM"
      },
      "execution_count": 40,
      "outputs": []
    },
    {
      "cell_type": "code",
      "source": [
        "from sklearn.metrics import confusion_matrix\n",
        "c_matrix = confusion_matrix(np.argmax(y_test, axis=1), np.argmax(y_pred, axis=1))"
      ],
      "metadata": {
        "id": "O9DhmOAoy_2R"
      },
      "execution_count": 41,
      "outputs": []
    },
    {
      "cell_type": "code",
      "source": [
        "import seaborn as sns\n",
        "def confusion_matrix(confusion_matrix, class_names, figsize = (10,7), fontsize=14):\n",
        "    \"\"\"Prints a confusion matrix, as returned by sklearn.metrics.confusion_matrix, as a heatmap.\n",
        "    \n",
        "    Arguments\n",
        "    ---------\n",
        "    confusion_matrix: numpy.ndarray\n",
        "        The numpy.ndarray object returned from a call to sklearn.metrics.confusion_matrix. \n",
        "        Similarly constructed ndarrays can also be used.\n",
        "    class_names: list\n",
        "        An ordered list of class names, in the order they index the given confusion matrix.\n",
        "    figsize: tuple\n",
        "        A 2-long tuple, the first value determining the horizontal size of the ouputted figure,\n",
        "        the second determining the vertical size. Defaults to (10,7).\n",
        "    fontsize: int\n",
        "        Font size for axes labels. Defaults to 14.\n",
        "    \"\"\"\n",
        "    df_cm = pd.DataFrame(\n",
        "        confusion_matrix, index=class_names, columns=class_names, \n",
        "    )\n",
        "    fig = plt.figure(figsize=figsize)\n",
        "    try:\n",
        "        heatmap = sns.heatmap(df_cm, annot=True, fmt=\"d\")\n",
        "    except ValueError:\n",
        "        raise ValueError(\"Confusion matrix values must be integers.\")\n",
        "    heatmap.yaxis.set_ticklabels(heatmap.yaxis.get_ticklabels(), rotation=0, ha='right', fontsize=fontsize)\n",
        "    heatmap.xaxis.set_ticklabels(heatmap.xaxis.get_ticklabels(), rotation=45, ha='right', fontsize=fontsize)\n",
        "    plt.ylabel('True label')\n",
        "    plt.xlabel('Predicted label')"
      ],
      "metadata": {
        "id": "Ol5u2q03zEMQ"
      },
      "execution_count": 42,
      "outputs": []
    },
    {
      "cell_type": "code",
      "source": [
        "class_names= batches.class_indices.keys()\n",
        "confusion_matrix(c_matrix, class_names, figsize = (15,7), fontsize=14)"
      ],
      "metadata": {
        "colab": {
          "base_uri": "https://localhost:8080/",
          "height": 511
        },
        "id": "9fAkIrekzH-3",
        "outputId": "5220aa84-dc8e-4f62-fd40-cc9c4d1aa6af"
      },
      "execution_count": 43,
      "outputs": [
        {
          "output_type": "display_data",
          "data": {
            "text/plain": [
              "<Figure size 1080x504 with 2 Axes>"
            ],
            "image/png": "[encoded data removed]"
          },
          "metadata": {
            "needs_background": "light"
          }
        }
      ]
    },
    {
      "cell_type": "code",
      "source": [],
      "metadata": {
        "id": "7HkRxIB3zLz2"
      },
      "execution_count": 43,
      "outputs": []
    },
    {
      "cell_type": "code",
      "source": [
        "# From categorical outputs to discrete values\n",
        "\n",
        "y_pred_ = [np.argmax(y) for y in y_pred]\n",
        "y_test_ = [np.argmax(y) for y in y_test]"
      ],
      "metadata": {
        "id": "uzWhFrv9zPaK"
      },
      "execution_count": 44,
      "outputs": []
    },
    {
      "cell_type": "code",
      "source": [
        "from sklearn.metrics import classification_report\n",
        "print(classification_report(y_test_, y_pred_))"
      ],
      "metadata": {
        "colab": {
          "base_uri": "https://localhost:8080/"
        },
        "id": "mJEG_ivtzZhs",
        "outputId": "b4be3b3a-bec9-40d6-a570-50a537ce3eef"
      },
      "execution_count": 45,
      "outputs": [
        {
          "output_type": "stream",
          "name": "stdout",
          "text": [
            "              precision    recall  f1-score   support\n",
            "\n",
            "           0       1.00      0.93      0.97       163\n",
            "           1       0.96      1.00      0.98       247\n",
            "\n",
            "    accuracy                           0.97       410\n",
            "   macro avg       0.98      0.97      0.97       410\n",
            "weighted avg       0.97      0.97      0.97       410\n",
            "\n"
          ]
        }
      ]
    },
    {
      "cell_type": "code",
      "source": [],
      "metadata": {
        "id": "zJ4HagsGzqPN"
      },
      "execution_count": null,
      "outputs": []
    },
    {
      "cell_type": "code",
      "source": [],
      "metadata": {
        "id": "NcUtcmI6z7oJ"
      },
      "execution_count": null,
      "outputs": []
    }
  ],
  "metadata": {
    "accelerator": "GPU",
    "colab": {
      "provenance": []
    },
    "kernelspec": {
      "display_name": "Python 3",
      "name": "python3"
    },
    "language_info": {
      "name": "python"
    },
    "gpuClass": "standard"
  },
  "nbformat": 4,
  "nbformat_minor": 0
}