{
  "nbformat": 4,
  "nbformat_minor": 0,
  "metadata": {
    "colab": {
      "provenance": []
    },
    "kernelspec": {
      "name": "python3",
      "display_name": "Python 3"
    },
    "language_info": {
      "name": "python"
    }
  },
  "cells": [
    {
      "cell_type": "markdown",
      "metadata": {
        "id": "TgE4EvA3gNDc"
      },
      "source": [
        "# **What is a programming Language?**\n",
        "\n",
        "A programming language is an artificial language that can be used to control the behaviour of a machine, particularly a computer. Programming languages, like human languages, are defined through the use of syntactic and semantic rules, to determine structure and meaning respectively.\n",
        "\n",
        "\n",
        "Examples are: Python, Ruby, Java, JavaScript, C, C++, and C#. \n",
        "\n",
        "Programming languages are used to write all computer programs and computer software. A programming language is like a set of instructions that the computer follows to do something.\n"
      ]
    },
    {
      "cell_type": "markdown",
      "metadata": {
        "id": "H7cMSVjR5v7X"
      },
      "source": [
        "# **Python For Beginners**\n",
        "\n",
        "\n",
        "Python is a popular programming language. It was created by Guido van Rossum, and released in 1991.\n",
        "# Why Python?\n",
        "\n",
        "\n",
        "*   Free and open source\n",
        "*   Easy to learn\n",
        "\n",
        "\n",
        "*   Portable\n",
        "*   A lot of applications including web developing, app developing and data science\n",
        "\n",
        "\n",
        "*   Can be treated in a procedural way, object oriented way and fuctional way\n",
        "\n",
        "\n",
        "\n",
        "\n",
        "\n",
        "\n"
      ]
    },
    {
      "cell_type": "markdown",
      "metadata": {
        "id": "JTilxyDec5kY"
      },
      "source": [
        "## **Installing IDE(Integrated Development Environment):**\n",
        "\n",
        "How to download and install Python on Windows:\n",
        "\n",
        "https://www.python.org/downloads/\n",
        "\n",
        "how to download and install Pycharm IDE on Windows:\n",
        "\n",
        "https://www.jetbrains.com/pycharm/download/\n",
        "\n",
        "Moreover, here you can get complete guidance about installing IDE for python on Windows.\n",
        "\n",
        "https://www.guru99.com/how-to-install-python.html"
      ]
    },
    {
      "cell_type": "markdown",
      "metadata": {
        "id": "ZxJkIo5C8Xj_"
      },
      "source": [
        "# **Python Syntax**"
      ]
    },
    {
      "cell_type": "code",
      "execution_count": null,
      "metadata": {
        "colab": {
          "base_uri": "https://localhost:8080/"
        },
        "id": "KmXsApSr5lfT",
        "outputId": "108c712e-11ed-4545-a4d1-6b1f15be2106"
      },
      "outputs": [
        {
          "name": "stdout",
          "output_type": "stream",
          "text": [
            "Hello World!\n"
          ]
        }
      ],
      "source": [
        "print('Hello World!')"
      ]
    },
    {
      "cell_type": "code",
      "execution_count": null,
      "metadata": {
        "colab": {
          "base_uri": "https://localhost:8080/"
        },
        "id": "CgvFBPPzjmpC",
        "outputId": "d5f5c2a4-0491-440b-d058-b31ea3765ee0"
      },
      "outputs": [
        {
          "name": "stdout",
          "output_type": "stream",
          "text": [
            "2345\n"
          ]
        }
      ],
      "source": [
        "print(\"2345\")"
      ]
    },
    {
      "cell_type": "code",
      "execution_count": null,
      "metadata": {
        "colab": {
          "base_uri": "https://localhost:8080/"
        },
        "id": "myWkmDJxj4sR",
        "outputId": "d8dd667d-c274-4cf9-82c1-95e3147d4f20"
      },
      "outputs": [
        {
          "name": "stdout",
          "output_type": "stream",
          "text": [
            "2092\n"
          ]
        }
      ],
      "source": [
        "print(\"2092\")"
      ]
    },
    {
      "cell_type": "code",
      "execution_count": null,
      "metadata": {
        "colab": {
          "base_uri": "https://localhost:8080/"
        },
        "id": "xA2jQO97Kp2A",
        "outputId": "66bb6282-9676-4dfb-c38b-121903c7257f"
      },
      "outputs": [
        {
          "name": "stdout",
          "output_type": "stream",
          "text": [
            "100\n",
            "Python\n"
          ]
        }
      ],
      "source": [
        "a = 100\n",
        "print(a)\n",
        "b = \"Python\"\n",
        "print(b)"
      ]
    },
    {
      "cell_type": "markdown",
      "metadata": {
        "id": "4bOO18Lh8_WD"
      },
      "source": [
        "# **Comment**\n",
        "Comments can be used to explain Python code. \n",
        "\n",
        "Comments can be used to make the code more readable.\n",
        "\n",
        "Comments can be used to prevent execution when testing code.\n",
        "\n",
        "\n",
        "2 types of comments in Python:\n",
        "\n",
        "\n",
        "*   Single line comment\n",
        "*   Multi-line comment\n",
        "\n"
      ]
    },
    {
      "cell_type": "code",
      "execution_count": null,
      "metadata": {
        "colab": {
          "base_uri": "https://localhost:8080/"
        },
        "id": "e6qN87eP9e_K",
        "outputId": "184a80dc-1da1-4a80-86e3-c42c6e8f76c2"
      },
      "outputs": [
        {
          "name": "stdout",
          "output_type": "stream",
          "text": [
            "Let's learn about comments.\n",
            "Icode\n"
          ]
        }
      ],
      "source": [
        "print(\"Let's learn about comments.\")\n",
        "#it is a single line comment\n",
        "print(\"Icode\")\n"
      ]
    },
    {
      "cell_type": "code",
      "execution_count": null,
      "metadata": {
        "colab": {
          "base_uri": "https://localhost:8080/"
        },
        "id": "xFqoa28ZLXLW",
        "outputId": "9153cbc3-a644-48d2-c97b-f9cb6b8c286a"
      },
      "outputs": [
        {
          "name": "stdout",
          "output_type": "stream",
          "text": [
            "It's an example of multi-line string.\n"
          ]
        }
      ],
      "source": [
        "print(\"\"\"Multi-line Comment\"\"\")\n",
        "'''for multi-line comment, you can use # with every line or\n",
        "simply use triple inverted commas(multi-line string).\n",
        "ar\n",
        "sar\n",
        "ahghjj\n",
        "'''\n",
        "\n",
        "print(\"It's an example of multi-line string.\")\n",
        "\n"
      ]
    },
    {
      "cell_type": "markdown",
      "metadata": {
        "id": "3vHmW09PRU2n"
      },
      "source": [
        "# **Reserve words or keywords**\n",
        "\n",
        "Keywords are predefined, reserved words used in Python programming that have special meanings to the interpreter.\n",
        "\n",
        "We cannot use a keyword as a variable name, function name, or any other identifier. They are used to define the syntax and structure of the Python language.\n",
        "\n",
        "Following are some keywords in Python:\n",
        "\n",
        "\n",
        "False,     Is,     In,     Lambda,    True,    None,    If,     Elif,    Break,       Else,    Continue,    Class,    Not,    And,    Or\n",
        "\n"
      ]
    },
    {
      "cell_type": "code",
      "execution_count": null,
      "metadata": {
        "colab": {
          "base_uri": "https://localhost:8080/"
        },
        "id": "mmr0ypbaKLkP",
        "outputId": "86428dfe-0c7a-4a53-b179-16eea5e1065a"
      },
      "outputs": [
        {
          "name": "stdout",
          "output_type": "stream",
          "text": [
            "We are here to \"learn Python\"\n"
          ]
        }
      ],
      "source": [
        "print('We are here to \"learn Python\"')"
      ]
    },
    {
      "cell_type": "markdown",
      "metadata": {
        "id": "MZs9KdyB_fXG"
      },
      "source": [
        "# **Python Variables**\n",
        "Variables are containers for storing data values.\n",
        "\n",
        "Python has no command for declaring a variable. There is no need to write the data type of a variable before it. \n",
        "\n",
        "A variable is created the moment you first assign a value to it."
      ]
    },
    {
      "cell_type": "code",
      "execution_count": null,
      "metadata": {
        "colab": {
          "base_uri": "https://localhost:8080/"
        },
        "id": "Cpib25Ml_stE",
        "outputId": "87c4a7d8-8fb9-49a1-bc2b-9ac61fe38434"
      },
      "outputs": [
        {
          "name": "stdout",
          "output_type": "stream",
          "text": [
            "x\n",
            "10.3\n",
            "5 10.3\n"
          ]
        }
      ],
      "source": [
        "x = 5 \n",
        "y = 10.3\n",
        "print('x')\n",
        "print(y)\n",
        "print(x,y)"
      ]
    },
    {
      "cell_type": "code",
      "execution_count": null,
      "metadata": {
        "colab": {
          "base_uri": "https://localhost:8080/"
        },
        "id": "SoywE2W_L6p_",
        "outputId": "625b140b-1bed-4af3-cf3f-e8434f50ce35"
      },
      "outputs": [
        {
          "name": "stdout",
          "output_type": "stream",
          "text": [
            "IcodeGuru,\n"
          ]
        }
      ],
      "source": [
        "a = \"Icode\"\n",
        "b = 'Guru,'\n",
        "print(a,b)\n",
        "# print(a,',',b)  Shortcut ctrl + /"
      ]
    },
    {
      "cell_type": "code",
      "execution_count": null,
      "metadata": {
        "colab": {
          "base_uri": "https://localhost:8080/"
        },
        "id": "8lUHMXMneewx",
        "outputId": "2f780e57-ca40-41c5-c7a6-e358c36c8a8e"
      },
      "outputs": [
        {
          "name": "stdout",
          "output_type": "stream",
          "text": [
            "myvariable\n"
          ]
        }
      ],
      "source": [
        "myvariable = \"Python\"\n",
        "print(\"myvariable\")"
      ]
    },
    {
      "cell_type": "markdown",
      "metadata": {
        "id": "8gU2jJmnAETK"
      },
      "source": [
        "# **Rules for assigning name to variable**\n",
        "\n",
        "\n",
        "\n",
        "*   A variable name must start with a letter or the underscore character and there must be no white space in a variable name\n",
        "*   A variable name cannot start with a number\n",
        "\n",
        "\n",
        "*   A variable name can only contain alpha-numeric characters and underscores (A-z, 0-9, and _ ). No special characters are allowed i.e. @icode , Python$ are the invalid variables.\n",
        "*   Variable names are case-sensitive (age, Age and AGE are three different variables)\n",
        "\n",
        "\n",
        "\n",
        "\n",
        "\n",
        "\n",
        "\n",
        "\n",
        "\n",
        "\n"
      ]
    },
    {
      "cell_type": "code",
      "execution_count": null,
      "metadata": {
        "id": "mgDIpGXDBL4_"
      },
      "outputs": [],
      "source": [
        "_myVar5 = \"iCodeGuru\"\n",
        "myVariableName = 95                 \n",
        "MyVariableName = 'Pakistan'         \n",
        "myVariableName = 88.5 \n",
        "print(myVariableName)            "
      ]
    },
    {
      "cell_type": "markdown",
      "metadata": {
        "id": "Hl8KyhyTViVv"
      },
      "source": [
        "# **Types of variable name cases**\n",
        "Camel Case\n",
        "\n",
        "Snake Case\n",
        "\n",
        "Pascal Case"
      ]
    },
    {
      "cell_type": "code",
      "execution_count": null,
      "metadata": {
        "id": "F99MxYyXipB0"
      },
      "outputs": [],
      "source": [
        "a = 10\n",
        "a = 5\n",
        "print(a)"
      ]
    },
    {
      "cell_type": "code",
      "execution_count": null,
      "metadata": {
        "id": "D3AgNDLdX4kK"
      },
      "outputs": [],
      "source": [
        "camelCase = 100\n",
        "snake_case = 5.9\n",
        "PascalCase = \"Python\""
      ]
    },
    {
      "cell_type": "markdown",
      "metadata": {
        "id": "NrAxOhSVlbPu"
      },
      "source": [
        "# **Assigning values to the variable:**\n",
        "\n",
        "\n",
        "\n",
        "\n",
        "* Assigning multiple values to multiple variables\n",
        "  \n",
        "*   Assigning one value to multiple variables\n",
        "\n",
        "\n"
      ]
    },
    {
      "cell_type": "markdown",
      "metadata": {
        "id": "MtaIKigVepSo"
      },
      "source": [
        "#**Multiple Values to Multiple Variables**\n",
        "\n",
        "Python allows you to assign values to multiple variables in one line."
      ]
    },
    {
      "cell_type": "code",
      "execution_count": null,
      "metadata": {
        "colab": {
          "base_uri": "https://localhost:8080/"
        },
        "id": "nkUQ51rSfMJf",
        "outputId": "3f12cddb-d25a-4ff6-c4c3-d39a8ce293c4"
      },
      "outputs": [
        {
          "name": "stdout",
          "output_type": "stream",
          "text": [
            "Orange\n",
            "5\n",
            "Apple\n",
            "5\n",
            "8\n"
          ]
        }
      ],
      "source": [
        "x, y, z = \"Orange\", 5, \"Apple\"\n",
        "print(x)\n",
        "print(y)\n",
        "print(z)\n",
        "a , b = 5 , 8\n",
        "print(a)\n",
        "print(b)\n"
      ]
    },
    {
      "cell_type": "markdown",
      "metadata": {
        "id": "ZSskfCdYfxtp"
      },
      "source": [
        "#**One Value to Multiple Variables**\n",
        "\n",
        "You can also assign the same value to multiple variables in one line."
      ]
    },
    {
      "cell_type": "code",
      "execution_count": null,
      "metadata": {
        "colab": {
          "base_uri": "https://localhost:8080/"
        },
        "id": "g52y2k8ulbqd",
        "outputId": "e805c81c-d5a2-4c4e-b742-86687cd2c961"
      },
      "outputs": [
        {
          "name": "stdout",
          "output_type": "stream",
          "text": [
            "Orange\n",
            "Orange\n",
            "Orange\n",
            "1\n",
            "1\n",
            "1\n"
          ]
        }
      ],
      "source": [
        "x = y = z = \"Orange\"\n",
        "print(x)\n",
        "print(y)\n",
        "print(z)\n",
        "a = b = c = 1\n",
        "print(a)\n",
        "print(b)\n",
        "print(c)"
      ]
    },
    {
      "cell_type": "code",
      "execution_count": null,
      "metadata": {
        "id": "7nN8aIRQSfjX"
      },
      "outputs": [],
      "source": [
        "b = 2\n",
        "print(b)"
      ]
    },
    {
      "cell_type": "code",
      "execution_count": null,
      "metadata": {
        "id": "AbcJ_8KESjFg"
      },
      "outputs": [],
      "source": [
        "#b = 45\n",
        "print(b)"
      ]
    },
    {
      "cell_type": "code",
      "execution_count": null,
      "metadata": {
        "colab": {
          "base_uri": "https://localhost:8080/"
        },
        "id": "zsrs-ovgU-yN",
        "outputId": "ffb4d782-1552-49cb-93cd-920a914fdad3"
      },
      "outputs": [
        {
          "name": "stdout",
          "output_type": "stream",
          "text": [
            "5\n",
            "6\n",
            "7\n"
          ]
        }
      ],
      "source": [
        "x , y, z , a = 5 , 6, 7  , 8\n",
        "print(x)\n",
        "print(y)\n",
        "print(z)"
      ]
    },
    {
      "cell_type": "markdown",
      "metadata": {
        "id": "zmnYV2TCJZRo"
      },
      "source": [
        "#**Getting Address of a Variable**\n",
        "\n",
        "Use `id` function for it.\n",
        "\n",
        "The `id()` function returns a unique id for the specified object.\n",
        "\n",
        "All objects in Python has its own unique id.\n",
        "\n",
        "The `id` is assigned to the object when it is created.\n",
        "\n",
        "The `id` is the object's memory address, and will be different for each time you run the program."
      ]
    },
    {
      "cell_type": "code",
      "execution_count": null,
      "metadata": {
        "colab": {
          "base_uri": "https://localhost:8080/"
        },
        "id": "uM4Haa2eKJFW",
        "outputId": "8940ddde-899a-4181-eb99-1cd75a571f71"
      },
      "outputs": [
        {
          "name": "stdout",
          "output_type": "stream",
          "text": [
            "10\n",
            "5\n",
            "9793376\n",
            "9793216\n"
          ]
        }
      ],
      "source": [
        "x = 5\n",
        "y = 5\n",
        "x = 10\n",
        "print(x)\n",
        "print(y)\n",
        "print(id(x))\n",
        "print(id(y))"
      ]
    },
    {
      "cell_type": "code",
      "execution_count": null,
      "metadata": {
        "colab": {
          "base_uri": "https://localhost:8080/"
        },
        "id": "ZurnXXORKiY9",
        "outputId": "c4a66635-2643-46d9-fb2a-b6b79a8c5de4"
      },
      "outputs": [
        {
          "name": "stdout",
          "output_type": "stream",
          "text": [
            "139740145670576\n",
            "139740040869104\n"
          ]
        }
      ],
      "source": [
        "x = \"Hello\"\n",
        "print(id(x))\n",
        "y = \"Hello1\"\n",
        "print(id(y))"
      ]
    },
    {
      "cell_type": "markdown",
      "metadata": {
        "id": "z2l5XsA6CK6P"
      },
      "source": [
        "# **Data Types**\n",
        "Following are some built-in data types in Python:\n",
        "\n",
        "\n",
        "*   Text Type:  `str`\n",
        "*   Numeric Types:  `int`, `float`  \n",
        "*   Sequence Types: `list`, `tuple`\n",
        "*   Mapping Type: `dict`\n",
        "*   Set Type: `set`\n",
        "*   Boolean Type: `bool`\n",
        "\n",
        "\n",
        "\n",
        "\n",
        "\n",
        "\n",
        "\n",
        "---\n"
      ]
    },
    {
      "cell_type": "code",
      "execution_count": null,
      "metadata": {
        "colab": {
          "base_uri": "https://localhost:8080/"
        },
        "id": "2jLuBslwSHLW",
        "outputId": "e03873bf-d404-4066-bdb9-553b1493a8a5"
      },
      "outputs": [
        {
          "name": "stdout",
          "output_type": "stream",
          "text": [
            "Programming\n",
            "20\n",
            "18.23\n",
            "False\n"
          ]
        }
      ],
      "source": [
        "string_var = \"Programming\"\n",
        "first_var = 20\n",
        "float_var = 18.23\n",
        "bool_var = False\n",
        "\n",
        "print(string_var)\n",
        "print(first_var)\n",
        "print(float_var)\n",
        "print(bool_var)\n",
        "\n"
      ]
    },
    {
      "cell_type": "markdown",
      "metadata": {
        "id": "57mos7tLSEBM"
      },
      "source": [
        "**Getting the Data type**\n",
        "\n",
        "You can get the data type of any object by using the **type()** function:\n",
        "\n",
        "\n",
        "\n",
        "\n"
      ]
    },
    {
      "cell_type": "code",
      "execution_count": null,
      "metadata": {
        "colab": {
          "base_uri": "https://localhost:8080/"
        },
        "id": "80xVgflRDVEq",
        "outputId": "b714c8bb-d0d3-4b20-93ad-b0463e30c7f8"
      },
      "outputs": [
        {
          "name": "stdout",
          "output_type": "stream",
          "text": [
            "1\n",
            "5\n"
          ]
        }
      ],
      "source": [
        "Var1 = 5\n",
        "var1 = 1\n",
        "print(var1)\n",
        "print(Var1)\n",
        "var2 = 2.5\n",
        "# print(type(var2))\n",
        "var3 = \"\"\"Hello\"\"\"\n",
        "# print(type(var3))\n",
        "# var4 = true\n",
        "# print(type(var4))"
      ]
    },
    {
      "cell_type": "markdown",
      "metadata": {
        "id": "2JjgGIWhm8sS"
      },
      "source": [
        "# **Type Casting in Python**\n",
        "We can change the data type of a variable or a value.\n"
      ]
    },
    {
      "cell_type": "code",
      "execution_count": null,
      "metadata": {
        "colab": {
          "base_uri": "https://localhost:8080/"
        },
        "id": "OjtwsdpInRju",
        "outputId": "21b14e03-f84e-48d7-e4ec-45174750ecf1"
      },
      "outputs": [
        {
          "name": "stdout",
          "output_type": "stream",
          "text": [
            "90.8\n",
            "<class 'str'>\n"
          ]
        }
      ],
      "source": [
        "first = \"105\"\n",
        "# print(type(first))\n",
        "# first = int(first)\n",
        "# print(first)\n",
        "# print(type(first))\n",
        "second = 90.8\n",
        "third = str(second)\n",
        "print(third)\n",
        "print(type(third))\n"
      ]
    },
    {
      "cell_type": "code",
      "execution_count": null,
      "metadata": {
        "colab": {
          "base_uri": "https://localhost:8080/"
        },
        "id": "CVstGXnt8sQ4",
        "outputId": "270a63a2-456e-407b-e3b0-5087664e3f1d"
      },
      "outputs": [
        {
          "name": "stdout",
          "output_type": "stream",
          "text": [
            "False\n",
            "<class 'str'>\n"
          ]
        }
      ],
      "source": [
        "string = False\n",
        "string1 = str(string)\n",
        "print(string1)\n",
        "print(type(string1))"
      ]
    },
    {
      "cell_type": "code",
      "execution_count": null,
      "metadata": {
        "colab": {
          "base_uri": "https://localhost:8080/"
        },
        "id": "VexVEAPo-Gwz",
        "outputId": "90d2da31-8d8b-4672-f1a4-e2a71f27f7a9"
      },
      "outputs": [
        {
          "name": "stdout",
          "output_type": "stream",
          "text": [
            "True\n"
          ]
        }
      ],
      "source": [
        "integer =100000\n",
        "boolean = bool(integer)\n",
        "print(boolean)"
      ]
    },
    {
      "cell_type": "code",
      "execution_count": null,
      "metadata": {
        "colab": {
          "base_uri": "https://localhost:8080/"
        },
        "id": "IaK-c3HV-bgY",
        "outputId": "7b2ddbd1-2db0-4634-a55f-0a522888b6be"
      },
      "outputs": [
        {
          "name": "stdout",
          "output_type": "stream",
          "text": [
            "1\n"
          ]
        }
      ],
      "source": [
        "boolean = True\n",
        "integer = int(boolean)\n",
        "print(integer)"
      ]
    },
    {
      "cell_type": "code",
      "execution_count": null,
      "metadata": {
        "colab": {
          "base_uri": "https://localhost:8080/"
        },
        "id": "Tj9fOJAiqfef",
        "outputId": "81d11ddc-57d5-4a25-a46b-e7386350575d"
      },
      "outputs": [
        {
          "name": "stdout",
          "output_type": "stream",
          "text": [
            "Enter anything 6\n",
            "11\n"
          ]
        }
      ],
      "source": [
        "x = int(input(\"Enter anything\"))\n",
        "print(x + 5)\n",
        "#print(type(x))"
      ]
    },
    {
      "cell_type": "code",
      "execution_count": null,
      "metadata": {
        "colab": {
          "base_uri": "https://localhost:8080/"
        },
        "id": "CHxQvbXywH_n",
        "outputId": "e0bf7f21-6001-48f3-b898-d530a2f3b670"
      },
      "outputs": [
        {
          "name": "stdout",
          "output_type": "stream",
          "text": [
            "My name is Tahmas.\n"
          ]
        }
      ],
      "source": [
        "print('My name is Tahmas.')\n",
        "a = \"6\""
      ]
    },
    {
      "cell_type": "markdown",
      "metadata": {
        "id": "eVHjgPtgD2ym"
      },
      "source": [
        "# **Operators**\n",
        "\n",
        "Operators are used to perform operations on variables and values.\n",
        "Python divides the operators in the following groups:\n",
        "*   Arithmetic operators\n",
        "\n",
        "*   Assignment operators\n",
        "\n",
        "*   Comparison operators\n",
        "\n",
        "*   Logical operators\n",
        "\n",
        "*   Membership operators\n",
        "\n"
      ]
    },
    {
      "cell_type": "markdown",
      "metadata": {
        "id": "aTaUbPlB6lgG"
      },
      "source": [
        "#**Arithmetic Operators**\n",
        "\n",
        "* Addition +\n",
        "* Subtraction -\n",
        "* Multiplicatin *\n",
        "* Division /\n",
        "* Modulus %\n",
        "* Exponentiation **\n",
        "* Floor Division //"
      ]
    },
    {
      "cell_type": "code",
      "execution_count": null,
      "metadata": {
        "colab": {
          "base_uri": "https://localhost:8080/"
        },
        "id": "EUATg_aPEjvT",
        "outputId": "046a8f12-108f-4afc-e0a3-08f42ff433ce"
      },
      "outputs": [
        {
          "name": "stdout",
          "output_type": "stream",
          "text": [
            "Enter a number 5\n",
            "9.0\n",
            "<class 'float'>\n"
          ]
        }
      ],
      "source": [
        "#Addition\n",
        "a = int(input(\"Enter a number \"))\n",
        "b = 4.0\n",
        "c = a + b\n",
        "print(c)\n",
        "print(type(c))\n",
        "#print(3 + 7)\n"
      ]
    },
    {
      "cell_type": "code",
      "execution_count": null,
      "metadata": {
        "colab": {
          "base_uri": "https://localhost:8080/"
        },
        "id": "Z3mofTaQFDz7",
        "outputId": "49caee50-8457-4632-d420-defe1f3f996d"
      },
      "outputs": [
        {
          "name": "stdout",
          "output_type": "stream",
          "text": [
            "-1.0\n",
            "<class 'float'>\n"
          ]
        }
      ],
      "source": [
        "#Subtraction\n",
        "a = 4\n",
        "b = 5.0\n",
        "\n",
        "print(a - b)\n",
        "print(type(a - b))\n"
      ]
    },
    {
      "cell_type": "code",
      "execution_count": null,
      "metadata": {
        "colab": {
          "base_uri": "https://localhost:8080/"
        },
        "id": "DI1-Tq7sFUee",
        "outputId": "82225892-9b2d-42f9-f4f2-3b94e785abaf"
      },
      "outputs": [
        {
          "name": "stdout",
          "output_type": "stream",
          "text": [
            "8.0\n",
            "<class 'float'>\n"
          ]
        }
      ],
      "source": [
        "#Multiplication\n",
        "a = 2.0\n",
        "b = 4\n",
        "print(a*b)\n",
        "print(type(a*b))"
      ]
    },
    {
      "cell_type": "code",
      "execution_count": null,
      "metadata": {
        "colab": {
          "base_uri": "https://localhost:8080/"
        },
        "id": "vbHi8H32FgUw",
        "outputId": "d94c92d1-cb32-414f-b89e-811af3bcc3ca"
      },
      "outputs": [
        {
          "name": "stdout",
          "output_type": "stream",
          "text": [
            "2\n",
            "<class 'int'>\n"
          ]
        }
      ],
      "source": [
        "#Division\n",
        "x = 12\n",
        "y = 5\n",
        "z = int(x/y)\n",
        "print(z)\n",
        "print(type(z))"
      ]
    },
    {
      "cell_type": "code",
      "execution_count": null,
      "metadata": {
        "id": "AKLq8RAh8RL1"
      },
      "outputs": [],
      "source": [
        "#Floor Division\n",
        "x = 12\n",
        "y = 5\n",
        "z = x//y\n",
        "print(z)\n",
        "print(type(z))"
      ]
    },
    {
      "cell_type": "code",
      "execution_count": null,
      "metadata": {
        "colab": {
          "base_uri": "https://localhost:8080/"
        },
        "id": "SRiCAVUDSxct",
        "outputId": "62e81f19-3e83-4d1d-da04-308495f26c53"
      },
      "outputs": [
        {
          "name": "stdout",
          "output_type": "stream",
          "text": [
            "-1.5\n"
          ]
        }
      ],
      "source": [
        "print(-3/2)\n"
      ]
    },
    {
      "cell_type": "code",
      "execution_count": null,
      "metadata": {
        "colab": {
          "base_uri": "https://localhost:8080/"
        },
        "id": "JrVD0C9nGlai",
        "outputId": "e96674dd-58e3-4ef6-f01b-28e42638d628"
      },
      "outputs": [
        {
          "name": "stdout",
          "output_type": "stream",
          "text": [
            "25\n",
            "<class 'int'>\n"
          ]
        }
      ],
      "source": [
        "#Exponentiation or Exponential\n",
        "x = 5\n",
        "y = 2   # 5 raised to power 2, 5*5\n",
        "print(x**y)  # 1st value = base, 2nd value = power\n",
        "print(type(x**y))"
      ]
    },
    {
      "cell_type": "code",
      "execution_count": null,
      "metadata": {
        "colab": {
          "base_uri": "https://localhost:8080/"
        },
        "id": "j8GEt7xeGyTA",
        "outputId": "1b338298-071e-4956-c147-40b80a6c6f02"
      },
      "outputs": [
        {
          "name": "stdout",
          "output_type": "stream",
          "text": [
            "2\n",
            "<class 'int'>\n"
          ]
        }
      ],
      "source": [
        "#Modulus\n",
        "x = 12\n",
        "y = 5\n",
        "print(x%y)\n",
        "print(type(x%y))"
      ]
    },
    {
      "cell_type": "code",
      "execution_count": null,
      "metadata": {
        "colab": {
          "base_uri": "https://localhost:8080/"
        },
        "id": "jKZZyWOZNHSy",
        "outputId": "e418856d-3634-4435-d2cc-521157c8bc29"
      },
      "outputs": [
        {
          "name": "stdout",
          "output_type": "stream",
          "text": [
            "13.0\n"
          ]
        }
      ],
      "source": [
        "print(4 * 3 + 2 / 2)\n"
      ]
    },
    {
      "cell_type": "markdown",
      "metadata": {
        "id": "bujUaB2uJWv1"
      },
      "source": [
        "#**Operator Precedence**\n",
        "\n",
        "\n",
        "paranthesis\n",
        "\n",
        "exponentiation\n",
        "\n",
        "multiplication / division / f.d / modulus\n",
        "\n",
        "addition, subtraction"
      ]
    },
    {
      "cell_type": "code",
      "execution_count": null,
      "metadata": {
        "colab": {
          "base_uri": "https://localhost:8080/"
        },
        "id": "2H4OLn1vJf9j",
        "outputId": "23f8c92c-d6ca-4028-9857-da5fbb147f68"
      },
      "outputs": [
        {
          "name": "stdout",
          "output_type": "stream",
          "text": [
            "22\n"
          ]
        }
      ],
      "source": [
        "print(12 + 5 * (4 - 2))\n"
      ]
    },
    {
      "cell_type": "markdown",
      "metadata": {
        "id": "GKFHVFTi_ume"
      },
      "source": [
        "#**Assignment Operators**\n",
        "\n",
        "Assignment operators are used to assign values to variables"
      ]
    },
    {
      "cell_type": "code",
      "execution_count": null,
      "metadata": {
        "colab": {
          "base_uri": "https://localhost:8080/"
        },
        "id": "I07XLTUaAQPp",
        "outputId": "5aeb470a-48e7-4463-b632-d0acbe5094a9"
      },
      "outputs": [
        {
          "name": "stdout",
          "output_type": "stream",
          "text": [
            "125\n"
          ]
        }
      ],
      "source": [
        "x = 5\n",
        "#x += 3    # x = x+3\n",
        "#x -= 3      # x = x - 3\n",
        "#x *= x       # x = 5*5\n",
        "#x /= 3        # x = x/3\n",
        "#x %= 3\n",
        "#x //= 3\n",
        "x **= 3       \n",
        "print(x)"
      ]
    },
    {
      "cell_type": "markdown",
      "metadata": {
        "id": "ZcJEj7woXxKl"
      },
      "source": [
        "#**Comparison Operators**\n",
        "\n",
        "\n",
        "These are used to compare two variables with each other.\n",
        "\n",
        "\">\"  is greater than\n",
        "\n",
        "\"<\"  is smaller than \n",
        "\n",
        "\">=\"  is greater than or equal to \n",
        "\n",
        "\"<=\"  is smaller than or equal to\n",
        "\n",
        "\"==\"  is equal to\n",
        "\n",
        "\"!=\" is not equal to"
      ]
    },
    {
      "cell_type": "code",
      "execution_count": null,
      "metadata": {
        "colab": {
          "base_uri": "https://localhost:8080/"
        },
        "id": "GzCdd3odZJKj",
        "outputId": "17eed5c4-2086-4735-fc26-f15096a8dfdf"
      },
      "outputs": [
        {
          "name": "stdout",
          "output_type": "stream",
          "text": [
            "False\n"
          ]
        }
      ],
      "source": [
        "a = 7\n",
        "b = 10\n",
        "print(a>=b)\n",
        "#print(a==b)\n",
        "#print(a<b)\n"
      ]
    },
    {
      "cell_type": "markdown",
      "metadata": {
        "id": "KfUhahdTsgQk"
      },
      "source": [
        "# **Logical Operators**\n",
        "\n",
        "Python has three Boolean operators, or logical operators: and , or , and not.\n",
        "\n",
        "Logical operators are used to combine conditional statements\n",
        "\n",
        "  \n",
        "\n",
        "`and` \t      Returns \"True\" if both statements are true\t\t\n",
        "`or`\t        Returns \"True\" if one of the statements is true\t\n",
        "`not`\t        Reverse the result, returns \"False\" if the result is true\t\n"
      ]
    },
    {
      "cell_type": "code",
      "execution_count": null,
      "metadata": {
        "id": "cDBQCh4QuLIL"
      },
      "outputs": [],
      "source": [
        "x = 9\n",
        "#print(x < 11 and  x < 10)\n",
        "print(x < 5 or x < 10)\n",
        "print(not (x < 5 or x < 10))\n",
        "print(not x > 10)\t"
      ]
    },
    {
      "cell_type": "code",
      "execution_count": null,
      "metadata": {
        "id": "sc7w5_BfUxcO"
      },
      "outputs": [],
      "source": [
        "a = 20\n",
        "b = 70\n",
        "print(a==b or a>b)"
      ]
    },
    {
      "cell_type": "markdown",
      "metadata": {
        "id": "qKi--zbmEejZ"
      },
      "source": [
        "#**Membership Operators**\n",
        "\n",
        "Membership operators are used to test if a sequence is presented in an object\n",
        "\n",
        "`in` Returns \"True\" if a sequence with the specified value is present in the object\n",
        "\n",
        "`not in` Returns \"True\" if a sequence with the specified value is not present in the object"
      ]
    },
    {
      "cell_type": "code",
      "execution_count": null,
      "metadata": {
        "id": "tpWGcI0GEnlM"
      },
      "outputs": [],
      "source": [
        "var1 = \"Python for Beginners\"\n",
        "#print(\"p\" in var1)\n",
        "var2 = [\"orange\", 5, \"3.5\"]\n",
        "#print(\"orange\" not in var2)\n",
        "\n",
        "print(\"o\" in \"iCodeGuru\")"
      ]
    },
    {
      "cell_type": "markdown",
      "metadata": {
        "id": "TL7VnpFf65m8"
      },
      "source": [
        "#**Identity Operators**\n",
        "\n",
        "Identity operators are used to compare the objects, not if they are equal, but if they are actually the same object, with the same memory location.\n",
        "\n",
        "`is` Returns True if both variables are the same object\n",
        "\n",
        "`is not` Returns True if both variables are not the same object"
      ]
    },
    {
      "cell_type": "code",
      "execution_count": null,
      "metadata": {
        "id": "wbw-CcWl7cKe"
      },
      "outputs": [],
      "source": [
        "a = 10\n",
        "b = \"10\"\n",
        "\n",
        "print(a is b)\n",
        "print(id(a))\n",
        "print(id(b))"
      ]
    }
  ]
}