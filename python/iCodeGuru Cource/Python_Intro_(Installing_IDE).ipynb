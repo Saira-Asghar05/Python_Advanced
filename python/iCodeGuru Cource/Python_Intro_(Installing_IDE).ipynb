{
  "nbformat": 4,
  "nbformat_minor": 0,
  "metadata": {
    "colab": {
      "provenance": []
    },
    "kernelspec": {
      "name": "python3",
      "display_name": "Python 3"
    },
    "language_info": {
      "name": "python"
    }
  },
  "cells": [
    {
      "cell_type": "markdown",
      "source": [
        "# **What is a programming Language?**\n",
        "\n",
        "A programming language is an artificial language that can be used to control the behaviour of a machine, particularly a computer. Programming languages, like human languages, are defined through the use of syntactic and semantic rules, to determine structure and meaning respectively.\n",
        "\n",
        "\n",
        "Examples are: Python, Ruby, Java, JavaScript, C, C++, and C#. \n",
        "\n",
        "Programming languages are used to write all computer programs and computer software. A programming language is like a set of instructions that the computer follows to do something.\n"
      ],
      "metadata": {
        "id": "lQge0hGuyU1M"
      }
    },
    {
      "cell_type": "markdown",
      "source": [
        "# **Python For Beginners**\n",
        "\n",
        "\n",
        "Python is a popular programming language. It was created by Guido van Rossum, and released in 1991.\n",
        "# Why Python?\n",
        "\n",
        "\n",
        "*   Free and open source\n",
        "*   Easy to learn\n",
        "\n",
        "\n",
        "*   Portable\n",
        "*   A lot of applications including web developing, app developing and data science\n",
        "\n",
        "\n",
        "*   Can be treated in a procedural way, object oriented way and fuctional way\n",
        "\n",
        "\n"
      ],
      "metadata": {
        "id": "I3PnExiAylcq"
      }
    },
    {
      "cell_type": "markdown",
      "source": [
        "## **Installing IDE(Integrated Development Environment):**\n",
        "\n",
        "How to download and install Python on Windows:\n",
        "\n",
        "https://www.python.org/downloads/\n",
        "\n",
        "how to download and install Pycharm IDE on Windows:\n",
        "\n",
        "https://www.jetbrains.com/pycharm/download/\n",
        "\n",
        "Moreover, here you can get complete guidance about installing IDE for python on Windows.\n",
        "\n",
        "https://www.guru99.com/how-to-install-python.html"
      ],
      "metadata": {
        "id": "6A7z5TnwyugJ"
      }
    },
    {
      "cell_type": "markdown",
      "source": [
        "# **Python Syntax**"
      ],
      "metadata": {
        "id": "pn1rvdSFy3XG"
      }
    },
    {
      "cell_type": "code",
      "source": [
        "print('Hello World!')"
      ],
      "metadata": {
        "id": "vgrEC7xQye7Y"
      },
      "execution_count": null,
      "outputs": []
    },
    {
      "cell_type": "code",
      "source": [
        "print(\"2345\")"
      ],
      "metadata": {
        "id": "KvugvzTjy-aj"
      },
      "execution_count": null,
      "outputs": []
    },
    {
      "cell_type": "code",
      "source": [
        "print(\"2092\")"
      ],
      "metadata": {
        "id": "lk4Syk3BzB6u"
      },
      "execution_count": null,
      "outputs": []
    },
    {
      "cell_type": "code",
      "source": [
        "a = 100\n",
        "print(a)\n",
        "b = \"Python\"\n",
        "print(b)"
      ],
      "metadata": {
        "id": "tWYTu89izIVl"
      },
      "execution_count": null,
      "outputs": []
    },
    {
      "cell_type": "markdown",
      "source": [
        "# **Comment**\n",
        "Comments can be used to explain Python code. \n",
        "\n",
        "Comments can be used to make the code more readable.\n",
        "\n",
        "Comments can be used to prevent execution when testing code.\n",
        "\n",
        "\n",
        "2 types of comments in Python:\n",
        "\n",
        "\n",
        "*   Single line comment\n",
        "*   Multi-line comment\n",
        "\n"
      ],
      "metadata": {
        "id": "bSzB3s1vzPHp"
      }
    },
    {
      "cell_type": "code",
      "source": [
        "print(\"Let's learn about comments.\")\n",
        "#it is a single line comment\n",
        "print(\"Icode\")\n"
      ],
      "metadata": {
        "id": "upsg_ooKzUQi"
      },
      "execution_count": null,
      "outputs": []
    },
    {
      "cell_type": "code",
      "source": [
        "print(\"\"\"Multi-line Comment\"\"\")\n",
        "'''for multi-line comment, you can use # with every line or\n",
        "simply use triple inverted commas(multi-line string).\n",
        "ar\n",
        "sar\n",
        "ahghjj\n",
        "'''\n",
        "\n",
        "print(\"It's an example of multi-line string.\")\n",
        "\n"
      ],
      "metadata": {
        "id": "6TNnLM5MzZaV"
      },
      "execution_count": null,
      "outputs": []
    },
    {
      "cell_type": "markdown",
      "source": [
        "# **Reserve words or keywords**\n",
        "\n",
        "Keywords are predefined, reserved words used in Python programming that have special meanings to the interpreter.\n",
        "\n",
        "We cannot use a keyword as a variable name, function name, or any other identifier. They are used to define the syntax and structure of the Python language.\n",
        "\n",
        "Following are some keywords in Python:\n",
        "\n",
        "\n",
        "False,     Is,     In,     Lambda,    True,    None,    If,     Elif,    Break,       Else,    Continue,    Class,    Not,    And,    Or\n",
        "\n"
      ],
      "metadata": {
        "id": "txqlHMjUzfl-"
      }
    }
  ]
}