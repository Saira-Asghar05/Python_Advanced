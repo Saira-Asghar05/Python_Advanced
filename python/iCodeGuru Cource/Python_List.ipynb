{
  "nbformat": 4,
  "nbformat_minor": 0,
  "metadata": {
    "colab": {
      "provenance": []
    },
    "kernelspec": {
      "name": "python3",
      "display_name": "Python 3"
    },
    "language_info": {
      "name": "python"
    }
  },
  "cells": [
    {
      "cell_type": "markdown",
      "metadata": {
        "id": "S7DnF0LCDRzg"
      },
      "source": [
        "#**List**\n",
        "\n",
        "Lists are used to store multiple items in a single variable.\n",
        "\n",
        "List items are ordered, changable, allow duplicate values.\n",
        "\n",
        "List items can be of any data type."
      ]
    },
    {
      "cell_type": "code",
      "execution_count": null,
      "metadata": {
        "id": "R6VMwO-ZME2O"
      },
      "outputs": [],
      "source": [
        "list1 = [\"cool\", 5, \"table\", 4.3, True, \"cool\"]\n",
        "print(list1)\n",
        "print(type(list1))\n"
      ]
    },
    {
      "cell_type": "markdown",
      "metadata": {
        "id": "aFQ8SJorMzWI"
      },
      "source": [
        "#**List Length**\n",
        "\n",
        "Use `len()` function to determine how many items a list has. "
      ]
    },
    {
      "cell_type": "code",
      "execution_count": null,
      "metadata": {
        "id": "bSYKUbHQNDSk",
        "colab": {
          "base_uri": "https://localhost:8080/"
        },
        "outputId": "d055a0fc-9a92-40fa-870e-f89f20ae0504"
      },
      "outputs": [
        {
          "output_type": "stream",
          "name": "stdout",
          "text": [
            "6\n"
          ]
        }
      ],
      "source": [
        "print(len(list1))   #len()"
      ]
    },
    {
      "cell_type": "markdown",
      "metadata": {
        "id": "C2x8_VJ4Qc_Z"
      },
      "source": [
        "#**Access List Items**\n",
        "\n",
        "Since list items are indexed, they can be accessed by referring to their index number.\n",
        "\n",
        "We can also use negative indexing to refer to a list item.\n",
        "\n",
        "We can also specify a range to tell where to start and where to end. In that case, the output will be a new list having specified items.\n",
        "\n",
        "We can also specify negative indexes if we want to start the search from the end of the list\n"
      ]
    },
    {
      "cell_type": "code",
      "execution_count": null,
      "metadata": {
        "id": "U8Qm-HBHPngu",
        "colab": {
          "base_uri": "https://localhost:8080/"
        },
        "outputId": "ec172adb-54a9-452b-9e68-9fe28b048eb1"
      },
      "outputs": [
        {
          "output_type": "stream",
          "name": "stdout",
          "text": [
            "[]\n",
            "[]\n"
          ]
        }
      ],
      "source": [
        "list1 = [\"cool\", 5, \"table\", 4.3, True]\n",
        "#print(list1[0])\n",
        "\n",
        "#using -ve index\n",
        "#print(list1[-1])\n",
        "\n",
        "#range of items\n",
        "print(list1[4:2])\n",
        "\n",
        "#range of -ve indexes\n",
        "print(list1[-3:-1])"
      ]
    },
    {
      "cell_type": "markdown",
      "metadata": {
        "id": "oeocQX5HRS-3"
      },
      "source": [
        "#**Membership Operators in List**\n",
        "\n",
        "To check if the specified item is present in a list or not we can use membership operators i'e `in` and `not in`"
      ]
    },
    {
      "cell_type": "code",
      "execution_count": null,
      "metadata": {
        "id": "bWr9BQXiRid6",
        "colab": {
          "base_uri": "https://localhost:8080/"
        },
        "outputId": "53583a1d-c80e-47dd-cea5-495f8beae5dd"
      },
      "outputs": [
        {
          "output_type": "stream",
          "name": "stdout",
          "text": [
            "True\n",
            "False\n"
          ]
        }
      ],
      "source": [
        "print(5 in list1)\n",
        "print(5 not in list1)"
      ]
    },
    {
      "cell_type": "markdown",
      "metadata": {
        "id": "7JafxTIBUxar"
      },
      "source": [
        "#**Change List Items**\n",
        "\n",
        "To change the value of a specific item, refer to the index number.\n",
        "\n",
        "To change the value of items within a specific range, define a list with the new values, and refer to the range of index numbers where you want to insert the new values."
      ]
    },
    {
      "cell_type": "code",
      "execution_count": null,
      "metadata": {
        "id": "nMH3SZfBVrZD"
      },
      "outputs": [],
      "source": [
        "list2 = [\"summer\", \"winter\", \"spring\", \"autumn\"]\n",
        "list2[1] = \"go!\"\n",
        "print(list2)\n",
        "\n",
        "list2[1:3] = [\"list\", 5]\n",
        "print(list2)"
      ]
    },
    {
      "cell_type": "markdown",
      "metadata": {
        "id": "jtIMg82dXmuk"
      },
      "source": [
        "#**Add List Items**\n",
        "\n",
        "We can add items in the list using:\n",
        "\n",
        "\n",
        "*   `append()` method\n",
        "*   `insert()` method\n",
        "*   `extend()` method\n",
        "\n"
      ]
    },
    {
      "cell_type": "code",
      "execution_count": null,
      "metadata": {
        "id": "qMDrj-jnYFPn",
        "colab": {
          "base_uri": "https://localhost:8080/"
        },
        "outputId": "7a7cdc28-f1cd-40d4-f047-cc8a76eda246"
      },
      "outputs": [
        {
          "output_type": "stream",
          "name": "stdout",
          "text": [
            "['summer', 'winter', 'spring', 'autumn', 'rainy season']\n",
            "['summer', 'great', 'winter', 'spring', 'autumn', 'rainy season']\n",
            "None\n",
            "['summer', 'great', 'winter', 'spring', 'autumn', 'rainy season', 1, 2, 3, 4, 5]\n"
          ]
        }
      ],
      "source": [
        "list2 = [\"summer\", \"winter\", \"spring\", \"autumn\"]\n",
        "\n",
        "#To add an item to the end of the list, use the append() method\n",
        "list2.append(\"rainy season\")\n",
        "print(list2)\n",
        "\n",
        "#To insert a list item at a specified index, use the insert() method\n",
        "list2.insert(1,\"great\")\n",
        "print(list2)\n",
        "\n",
        "#To append elements from another list to the current list, use the extend() method.\n",
        "list3 = [1, 2, 3, 4, 5]\n",
        "list2.extend(list3)\n",
        "print(list2)"
      ]
    }
  ]
}