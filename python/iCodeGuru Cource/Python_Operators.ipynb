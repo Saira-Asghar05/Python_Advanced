{
  "nbformat": 4,
  "nbformat_minor": 0,
  "metadata": {
    "colab": {
      "provenance": []
    },
    "kernelspec": {
      "name": "python3",
      "display_name": "Python 3"
    },
    "language_info": {
      "name": "python"
    }
  },
  "cells": [
    {
      "cell_type": "markdown",
      "source": [
        "# **Operators**\n",
        "\n",
        "Operators are used to perform operations on variables and values.\n",
        "Python divides the operators in the following groups:\n",
        "*   Arithmetic operators\n",
        "\n",
        "*   Assignment operators\n",
        "\n",
        "*   Comparison operators\n",
        "\n",
        "*   Logical operators\n",
        "\n",
        "*   Membership operators\n",
        "\n"
      ],
      "metadata": {
        "id": "s4kIc-xhRCqO"
      }
    },
    {
      "cell_type": "markdown",
      "source": [
        "#**Arithmetic Operators**\n",
        "\n",
        "* Addition +\n",
        "* Subtraction -\n",
        "* Multiplicatin *\n",
        "* Division /\n",
        "* Modulus %\n",
        "* Exponentiation **\n",
        "* Floor Division //"
      ],
      "metadata": {
        "id": "wN2EXhs9RIIg"
      }
    },
    {
      "cell_type": "code",
      "execution_count": null,
      "metadata": {
        "id": "jnP-3qfFQ4VH"
      },
      "outputs": [],
      "source": [
        "#Addition\n",
        "a = 2\n",
        "b = 4\n",
        "c = a + b\n",
        "print(c)\n",
        "#print(type(c))\n"
      ]
    },
    {
      "cell_type": "code",
      "source": [
        "#Subtraction\n",
        "a = 9.0\n",
        "b = 5.5\n",
        "c = a - b\n",
        "print(c)\n",
        "#print(type(c))\n",
        "\n"
      ],
      "metadata": {
        "id": "IJEjbUb0Rmvw"
      },
      "execution_count": null,
      "outputs": []
    },
    {
      "cell_type": "code",
      "source": [
        "#Multiplication\n",
        "a = 2\n",
        "b = 4\n",
        "print(a*b)\n",
        "print(type(a*b))"
      ],
      "metadata": {
        "id": "lT-gox6_RxLP"
      },
      "execution_count": null,
      "outputs": []
    },
    {
      "cell_type": "code",
      "source": [
        "#Division\n",
        "x = 12\n",
        "y = 5\n",
        "print(x/y)\n",
        "print(type(x/y))"
      ],
      "metadata": {
        "id": "Lj7EA1WKVbr7"
      },
      "execution_count": null,
      "outputs": []
    },
    {
      "cell_type": "code",
      "source": [
        "#Floor Division\n",
        "x = 5\n",
        "y = 5\n",
        "z = x//y\n",
        "print(type(z))"
      ],
      "metadata": {
        "id": "LzplKt2aVeUQ"
      },
      "execution_count": null,
      "outputs": []
    },
    {
      "cell_type": "code",
      "source": [
        "#Exponentiation or Exponential\n",
        "x = 2\n",
        "y = 5\n",
        "print(x**y)\n",
        "print(type(x**y))"
      ],
      "metadata": {
        "id": "xDXwAt7kVf8w"
      },
      "execution_count": null,
      "outputs": []
    },
    {
      "cell_type": "code",
      "source": [
        "#Modulus\n",
        "x = 5\n",
        "y = 5\n",
        "print(x%y)"
      ],
      "metadata": {
        "id": "T4dGxo4SVol0"
      },
      "execution_count": null,
      "outputs": []
    },
    {
      "cell_type": "markdown",
      "source": [
        "#**Operator Precedence**\n",
        "\n",
        "\n",
        "paranthesis\n",
        "\n",
        "exponentiation\n",
        "\n",
        "multiplication / division / f.d / modulus\n",
        "\n",
        "addition, subtraction"
      ],
      "metadata": {
        "id": "ukAyTfCNQqNV"
      }
    },
    {
      "cell_type": "code",
      "source": [
        "print(12 + 5 * (4 - 2))\n"
      ],
      "metadata": {
        "id": "ajnsGzOSQ3q7"
      },
      "execution_count": null,
      "outputs": []
    },
    {
      "cell_type": "markdown",
      "source": [
        "#**Assignment Operators**\n",
        "\n",
        "Assignment operators are used to assign values to variables"
      ],
      "metadata": {
        "id": "Ayk1sCeqVsv6"
      }
    },
    {
      "cell_type": "code",
      "source": [
        "x = 5\n",
        "x += 3    # x = x+3\n",
        "#x -= 3\n",
        "#x *= 3\n",
        "#x /= 3\n",
        "#x %= 3\n",
        "#x //= 3\n",
        "#x **= 3 \n",
        "print(x)"
      ],
      "metadata": {
        "id": "B3cuOS42VzNn"
      },
      "execution_count": null,
      "outputs": []
    },
    {
      "cell_type": "markdown",
      "source": [
        "#**Comparison Operators**\n",
        "\n",
        "\n",
        "These are used to compare two variables with each other.\n",
        "\n",
        "\">\"  is greater than\n",
        "\n",
        "\"<\"  is smaller than \n",
        "\n",
        "\">=\"  is greater than or equal to \n",
        "\n",
        "\"<=\"  is smaller than or equal to\n",
        "\n",
        "\"==\"  is equal to\n",
        "\n",
        "\"!=\" is not equal to"
      ],
      "metadata": {
        "id": "-8QQup3kV4U1"
      }
    },
    {
      "cell_type": "code",
      "source": [
        "a= 5\n",
        "b = 10\n",
        "print(a>=b)\n",
        "print(a==b)\n",
        "print(a<b)\n"
      ],
      "metadata": {
        "id": "XWRtHoyaWBOv"
      },
      "execution_count": null,
      "outputs": []
    },
    {
      "cell_type": "markdown",
      "source": [
        "# **Logical Operators**\n",
        "\n",
        "Python has three Boolean operators, or logical operators: and , or , and not.\n",
        "\n",
        "Logical operators are used to combine conditional statements\n",
        "\n",
        "  \n",
        "\n",
        "`and` \t      Returns \"True\" if both statements are true\t\t\n",
        "`or`\t        Returns \"True\" if one of the statements is true\t\n",
        "`not`\t        Reverse the result, returns \"False\" if the result is true\t\n"
      ],
      "metadata": {
        "id": "9O-0ZvyJWIiO"
      }
    },
    {
      "cell_type": "code",
      "source": [
        "x = 9\n",
        "print(x < 5 and  x < 10)\n",
        "#print(x < 5 or x < 10)\n",
        "#print(not(x < 5 or x < 10))\t"
      ],
      "metadata": {
        "id": "fIXlWMeHWO-E"
      },
      "execution_count": null,
      "outputs": []
    },
    {
      "cell_type": "code",
      "source": [
        "a = 20\n",
        "b = 70\n",
        "print(a==b or a>b)"
      ],
      "metadata": {
        "id": "E6Don5qeWSmO"
      },
      "execution_count": null,
      "outputs": []
    },
    {
      "cell_type": "markdown",
      "source": [
        "#**Membership Operators**\n",
        "\n",
        "Membership operators are used to test if a sequence is presented in an object\n",
        "\n",
        "`in` Returns \"True\" if a sequence with the specified value is present in the object\n",
        "\n",
        "`not in` Returns \"True\" if a sequence with the specified value is not present in the object"
      ],
      "metadata": {
        "id": "WzkvV0g6WkDn"
      }
    },
    {
      "cell_type": "code",
      "source": [
        "var1 = \"Python for Beginners\"\n",
        "print(\"f\" in var1)\n",
        "var2 = [\"orange\", 5, \"3.5\"]\n",
        "print(5 in var2)"
      ],
      "metadata": {
        "id": "JQ_DNpnhWtrP"
      },
      "execution_count": null,
      "outputs": []
    }
  ]
}