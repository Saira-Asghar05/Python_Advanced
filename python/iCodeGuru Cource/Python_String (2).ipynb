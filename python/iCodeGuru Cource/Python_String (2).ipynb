{
  "nbformat": 4,
  "nbformat_minor": 0,
  "metadata": {
    "colab": {
      "provenance": []
    },
    "kernelspec": {
      "name": "python3",
      "display_name": "Python 3"
    },
    "language_info": {
      "name": "python"
    }
  },
  "cells": [
    {
      "cell_type": "markdown",
      "metadata": {
        "id": "ZjU1vE_8mFH1"
      },
      "source": [
        "#**Python Strings**\n",
        "\n",
        "Strings in python are surrounded by either single quotation marks, or double quotation marks.\n",
        "\n",
        "You can display a string literal with the `print()` function"
      ]
    },
    {
      "cell_type": "code",
      "execution_count": null,
      "metadata": {
        "colab": {
          "base_uri": "https://localhost:8080/"
        },
        "id": "os7Zj6bCtw70",
        "outputId": "7e84c3a2-9aba-4c09-f42b-0598017944bf"
      },
      "outputs": [
        {
          "name": "stdout",
          "output_type": "stream",
          "text": [
            "Pytho'n\n",
            "Programm'ing\n"
          ]
        }
      ],
      "source": [
        "\n",
        "x = \"Python\"\n",
        "print(x)\n",
        "y = 'Programming'\n",
        "print(y)\n"
      ]
    },
    {
      "cell_type": "markdown",
      "metadata": {
        "id": "UgeAJh4et7fq"
      },
      "source": [
        "# **Multiline Strings**\n",
        "\n",
        "\n",
        "You can assign a multiline string to a variable by using three quotes or three single quotes:\n",
        "\n",
        "The line breaks are inserted at the same position as in the code.\n",
        "\n"
      ]
    },
    {
      "cell_type": "code",
      "execution_count": null,
      "metadata": {
        "colab": {
          "base_uri": "https://localhost:8080/"
        },
        "id": "uSlo8847ufCF",
        "outputId": "7aa638c4-f8df-4c0a-c929-35602acbc74f"
      },
      "outputs": [
        {
          "name": "stdout",
          "output_type": "stream",
          "text": [
            "Hello there, I am learning\n",
            "python programming language!\n",
            "\n",
            "\n",
            "Now, we are learning about \n",
            "multiline string\n"
          ]
        }
      ],
      "source": [
        "message1 = \"\"\"Hello there, I am learning\n",
        "python programming language!\"\"\"\n",
        "print(message1)\n",
        "message2 = '''\n",
        "\n",
        "Now, we are learning about \n",
        "multiline string'''\n",
        "print(message2)"
      ]
    },
    {
      "cell_type": "markdown",
      "metadata": {
        "id": "TwepLN044vdr"
      },
      "source": [
        "# **String Concatenation**\n",
        "To concatenate, or combine, two strings you can use the \"+\" operator."
      ]
    },
    {
      "cell_type": "code",
      "execution_count": null,
      "metadata": {
        "colab": {
          "base_uri": "https://localhost:8080/"
        },
        "id": "oF-WfNwA40kj",
        "outputId": "d40f954d-f6af-4964-b4e1-25d007d04d82"
      },
      "outputs": [
        {
          "name": "stdout",
          "output_type": "stream",
          "text": [
            "String Concatenation\n"
          ]
        }
      ],
      "source": [
        "x = \"String\"\n",
        "y = \"Concatenation\"\n",
        "# print(x + y)\n",
        "z = x + \" \" + y  #z = StringConcatenation\n",
        "\n",
        "print(z)"
      ]
    },
    {
      "cell_type": "markdown",
      "metadata": {
        "id": "XcjBfQarvPQU"
      },
      "source": [
        "# **Strings are Arrays:**\n",
        "\n",
        "Like many other popular programming languages, strings in Python are arrays of bytes representing unicode characters.\n",
        "\n",
        "However, Python does not have a character data type, a single character is simply a string with a length of 1.\n",
        "\n",
        "Square brackets can be used to access elements of the string."
      ]
    },
    {
      "cell_type": "code",
      "execution_count": null,
      "metadata": {
        "colab": {
          "base_uri": "https://localhost:8080/"
        },
        "id": "EhGjURYAvmFz",
        "outputId": "530686f8-e11c-4f94-ccc7-2b0e76f69b20"
      },
      "outputs": [
        {
          "name": "stdout",
          "output_type": "stream",
          "text": [
            "140508384916784\n"
          ]
        }
      ],
      "source": [
        "x = \"Hello\"\n",
        "# print(x[4])\n",
        "# print(x[0])\n",
        "print(id(x))\n",
        "\n",
        "# print(id(x[0]))\n",
        "# print(id(x[1]))\n",
        "# message = \"\"\"Hello there, I am learning\n",
        "# python programming language!\"\"\"\n",
        "# print(message[6])\n"
      ]
    },
    {
      "cell_type": "code",
      "execution_count": null,
      "metadata": {
        "colab": {
          "base_uri": "https://localhost:8080/"
        },
        "id": "rjJxefw4hqYb",
        "outputId": "5143aa45-a6d3-4eb8-91bf-e1f15f9d4269"
      },
      "outputs": [
        {
          "name": "stdout",
          "output_type": "stream",
          "text": [
            "140092427620976\n",
            "9794848\n",
            "140092444731184\n"
          ]
        }
      ],
      "source": [
        "x = \"Enter\"\n",
        "print(id(x))\n",
        "print(id(x[0]))"
      ]
    },
    {
      "cell_type": "markdown",
      "metadata": {
        "id": "5NDKxFHmwwO1"
      },
      "source": [
        "# **String Length**\n",
        "\n",
        "\n",
        "To get the length of a string, use the len() function."
      ]
    },
    {
      "cell_type": "code",
      "execution_count": null,
      "metadata": {
        "colab": {
          "base_uri": "https://localhost:8080/"
        },
        "id": "5Hc-oM43w4Nm",
        "outputId": "9e57037e-7390-42c8-eef6-e7183b17958a"
      },
      "outputs": [
        {
          "name": "stdout",
          "output_type": "stream",
          "text": [
            "27\n",
            "27\n"
          ]
        }
      ],
      "source": [
        "string = \"Python Programming Language\"\n",
        "# print(string[2])\n",
        "print(len(string))\n",
        "x = len(string)\n",
        "print(x)\n"
      ]
    },
    {
      "cell_type": "markdown",
      "metadata": {
        "id": "qs9LxCCA8vKo"
      },
      "source": [
        "# **String Index:**\n",
        "\n",
        "We can use index() method to find the index of a specific character or substring in a string."
      ]
    },
    {
      "cell_type": "code",
      "execution_count": null,
      "metadata": {
        "id": "zAO5aHoJ9l-S"
      },
      "outputs": [],
      "source": [
        "string = \"Python Programming\"\n",
        "print(string.index(\"Po\"))\n",
        "index = string.index(\"y\")\n",
        "# print(index)"
      ]
    },
    {
      "cell_type": "markdown",
      "metadata": {
        "id": "vEVS3Jl9wE1q"
      },
      "source": [
        "# **Looping Through a String:**\n",
        "\n",
        "Since strings are arrays, we can loop through the characters in a string, with a for loop."
      ]
    },
    {
      "cell_type": "code",
      "execution_count": null,
      "metadata": {
        "colab": {
          "base_uri": "https://localhost:8080/"
        },
        "id": "A9MFACUOwUcz",
        "outputId": "859f6854-40e5-44c8-9cbe-2ee212252d1b"
      },
      "outputs": [
        {
          "name": "stdout",
          "output_type": "stream",
          "text": [
            "h\n",
            "e\n",
            "l\n",
            "l\n",
            "o\n",
            "+\n"
          ]
        }
      ],
      "source": [
        "for iterator in \"hello+\":\n",
        "  print(iterator)\n",
        "# for x in \"Python\":\n",
        "#   print(\"1\")"
      ]
    },
    {
      "cell_type": "markdown",
      "metadata": {
        "id": "DfBM0tzBwmcv"
      },
      "source": [
        "#**Membership Operators**\n",
        "\n",
        "Membership operators are used to test if a sequence is presented in an object\n",
        "\n",
        "`in` Returns \"True\" if a sequence with the specified value is present in the object\n",
        "\n",
        "`not in` Returns \"True\" if a sequence with the specified value is not present in the object"
      ]
    },
    {
      "cell_type": "code",
      "execution_count": null,
      "metadata": {
        "colab": {
          "base_uri": "https://localhost:8080/"
        },
        "id": "_jFVH4WAxhGP",
        "outputId": "349ca8cc-0eb3-408e-9305-6e145665f1d1"
      },
      "outputs": [
        {
          "name": "stdout",
          "output_type": "stream",
          "text": [
            "True\n"
          ]
        }
      ],
      "source": [
        "x = \"How to use membership operator\"\n",
        "# print(\"o\" in x)\n",
        "\n",
        "print(\"Yes\" not in \"Python\")"
      ]
    },
    {
      "cell_type": "markdown",
      "metadata": {
        "id": "qeQ1LVmHxgO9"
      },
      "source": [
        "# **Slicing**\n",
        "You can return a range of characters by using the slice syntax.\n",
        "\n",
        "Specify the start index and the end index, separated by a colon, to return a part of the string.\n",
        "There are three values separated by a colon(:) that can be used in slicing. And all of them are optional.\n",
        "\n",
        "Syntax= string[start:end:step]"
      ]
    },
    {
      "cell_type": "code",
      "execution_count": null,
      "metadata": {
        "colab": {
          "base_uri": "https://localhost:8080/"
        },
        "id": "7I7mL8NNye5W",
        "outputId": "efade36f-2183-43f4-af29-83df459d61d0"
      },
      "outputs": [
        {
          "name": "stdout",
          "output_type": "stream",
          "text": [
            "lo\n"
          ]
        }
      ],
      "source": [
        "x = \"Hello\"\n",
        "# print(x[:])\n",
        "print(x[2::2])\n"
      ]
    },
    {
      "cell_type": "code",
      "execution_count": null,
      "metadata": {
        "colab": {
          "base_uri": "https://localhost:8080/"
        },
        "id": "Unx_SaBZ0Ida",
        "outputId": "a576d81d-ed1d-4553-e8a1-31da2c507e3b"
      },
      "outputs": [
        {
          "name": "stdout",
          "output_type": "stream",
          "text": [
            "learning about string slicing.\n"
          ]
        }
      ],
      "source": [
        "string = \"We are learning about string slicing.\"\n",
        "# print(len(string))\n",
        "# print(string.index(\" \"))\n",
        "# print(string[2])\n",
        "# print(string[4])\n",
        "# print(string[3:9:2])\n",
        "# print(string[:36:3])\n",
        "print(string[7::])"
      ]
    },
    {
      "cell_type": "markdown",
      "metadata": {
        "id": "qeQ2Y-jz0iR5"
      },
      "source": [
        "# Negative Indexing\n",
        "Use negative indexes to start the slice from the end of the string:"
      ]
    },
    {
      "cell_type": "code",
      "execution_count": null,
      "metadata": {
        "colab": {
          "base_uri": "https://localhost:8080/"
        },
        "id": "9VSVNbpW0oig",
        "outputId": "e9589024-d63e-475f-f1d0-caa1f45e6d15"
      },
      "outputs": [
        {
          "name": "stdout",
          "output_type": "stream",
          "text": [
            "olH\n"
          ]
        }
      ],
      "source": [
        "x = \"Hello\"\n",
        "# print(x[-1])\n",
        "# print(x[:-1:])\n",
        "# print(x[-2:-1])\n",
        "print(x[::-2])"
      ]
    },
    {
      "cell_type": "markdown",
      "metadata": {
        "id": "v7QF7_Wy1Esi"
      },
      "source": [
        "# **String Methods:**\n",
        "Python has a set of built-in methods that you can use on strings.\n",
        "\n",
        "**Upper Case**\n",
        "\n",
        "The upper() method returns the string in upper case:\n",
        "\n",
        "**Lower Case**\n",
        "\n",
        "The lower() method returns the string in lower case:\n",
        "\n",
        "**Capitalize**\n",
        "\n",
        "The capitalize() method returns the string with first character capitalized:\n",
        "\n",
        "\n",
        "**Sorted**\n",
        "\n",
        "The sorted function is used to sort the string alphabatically.\n",
        "\n",
        "**Join**\n",
        "\n",
        "join() is used to join characters of a list in the form of string separated by the specified character.\n"
      ]
    },
    {
      "cell_type": "code",
      "execution_count": null,
      "metadata": {
        "id": "dLOcpgp11wyG"
      },
      "outputs": [],
      "source": [
        "x = \"python\"\n",
        "print(x.upper())\n",
        "# string1 = \"ProgrAmmiNg\"\n",
        "# # print(string1.lower())\n",
        "# print(string.capitalize())"
      ]
    },
    {
      "cell_type": "code",
      "execution_count": null,
      "metadata": {
        "colab": {
          "base_uri": "https://localhost:8080/"
        },
        "id": "pmRHWJnnPbr7",
        "outputId": "f279482c-fce1-47bc-afaf-ca4c022f6046"
      },
      "outputs": [
        {
          "name": "stdout",
          "output_type": "stream",
          "text": [
            "p y t h o n\n",
            "hnopty\n"
          ]
        }
      ],
      "source": [
        "string = \"python\"\n",
        "# print(sorted(string))   #returns string in the form of a sorted list\n",
        "x = \" \".join(string)\n",
        "print(x)\n",
        "print(\"\".join(sorted(string)))\n",
        "# print(y)    #returns sorted string\n",
        "# string1 = \"Who are you?\"\n",
        "# print(sorted(string1))"
      ]
    },
    {
      "cell_type": "markdown",
      "metadata": {
        "id": "2jPDQqnQS25D"
      },
      "source": [
        "**Count**\n",
        "\n",
        "The count method is used to count the occurences of a specific character or substring in a string.\n",
        "\n",
        "**endswith**\n",
        "\n",
        "It checks whether a string ends with a specified character.\n",
        "\n",
        "**startswith**\n",
        "\n",
        "It checks whether a string starts with a specified character.\n",
        "\n",
        "**endswith**\n",
        "\n",
        "It checks whether a string ends with a specified character.\n",
        "\n",
        "**find**\n",
        "\n",
        "It checks at what position a specified character is present."
      ]
    },
    {
      "cell_type": "code",
      "execution_count": null,
      "metadata": {
        "colab": {
          "base_uri": "https://localhost:8080/"
        },
        "id": "oGF20sECSTkz",
        "outputId": "20d16b6d-77af-4a07-e858-901f17aef10d"
      },
      "outputs": [
        {
          "name": "stdout",
          "output_type": "stream",
          "text": [
            "0\n"
          ]
        }
      ],
      "source": [
        "a = \"Hello, World!\"\n",
        "print(a.count(\"i\"))\n",
        "b = \"lHello\"\n",
        "# print(b.endswith(\"lio\"))\n",
        "# print(b.startswith(\"h\"))\n",
        "# print(b.find(\"n\"))"
      ]
    },
    {
      "cell_type": "markdown",
      "metadata": {
        "id": "ivv0Xwwpg5A1"
      },
      "source": [
        "**Escape Character:**\n",
        "\n",
        "To insert characters that are illegal in a string, use an escape character.\n",
        "\n",
        "An escape character is a backslash \\ followed by the character you want to insert.\n",
        "\n",
        "An example of an illegal character is a double quote inside a string that is surrounded by double quotes:"
      ]
    },
    {
      "cell_type": "code",
      "execution_count": null,
      "metadata": {
        "colab": {
          "base_uri": "https://localhost:8080/"
        },
        "id": "-vbivfHjhQ5z",
        "outputId": "07e8e3a3-ed21-430e-8165-f3819da03d66"
      },
      "outputs": [
        {
          "name": "stdout",
          "output_type": "stream",
          "text": [
            "Do you know how to use \t illegal charcters \n",
            " in python?\n"
          ]
        }
      ],
      "source": [
        "string = 'Do you know how to use \\t illegal charcters \\n in python?'\n",
        "print(string)"
      ]
    },
    {
      "cell_type": "markdown",
      "metadata": {
        "id": "ga6F5BGohr3R"
      },
      "source": [
        "**Formatted String: (f-string)**\n",
        "\n",
        "The format() method formats the specified value(s) and insert them inside the string's placeholder. The placeholder is defined using curly brackets: {}."
      ]
    },
    {
      "cell_type": "code",
      "execution_count": null,
      "metadata": {
        "colab": {
          "base_uri": "https://localhost:8080/"
        },
        "id": "MIueCIa1iAyO",
        "outputId": "3ec7c6b3-7954-4f65-94f6-71dfd73ef8d0"
      },
      "outputs": [
        {
          "name": "stdout",
          "output_type": "stream",
          "text": [
            "I don't know programming\n",
            "I don't know swimming\n",
            "I don't know 1\n",
            "My name is Ali\n"
          ]
        }
      ],
      "source": [
        "#print(\"Hi, {}\".format(\"Ahmad\"))\n",
        "x = \"I don't know {}\"\n",
        "print(x.format(\"programming\"))\n",
        "print(x.format(\"swimming\"))\n",
        "print(x.format(\"1\"))\n",
        "\n",
        "\n",
        "a = \"Ali\"\n",
        "print(f\"My name is {a}\")\n"
      ]
    },
    {
      "cell_type": "markdown",
      "metadata": {
        "id": "kX1XtKHd2Evf"
      },
      "source": [
        "# **Remove Whitespaces:**\n",
        "Whitespace is the space before and/or after the actual text, and very often you want to remove this space.\n",
        "\n",
        "The strip() method removes any whitespace from the beginning or the end:"
      ]
    },
    {
      "cell_type": "code",
      "execution_count": null,
      "metadata": {
        "colab": {
          "base_uri": "https://localhost:8080/"
        },
        "id": "L0kONM4n2R8u",
        "outputId": "25c0861c-3e90-4469-d3c5-151a0e484176"
      },
      "outputs": [
        {
          "output_type": "stream",
          "name": "stdout",
          "text": [
            "Hello World!\n",
            "Hello World!\n"
          ]
        }
      ],
      "source": [
        "x = \"Hello World!\"\n",
        "print(x)\n",
        "#print(x.strip(\"H\"))\n",
        "#print(x.lstrip()) #l for left  strip()\n",
        "print(x.rstrip(\"d\"))  #(r for right)\n"
      ]
    },
    {
      "cell_type": "markdown",
      "metadata": {
        "id": "VydXo9Hv3M_J"
      },
      "source": [
        "# **Replace String:**\n",
        "The replace() method replaces a string with another string:"
      ]
    },
    {
      "cell_type": "code",
      "execution_count": null,
      "metadata": {
        "colab": {
          "base_uri": "https://localhost:8080/"
        },
        "id": "G7BQYSGk3ZWX",
        "outputId": "ac46b93d-541e-462d-e57c-6cd21229d4be"
      },
      "outputs": [
        {
          "name": "stdout",
          "output_type": "stream",
          "text": [
            "xHelloxthere!\n"
          ]
        }
      ],
      "source": [
        "string = \" Hello there!\"\n",
        "print(string.replace(\" \", \"x\"))"
      ]
    },
    {
      "cell_type": "markdown",
      "metadata": {
        "id": "IPlOgeqd3yAF"
      },
      "source": [
        "# **Split String:**\n",
        "The split() method returns a list where the text between the specified separator becomes the list items."
      ]
    },
    {
      "cell_type": "code",
      "execution_count": null,
      "metadata": {
        "id": "Wn8yjstN37Li",
        "colab": {
          "base_uri": "https://localhost:8080/"
        },
        "outputId": "04427dd6-5194-4475-da6a-90cadd6f40cd"
      },
      "outputs": [
        {
          "output_type": "stream",
          "name": "stdout",
          "text": [
            "We can u e   plit method to change our  tring into a li t.\n",
            "['We can uses split method to change our string into a list.']\n",
            "<class 'list'>\n"
          ]
        }
      ],
      "source": [
        "message = \"We can uses split method to change our string into a list.\"\n",
        "print(\" \".join(message.split(\"s\")))\n",
        "print(message.split(\"pakistan\"))\n",
        "print(type(message.split(\"pakistan\")))"
      ]
    },
    {
      "cell_type": "markdown",
      "metadata": {
        "id": "E90ReUJabk5Y"
      },
      "source": [
        "**Reverse of a string:**\n",
        "\n",
        "reversed() function is used to get the reverse of a specified string."
      ]
    },
    {
      "cell_type": "code",
      "execution_count": null,
      "metadata": {
        "id": "K0y8kOAnbzs0",
        "colab": {
          "base_uri": "https://localhost:8080/"
        },
        "outputId": "2c9b2d41-4c8f-4bdc-ee52-98ba8300d354"
      },
      "outputs": [
        {
          "output_type": "stream",
          "name": "stdout",
          "text": [
            "!ereht olleH\n"
          ]
        }
      ],
      "source": [
        "a = \"Hello there!\"\n",
        "print(\"\".join(reversed(a)))"
      ]
    },
    {
      "cell_type": "markdown",
      "metadata": {
        "id": "-eIKt-flaMcf"
      },
      "source": [
        "# **String:**\n",
        "\n",
        "**Strings are not mutable in Python.** Strings are a immutable data types which means that its value cannot be updated."
      ]
    },
    {
      "cell_type": "code",
      "execution_count": null,
      "metadata": {
        "id": "ZAJyloHbcwhV"
      },
      "outputs": [],
      "source": [
        "string = \"Strings are immutable\"\n",
        "string[0] = \"i\"\n",
        "print(string)"
      ]
    }
  ]
}