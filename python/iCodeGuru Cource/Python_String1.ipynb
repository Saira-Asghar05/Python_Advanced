{
  "nbformat": 4,
  "nbformat_minor": 0,
  "metadata": {
    "colab": {
      "provenance": []
    },
    "kernelspec": {
      "name": "python3",
      "display_name": "Python 3"
    },
    "language_info": {
      "name": "python"
    }
  },
  "cells": [
    {
      "cell_type": "markdown",
      "metadata": {
        "id": "ZjU1vE_8mFH1"
      },
      "source": [
        "#**Python Strings**\n",
        "\n",
        "Strings in python are surrounded by either single quotation marks, or double quotation marks.\n",
        "\n",
        "You can display a string literal with the `print()` function"
      ]
    },
    {
      "cell_type": "code",
      "source": [
        "\n",
        "x = \"Python\"\n",
        "print(x)\n",
        "y = 'Programming'\n",
        "print(y)\n"
      ],
      "metadata": {
        "id": "os7Zj6bCtw70",
        "colab": {
          "base_uri": "https://localhost:8080/"
        },
        "outputId": "7e84c3a2-9aba-4c09-f42b-0598017944bf"
      },
      "execution_count": null,
      "outputs": [
        {
          "output_type": "stream",
          "name": "stdout",
          "text": [
            "Pytho'n\n",
            "Programm'ing\n"
          ]
        }
      ]
    },
    {
      "cell_type": "markdown",
      "source": [
        "# **Multiline Strings**\n",
        "\n",
        "\n",
        "You can assign a multiline string to a variable by using three quotes or three single quotes:\n",
        "\n",
        "The line breaks are inserted at the same position as in the code.\n",
        "\n"
      ],
      "metadata": {
        "id": "UgeAJh4et7fq"
      }
    },
    {
      "cell_type": "code",
      "source": [
        "message1 = \"\"\"Hello there, I am learning\n",
        "python programming language!\"\"\"\n",
        "print(message1)\n",
        "message2 = '''\n",
        "\n",
        "Now, we are learning about \n",
        "multiline string'''\n",
        "print(message2)"
      ],
      "metadata": {
        "id": "uSlo8847ufCF",
        "colab": {
          "base_uri": "https://localhost:8080/"
        },
        "outputId": "7aa638c4-f8df-4c0a-c929-35602acbc74f"
      },
      "execution_count": null,
      "outputs": [
        {
          "output_type": "stream",
          "name": "stdout",
          "text": [
            "Hello there, I am learning\n",
            "python programming language!\n",
            "\n",
            "\n",
            "Now, we are learning about \n",
            "multiline string\n"
          ]
        }
      ]
    },
    {
      "cell_type": "markdown",
      "source": [
        "# **String Concatenation**\n",
        "To concatenate, or combine, two strings you can use the \"+\" operator."
      ],
      "metadata": {
        "id": "TwepLN044vdr"
      }
    },
    {
      "cell_type": "code",
      "source": [
        "x = \"String\"\n",
        "y = \"Concatenation\"\n",
        "# print(x + y)\n",
        "z = x + \" \" + y  #z = StringConcatenation\n",
        "\n",
        "print(z)"
      ],
      "metadata": {
        "id": "oF-WfNwA40kj",
        "colab": {
          "base_uri": "https://localhost:8080/"
        },
        "outputId": "d40f954d-f6af-4964-b4e1-25d007d04d82"
      },
      "execution_count": null,
      "outputs": [
        {
          "output_type": "stream",
          "name": "stdout",
          "text": [
            "String Concatenation\n"
          ]
        }
      ]
    },
    {
      "cell_type": "markdown",
      "source": [
        "# **Strings are Arrays:**\n",
        "\n",
        "Like many other popular programming languages, strings in Python are arrays of bytes representing unicode characters.\n",
        "\n",
        "However, Python does not have a character data type, a single character is simply a string with a length of 1.\n",
        "\n",
        "Square brackets can be used to access elements of the string."
      ],
      "metadata": {
        "id": "XcjBfQarvPQU"
      }
    },
    {
      "cell_type": "code",
      "source": [
        "x = \"Hello\"\n",
        "print(x[4])\n",
        "print(x[0])\n",
        "# print(id(x))\n",
        "# print(id(x[0]))\n",
        "# print(id(x[4]))\n",
        "message = \"\"\"Hello there, I am learning\n",
        "python programming language!\"\"\"\n",
        "print(message[6])\n"
      ],
      "metadata": {
        "id": "EhGjURYAvmFz",
        "colab": {
          "base_uri": "https://localhost:8080/"
        },
        "outputId": "1edd1128-7360-4594-b513-9a0139b51559"
      },
      "execution_count": null,
      "outputs": [
        {
          "output_type": "stream",
          "name": "stdout",
          "text": [
            "o\n",
            "H\n",
            "t\n"
          ]
        }
      ]
    },
    {
      "cell_type": "markdown",
      "source": [
        "# **String Length**\n",
        "\n",
        "\n",
        "To get the length of a string, use the len() function."
      ],
      "metadata": {
        "id": "5NDKxFHmwwO1"
      }
    },
    {
      "cell_type": "code",
      "source": [
        "string = \"Python Programming Language\"\n",
        "# print(string[2])\n",
        "# print(len(string))\n",
        "# x = len(string)\n",
        "# print(type(x))\n",
        "x = 100000988\n",
        "print(x)"
      ],
      "metadata": {
        "id": "5Hc-oM43w4Nm",
        "colab": {
          "base_uri": "https://localhost:8080/"
        },
        "outputId": "1ac57783-d0ee-4f63-e033-f9d22f1b33db"
      },
      "execution_count": null,
      "outputs": [
        {
          "output_type": "stream",
          "name": "stdout",
          "text": [
            "100000988\n"
          ]
        }
      ]
    }
  ]
}