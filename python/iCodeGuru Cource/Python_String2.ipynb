{
  "nbformat": 4,
  "nbformat_minor": 0,
  "metadata": {
    "colab": {
      "provenance": []
    },
    "kernelspec": {
      "name": "python3",
      "display_name": "Python 3"
    },
    "language_info": {
      "name": "python"
    }
  },
  "cells": [
    {
      "cell_type": "markdown",
      "source": [
        "# **String Index:**\n",
        "\n",
        "We can use index() method to find the index of a specific character or substring in a string."
      ],
      "metadata": {
        "id": "qs9LxCCA8vKo"
      }
    },
    {
      "cell_type": "code",
      "source": [
        "string = \"Python Programming\"\n",
        "print(string.index(\"Po\"))\n",
        "index = string.index(\"y\")\n",
        "# print(index)"
      ],
      "metadata": {
        "id": "zAO5aHoJ9l-S",
        "colab": {
          "base_uri": "https://localhost:8080/",
          "height": 217
        },
        "outputId": "3bea4ac0-8459-4264-afcb-8d9525458cf5"
      },
      "execution_count": null,
      "outputs": [
        {
          "output_type": "error",
          "ename": "ValueError",
          "evalue": "ignored",
          "traceback": [
            "\u001b[0;31m---------------------------------------------------------------------------\u001b[0m",
            "\u001b[0;31mValueError\u001b[0m                                Traceback (most recent call last)",
            "\u001b[0;32m<ipython-input-39-f16e2c918720>\u001b[0m in \u001b[0;36m<module>\u001b[0;34m\u001b[0m\n\u001b[1;32m      1\u001b[0m \u001b[0mstring\u001b[0m \u001b[0;34m=\u001b[0m \u001b[0;34m\"Python Programming\"\u001b[0m\u001b[0;34m\u001b[0m\u001b[0;34m\u001b[0m\u001b[0m\n\u001b[0;32m----> 2\u001b[0;31m \u001b[0mprint\u001b[0m\u001b[0;34m(\u001b[0m\u001b[0mstring\u001b[0m\u001b[0;34m.\u001b[0m\u001b[0mindex\u001b[0m\u001b[0;34m(\u001b[0m\u001b[0;34m\"Po\"\u001b[0m\u001b[0;34m)\u001b[0m\u001b[0;34m)\u001b[0m\u001b[0;34m\u001b[0m\u001b[0;34m\u001b[0m\u001b[0m\n\u001b[0m\u001b[1;32m      3\u001b[0m \u001b[0mindex\u001b[0m \u001b[0;34m=\u001b[0m \u001b[0mstring\u001b[0m\u001b[0;34m.\u001b[0m\u001b[0mindex\u001b[0m\u001b[0;34m(\u001b[0m\u001b[0;34m\"y\"\u001b[0m\u001b[0;34m)\u001b[0m\u001b[0;34m\u001b[0m\u001b[0;34m\u001b[0m\u001b[0m\n\u001b[1;32m      4\u001b[0m \u001b[0;31m# print(index)\u001b[0m\u001b[0;34m\u001b[0m\u001b[0;34m\u001b[0m\u001b[0;34m\u001b[0m\u001b[0m\n",
            "\u001b[0;31mValueError\u001b[0m: substring not found"
          ]
        }
      ]
    },
    {
      "cell_type": "markdown",
      "source": [
        "# **Looping Through a String:**\n",
        "\n",
        "Since strings are arrays, we can loop through the characters in a string, with a for loop."
      ],
      "metadata": {
        "id": "vEVS3Jl9wE1q"
      }
    },
    {
      "cell_type": "code",
      "source": [
        "for iterator in \"hello+\":\n",
        "  print(iterator)\n",
        "# for x in \"Python\":\n",
        "#   print(\"1\")"
      ],
      "metadata": {
        "id": "A9MFACUOwUcz",
        "colab": {
          "base_uri": "https://localhost:8080/"
        },
        "outputId": "859f6854-40e5-44c8-9cbe-2ee212252d1b"
      },
      "execution_count": null,
      "outputs": [
        {
          "output_type": "stream",
          "name": "stdout",
          "text": [
            "h\n",
            "e\n",
            "l\n",
            "l\n",
            "o\n",
            "+\n"
          ]
        }
      ]
    },
    {
      "cell_type": "markdown",
      "source": [
        "#**Membership Operators**\n",
        "\n",
        "Membership operators are used to test if a sequence is presented in an object\n",
        "\n",
        "`in` Returns \"True\" if a sequence with the specified value is present in the object\n",
        "\n",
        "`not in` Returns \"True\" if a sequence with the specified value is not present in the object"
      ],
      "metadata": {
        "id": "DfBM0tzBwmcv"
      }
    },
    {
      "cell_type": "code",
      "source": [
        "x = \"How to use membership operator\"\n",
        "# print(\"o\" in x)\n",
        "\n",
        "print(\"Yes\" not in \"Python\")"
      ],
      "metadata": {
        "id": "_jFVH4WAxhGP",
        "colab": {
          "base_uri": "https://localhost:8080/"
        },
        "outputId": "349ca8cc-0eb3-408e-9305-6e145665f1d1"
      },
      "execution_count": null,
      "outputs": [
        {
          "output_type": "stream",
          "name": "stdout",
          "text": [
            "True\n"
          ]
        }
      ]
    },
    {
      "cell_type": "markdown",
      "source": [
        "# **Slicing**\n",
        "You can return a range of characters by using the slice syntax.\n",
        "\n",
        "Specify the start index and the end index, separated by a colon, to return a part of the string.\n",
        "There are three values separated by a colon(:) that can be used in slicing. And all of them are optional.\n",
        "\n",
        "Syntax= string[start:end:step]"
      ],
      "metadata": {
        "id": "qeQ1LVmHxgO9"
      }
    },
    {
      "cell_type": "code",
      "source": [
        "x = \"Hello\"\n",
        "# print(x[:])\n",
        "print(x[2::2])\n"
      ],
      "metadata": {
        "id": "7I7mL8NNye5W",
        "colab": {
          "base_uri": "https://localhost:8080/"
        },
        "outputId": "a81236de-d7f3-48b7-abee-eb2e34db0314"
      },
      "execution_count": null,
      "outputs": [
        {
          "output_type": "stream",
          "name": "stdout",
          "text": [
            "lo\n"
          ]
        }
      ]
    },
    {
      "cell_type": "code",
      "source": [
        "string = \"We are learning about string slicing.\"\n",
        "# print(len(string))\n",
        "# print(string.index(\" \"))\n",
        "# print(string[2])\n",
        "# print(string[4])\n",
        "# print(string[3:9:2])\n",
        "# print(string[:36:3])\n",
        "print(string[7::])"
      ],
      "metadata": {
        "id": "Unx_SaBZ0Ida",
        "colab": {
          "base_uri": "https://localhost:8080/"
        },
        "outputId": "a576d81d-ed1d-4553-e8a1-31da2c507e3b"
      },
      "execution_count": null,
      "outputs": [
        {
          "output_type": "stream",
          "name": "stdout",
          "text": [
            "learning about string slicing.\n"
          ]
        }
      ]
    },
    {
      "cell_type": "markdown",
      "source": [
        "# Negative Indexing\n",
        "Use negative indexes to start the slice from the end of the string:"
      ],
      "metadata": {
        "id": "qeQ2Y-jz0iR5"
      }
    },
    {
      "cell_type": "code",
      "source": [
        "x = \"Hello\"\n",
        "# print(x[-1])\n",
        "# print(x[:-1:])\n",
        "print(x[::-1])"
      ],
      "metadata": {
        "id": "9VSVNbpW0oig",
        "colab": {
          "base_uri": "https://localhost:8080/"
        },
        "outputId": "dcccc6ab-4b46-4476-dabb-7a60df7dd0c1"
      },
      "execution_count": null,
      "outputs": [
        {
          "output_type": "stream",
          "name": "stdout",
          "text": [
            "olleH\n"
          ]
        }
      ]
    }
  ]
}