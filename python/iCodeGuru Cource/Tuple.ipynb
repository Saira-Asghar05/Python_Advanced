{
  "nbformat": 4,
  "nbformat_minor": 0,
  "metadata": {
    "colab": {
      "provenance": []
    },
    "kernelspec": {
      "name": "python3",
      "display_name": "Python 3"
    },
    "language_info": {
      "name": "python"
    }
  },
  "cells": [
    {
      "cell_type": "markdown",
      "source": [
        "#**Tuple**\n",
        "\n",
        "Tuples are used to store multiple items in a single variable.\n",
        "\n",
        "A tuple is a collection which is ordered and unchangeable.\n",
        "\n",
        "Tuples are written with round brackets."
      ],
      "metadata": {
        "id": "QxBOmO5z91JS"
      }
    },
    {
      "cell_type": "code",
      "execution_count": null,
      "metadata": {
        "id": "b1Wcpj709wb7"
      },
      "outputs": [],
      "source": [
        "T1 = (\"Pakistan\", \"Nepal\", 5, 8.9, \"Sudan\")\n",
        "#print(T1)\n",
        "#print(type(T1))\n",
        "\n",
        "T2 = (\"India\",)\n",
        "print(type(T2))\n",
        "\n",
        "print(len(T1))"
      ]
    },
    {
      "cell_type": "markdown",
      "source": [
        "#**Accessing Tuple Elements**\n",
        "\n",
        "Items in the tuples can be accessed by entering the index number inside square bracket.\n",
        "\n",
        "The index can be a positive index, a negative index or a range of the indices."
      ],
      "metadata": {
        "id": "nTE6IuyU9-fj"
      }
    },
    {
      "cell_type": "code",
      "source": [
        "T1 = (\"Pakistan\", \"Nepal\", 5, 8.9, \"Sudan\", 55, \"Korea\", \"09\")\n",
        "#print(T1[-2])\n",
        "\n",
        "print(T1[-2:-5:-1])"
      ],
      "metadata": {
        "id": "5zYM1nyj-DxO"
      },
      "execution_count": null,
      "outputs": []
    },
    {
      "cell_type": "markdown",
      "source": [
        "#**Membership Operator in Tuple**\n",
        "\n",
        "To determine if a specified item is present in a tuple use the `in` keyword:"
      ],
      "metadata": {
        "id": "D-6zWSWk-Kzn"
      }
    },
    {
      "cell_type": "code",
      "source": [
        "T1 = (\"Pakistan\", \"Nepal\", 5, 8.9, \"Sudan\", 55, \"Korea\", \"09\")\n",
        "print(\"Pakistan\" not in T1)"
      ],
      "metadata": {
        "id": "vLLn1loA-LxV"
      },
      "execution_count": null,
      "outputs": []
    },
    {
      "cell_type": "markdown",
      "source": [
        "#**Update Tuples**\n",
        "\n",
        "Tuples are immutable. You can't add or remove items in it. However, there are some hacks to do that."
      ],
      "metadata": {
        "id": "ZFhdPmwk-Pu4"
      }
    },
    {
      "cell_type": "code",
      "source": [
        "# Method 1 to add items in a tuple\n",
        "T1 = (\"Pakistan\", \"Nepal\", 5, 8.9, \"Sudan\", 55, \"Korea\", \"09\")\n",
        "x = list(T1)\n",
        "x.append(\"Indonesia\")\n",
        "T1 = tuple(x)\n",
        "print(T1)\n",
        "\n",
        "\n"
      ],
      "metadata": {
        "id": "WWQSK7_D-bNz"
      },
      "execution_count": null,
      "outputs": []
    },
    {
      "cell_type": "code",
      "source": [
        "# Method 2 to add items in a tuple\n",
        "T1 = (\"Pakistan\", \"Nepal\", 5, 8.9, \"Sudan\", 55, \"Korea\", \"09\")\n",
        "T3 = (\"Python\",)\n",
        "T1 += T3   # T1 = T1+T3\n",
        "print(T1)"
      ],
      "metadata": {
        "id": "3KMonVDg-dw-"
      },
      "execution_count": null,
      "outputs": []
    },
    {
      "cell_type": "code",
      "source": [
        "# To remove items from tuple\n",
        "T1 = (\"Pakistan\", \"Nepal\", 5, 8.9, \"Sudan\", 55, \"Korea\", \"09\")\n",
        "x = list(T1)\n",
        "x.remove(\"Pakistan\")\n",
        "T1 = tuple(x)\n",
        "print(T1)"
      ],
      "metadata": {
        "id": "Xnr-AUL3-fgm"
      },
      "execution_count": null,
      "outputs": []
    },
    {
      "cell_type": "code",
      "source": [
        "# Delete a tuple\n",
        "T1 = (\"Pakistan\", \"Nepal\", 5, 8.9, \"Sudan\", 55, \"Korea\", \"09\")\n",
        "del T1\n",
        "print(T1)"
      ],
      "metadata": {
        "id": "Mrq0_dU5-jJS"
      },
      "execution_count": null,
      "outputs": []
    },
    {
      "cell_type": "markdown",
      "source": [
        "#**Unpacking a Tuple**\n",
        "\n",
        "When we assign values to a tuple, it is packing the tuple.\n",
        "\n",
        "We can also unpack the tuple and assign these values to different variables."
      ],
      "metadata": {
        "id": "vgCWLUXs-mtB"
      }
    },
    {
      "cell_type": "code",
      "source": [
        "T1 = (\"Pakistan\", \"Nepal\", 5, 8.9)\n",
        "var1, var2, var3, var4 = T1\n",
        "print(var1)\n",
        "print(var2)\n",
        "print(var3)\n",
        "print(var4)\n"
      ],
      "metadata": {
        "id": "1f9oifsU-qKW"
      },
      "execution_count": null,
      "outputs": []
    },
    {
      "cell_type": "code",
      "source": [
        "T1 = (\"Pakistan\", \"Nepal\", 5, 8.9, \"Sudan\", 55, \"Korea\", \"09\")\n",
        "var1, var2, var3, var4, *var5 = T1\n",
        "print(var3)\n",
        "print(var4)\n",
        "print(var5)"
      ],
      "metadata": {
        "id": "tkhMrwjQ-xh6"
      },
      "execution_count": null,
      "outputs": []
    },
    {
      "cell_type": "markdown",
      "source": [
        "#**Join Tuples**\n",
        "\n",
        "To join tuples, you can use `+` operator."
      ],
      "metadata": {
        "id": "r3i3Ee2f_kaY"
      }
    },
    {
      "cell_type": "code",
      "source": [
        "join1 = (3, 5, 7)\n",
        "join2 = (\"P\", \"A\", \"K\")\n",
        "join3 = (2, 4, 6)\n",
        "#join1 += join2 + join3\n",
        "print(join1+join3)"
      ],
      "metadata": {
        "id": "R0qUGUI8_lXg"
      },
      "execution_count": null,
      "outputs": []
    },
    {
      "cell_type": "markdown",
      "source": [
        "#**Multiply Tuples**\n",
        "\n",
        "If you want to multiply the content of a tuple a given number of times, you can use the `*` operator."
      ],
      "metadata": {
        "id": "zCEfg0el_3D6"
      }
    },
    {
      "cell_type": "code",
      "source": [
        "join2 = (\"P\", \"A\", \"K\")\n",
        "print(join2 * 2)\n",
        "\n",
        "join1 = (3, 5, 7)\n",
        "print(join1 * 5)"
      ],
      "metadata": {
        "id": "PTt9_4ah_4C0"
      },
      "execution_count": null,
      "outputs": []
    },
    {
      "cell_type": "markdown",
      "source": [
        "#**Tuple Methods**\n",
        "\n",
        "Python has two built-in methods for tuple.\n",
        "\n",
        "* `count()` method\n",
        "\n",
        "* `index()` method"
      ],
      "metadata": {
        "id": "dOcC0wIu_-ve"
      }
    },
    {
      "cell_type": "code",
      "source": [
        "T1 = (\"Pakistan\", \"Nepal\", 5, 8.9, \"Sudan\", 55, \"Korea\", \"09\", \"Sudan\")\n",
        "\n",
        "# count() method\n",
        "print(T1.count(\"Sudan\"))\n",
        "\n",
        "#index() method\n",
        "print(T1.index(5))"
      ],
      "metadata": {
        "id": "RhnSSls9__sl"
      },
      "execution_count": null,
      "outputs": []
    }
  ]
}