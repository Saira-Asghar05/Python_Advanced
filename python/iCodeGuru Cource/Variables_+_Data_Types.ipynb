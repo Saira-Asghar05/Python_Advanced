{
  "nbformat": 4,
  "nbformat_minor": 0,
  "metadata": {
    "colab": {
      "provenance": []
    },
    "kernelspec": {
      "name": "python3",
      "display_name": "Python 3"
    },
    "language_info": {
      "name": "python"
    }
  },
  "cells": [
    {
      "cell_type": "markdown",
      "source": [
        "# **Python Variables**\n",
        "Variables are containers for storing data values.\n",
        "\n",
        "Python has no command for declaring a variable. There is no need to write the data type of a variable before it. \n",
        "\n",
        "A variable is created the moment you first assign a value to it."
      ],
      "metadata": {
        "id": "MZs9KdyB_fXG"
      }
    },
    {
      "cell_type": "code",
      "source": [
        "x = 5 \n",
        "y = 10.3\n",
        "print('x')\n",
        "print(y)\n",
        "print(x,y)"
      ],
      "metadata": {
        "id": "Cpib25Ml_stE",
        "colab": {
          "base_uri": "https://localhost:8080/"
        },
        "outputId": "87c4a7d8-8fb9-49a1-bc2b-9ac61fe38434"
      },
      "execution_count": null,
      "outputs": [
        {
          "output_type": "stream",
          "name": "stdout",
          "text": [
            "x\n",
            "10.3\n",
            "5 10.3\n"
          ]
        }
      ]
    },
    {
      "cell_type": "code",
      "source": [
        "#a  ''''Icode', \"Guru\"'''\n",
        "b = 'Guru'\n",
        "print(a)\n",
        "print(b)\n",
        "print(a,',',b)"
      ],
      "metadata": {
        "id": "SoywE2W_L6p_",
        "colab": {
          "base_uri": "https://localhost:8080/"
        },
        "outputId": "73e3e2df-eefb-4cfb-fedd-9813671eca24"
      },
      "execution_count": null,
      "outputs": [
        {
          "output_type": "stream",
          "name": "stdout",
          "text": [
            "'Icode', \"Guru\"\n",
            "Guru\n",
            "'Icode', \"Guru\" , Guru\n"
          ]
        }
      ]
    },
    {
      "cell_type": "markdown",
      "source": [
        "# **Rules for assigning name to variable**\n",
        "\n",
        "\n",
        "\n",
        "*   A variable name must start with a letter or the underscore character and there must be no white space in a variable name\n",
        "*   A variable name cannot start with a number\n",
        "\n",
        "\n",
        "*   A variable name can only contain alpha-numeric characters and underscores (A-z, 0-9, and _ ). No special characters are allowed i.e. @icode , Python$ are the invalid variables.\n",
        "*   Variable names are case-sensitive (age, Age and AGE are three different variables)\n",
        "\n",
        "\n",
        "\n",
        "\n",
        "\n",
        "\n",
        "\n",
        "\n",
        "\n",
        "\n"
      ],
      "metadata": {
        "id": "8gU2jJmnAETK"
      }
    },
    {
      "cell_type": "code",
      "source": [
        "_myVar5 = \"iCodeGuru\"\n",
        "myVariableName = 95                 \n",
        "MyVariableName = 'Pakistan'         \n",
        "my_variable_name = 88.5 \n",
        "print(myVariableName)            "
      ],
      "metadata": {
        "id": "mgDIpGXDBL4_",
        "colab": {
          "base_uri": "https://localhost:8080/"
        },
        "outputId": "0a0d8da2-7ee2-4a81-a574-6b1c6a362375"
      },
      "execution_count": null,
      "outputs": [
        {
          "output_type": "stream",
          "name": "stdout",
          "text": [
            "95\n"
          ]
        }
      ]
    },
    {
      "cell_type": "markdown",
      "source": [
        "# **Assigning values to the variable:**\n",
        "\n",
        "\n",
        "\n",
        "\n",
        "* Assigning multiple values to multiple variables\n",
        "  \n",
        "*   Assigning one value to multiple variables\n",
        "\n",
        "\n"
      ],
      "metadata": {
        "id": "NrAxOhSVlbPu"
      }
    },
    {
      "cell_type": "markdown",
      "source": [
        "#**Multiple Values to Multiple Variables**\n",
        "\n",
        "Python allows you to assign values to multiple variables in one line."
      ],
      "metadata": {
        "id": "MtaIKigVepSo"
      }
    },
    {
      "cell_type": "code",
      "source": [
        "x, y, z = \"Orange\", 5, \"Apple\"\n",
        "print(x)\n",
        "print(y)\n",
        "print(z)\n",
        "a , b = 5 , 8\n",
        "print(a)\n",
        "print(b)\n"
      ],
      "metadata": {
        "id": "nkUQ51rSfMJf",
        "colab": {
          "base_uri": "https://localhost:8080/"
        },
        "outputId": "3f12cddb-d25a-4ff6-c4c3-d39a8ce293c4"
      },
      "execution_count": null,
      "outputs": [
        {
          "output_type": "stream",
          "name": "stdout",
          "text": [
            "Orange\n",
            "5\n",
            "Apple\n",
            "5\n",
            "8\n"
          ]
        }
      ]
    },
    {
      "cell_type": "markdown",
      "source": [
        "#**One Value to Multiple Variables**\n",
        "\n",
        "You can also assign the same value to multiple variables in one line."
      ],
      "metadata": {
        "id": "ZSskfCdYfxtp"
      }
    },
    {
      "cell_type": "code",
      "source": [
        "x = y = z = \"Orange\"\n",
        "print(x)\n",
        "print(y)\n",
        "print(z)\n",
        "a = b = c = 1\n",
        "print(a)\n",
        "print(b)\n",
        "print(c)"
      ],
      "metadata": {
        "id": "g52y2k8ulbqd",
        "colab": {
          "base_uri": "https://localhost:8080/"
        },
        "outputId": "e805c81c-d5a2-4c4e-b742-86687cd2c961"
      },
      "execution_count": null,
      "outputs": [
        {
          "output_type": "stream",
          "name": "stdout",
          "text": [
            "Orange\n",
            "Orange\n",
            "Orange\n",
            "1\n",
            "1\n",
            "1\n"
          ]
        }
      ]
    },
    {
      "cell_type": "code",
      "source": [
        "b = 2\n",
        "print(b)"
      ],
      "metadata": {
        "colab": {
          "base_uri": "https://localhost:8080/"
        },
        "id": "7nN8aIRQSfjX",
        "outputId": "25a7ae4c-9b25-42c3-8df0-3adfa7ef37ec"
      },
      "execution_count": null,
      "outputs": [
        {
          "output_type": "stream",
          "name": "stdout",
          "text": [
            "2\n"
          ]
        }
      ]
    },
    {
      "cell_type": "code",
      "source": [
        "#b = 45\n",
        "print(b)"
      ],
      "metadata": {
        "colab": {
          "base_uri": "https://localhost:8080/"
        },
        "id": "AbcJ_8KESjFg",
        "outputId": "4af7d090-02d1-4007-efef-1a9632d8a492"
      },
      "execution_count": null,
      "outputs": [
        {
          "output_type": "stream",
          "name": "stdout",
          "text": [
            "45\n"
          ]
        }
      ]
    },
    {
      "cell_type": "markdown",
      "source": [
        "#**Getting Address of a Variable**\n",
        "\n",
        "Use `id` function for it.\n",
        "\n",
        "The `id()` function returns a unique id for the specified object.\n",
        "\n",
        "All objects in Python has its own unique id.\n",
        "\n",
        "The `id` is assigned to the object when it is created.\n",
        "\n",
        "The `id` is the object's memory address, and will be different for each time you run the program."
      ],
      "metadata": {
        "id": "hFmVZ3AghCqi"
      }
    },
    {
      "cell_type": "code",
      "source": [
        "x = 5\n",
        "y = 5\n",
        "x = 10\n",
        "print(x)\n",
        "print(y)\n",
        "print(id(x))\n",
        "print(id(y))"
      ],
      "metadata": {
        "id": "wsHNCSSIhJUe"
      },
      "execution_count": null,
      "outputs": []
    },
    {
      "cell_type": "code",
      "source": [
        "x = \"Hello\"\n",
        "print(id(x))\n",
        "y = \"Hello1\"\n",
        "print(id(y))"
      ],
      "metadata": {
        "id": "PtjJ6vu3hNGI"
      },
      "execution_count": null,
      "outputs": []
    },
    {
      "cell_type": "markdown",
      "source": [
        "# **Data Types**\n",
        "Following are some built-in data types in Python:\n",
        "\n",
        "\n",
        "*   Text Type:  `str`\n",
        "*   Numeric Types:  `int`, `float`  \n",
        "*   Sequence Types: `list`, `tuple`\n",
        "*   Mapping Type: `dict`\n",
        "*   Set Type: `set`\n",
        "*   Boolean Type: `bool`\n",
        "\n",
        "\n",
        "\n",
        "\n",
        "\n",
        "\n",
        "\n",
        "---\n"
      ],
      "metadata": {
        "id": "SoC6N_abhR_v"
      }
    },
    {
      "cell_type": "code",
      "source": [
        "string_var = \"Programming\"\n",
        "first_var = 20\n",
        "float_var = 18.23\n",
        "bool_var = False\n",
        "\n",
        "print(string_var)\n",
        "print(first_var)\n",
        "print(float_var)\n",
        "print(bool_var)\n",
        "\n"
      ],
      "metadata": {
        "id": "hdbLE_TYhWhI"
      },
      "execution_count": null,
      "outputs": []
    },
    {
      "cell_type": "markdown",
      "source": [
        "**Getting the Data type**\n",
        "\n",
        "You can get the data type of any object by using the **type()** function:\n",
        "\n",
        "\n",
        "\n",
        "\n"
      ],
      "metadata": {
        "id": "pZPBYyojhdxE"
      }
    },
    {
      "cell_type": "code",
      "source": [
        "Var1 = 5\n",
        "var1 = 1\n",
        "print(var1)\n",
        "print(Var1)\n",
        "var2 = 2.5\n",
        "# print(type(var2))\n",
        "var3 = \"\"\"Hello\"\"\"\n",
        "# print(type(var3))\n",
        "# var4 = true\n",
        "# print(type(var4))"
      ],
      "metadata": {
        "id": "THyVRSz_hg8z"
      },
      "execution_count": null,
      "outputs": []
    },
    {
      "cell_type": "markdown",
      "source": [
        "# **Type Casting in Python**\n",
        "We can change the data type of a variable or a value.\n"
      ],
      "metadata": {
        "id": "mYstnlhRhmGX"
      }
    },
    {
      "cell_type": "code",
      "source": [
        "first = 10.5\n",
        "print(int(first))\n",
        "second = 90\n",
        "third = str(second)\n",
        "second"
      ],
      "metadata": {
        "id": "EgZSA4nnhqbm"
      },
      "execution_count": null,
      "outputs": []
    }
  ]
}